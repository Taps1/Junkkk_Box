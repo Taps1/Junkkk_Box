{
 "cells": [
  {
   "cell_type": "markdown",
   "metadata": {},
   "source": [
    "### Design Patterns"
   ]
  },
  {
   "cell_type": "markdown",
   "metadata": {},
   "source": [
    "A design pattern is a model solution to a common design problem. It describes the problem and a general approach to solving it."
   ]
  },
  {
   "cell_type": "markdown",
   "metadata": {},
   "source": [
    " - Creational Pattern -> Object Creation\n",
    " - Structural Pattern -> Object Relation\n",
    " - Behavioral Pattern -> Object Interaction & Responsibility"
   ]
  },
  {
   "cell_type": "markdown",
   "metadata": {},
   "source": [
    "### Solid Principles of OOPs"
   ]
  },
  {
   "cell_type": "markdown",
   "metadata": {},
   "source": [
    "- Single Responsibility: A class should have only 1 single responsibility\n",
    "- Open Closed: Open for extension and closed for modification\n",
    "- Liskov Substitution: Some classes should stand for its parent without breaking anything\n",
    "- Interface segregation: Many interfaces are better than having one interface doing all the stuff (We use abstract base classes in multiple inheritance to achieve this)\n",
    "- Dependency Inversion: We should work towards abstraction and not implementation\n"
   ]
  },
  {
   "cell_type": "markdown",
   "metadata": {},
   "source": [
    "#### Interfaces in Python:\n",
    "Interfaces can be achieved using Abstract Base classes"
   ]
  },
  {
   "cell_type": "code",
   "execution_count": 23,
   "metadata": {},
   "outputs": [],
   "source": [
    "import abc\n",
    "\n",
    "class MyABC(object):\n",
    "    \"\"\"\n",
    "    abstract base class definition\n",
    "    \"\"\"\n",
    "    __metaclass__ = abc.ABCMeta    # making this class as Abstract class\n",
    "    \n",
    "    @abc.abstractmethod\n",
    "    def action(self, value):\n",
    "        # required method\n",
    "        raise NotImplementedError(\"Method is not yet implemented\")\n",
    "        \n",
    "    @abc.abstractproperty\n",
    "    def some_property(self):\n",
    "        # Required property\n",
    "        raise NotImplementedError(\"Not set yet\")\n",
    "        \n",
    "## Concrete class implementation\n",
    "class MyClass(MyABC):\n",
    "    def __init__(self, value=None):\n",
    "        self._myprop = value\n",
    "        \n",
    "    def action(self, value):\n",
    "        # implementation of abstract method\n",
    "        self._myprop *= 2 + value\n",
    "        \n",
    "    @property\n",
    "    def some_property(self):\n",
    "        # implementation of abstract property\n",
    "        return self._myprop\n",
    "    \n",
    "class BadClass(MyABC):\n",
    "    def __init__(self, value=None):\n",
    "        self._myprop = value\n",
    "    \n",
    "    def new_action(self, value):\n",
    "        return value**2"
   ]
  },
  {
   "cell_type": "code",
   "execution_count": 29,
   "metadata": {},
   "outputs": [],
   "source": [
    "obj = MyClass(2)"
   ]
  },
  {
   "cell_type": "code",
   "execution_count": 31,
   "metadata": {},
   "outputs": [],
   "source": [
    "obj.action(3)"
   ]
  },
  {
   "cell_type": "code",
   "execution_count": 32,
   "metadata": {},
   "outputs": [
    {
     "data": {
      "text/plain": [
       "50"
      ]
     },
     "execution_count": 32,
     "metadata": {},
     "output_type": "execute_result"
    }
   ],
   "source": [
    "obj.some_property"
   ]
  },
  {
   "cell_type": "code",
   "execution_count": null,
   "metadata": {},
   "outputs": [],
   "source": []
  },
  {
   "cell_type": "code",
   "execution_count": null,
   "metadata": {},
   "outputs": [],
   "source": []
  },
  {
   "cell_type": "code",
   "execution_count": null,
   "metadata": {},
   "outputs": [],
   "source": []
  }
 ],
 "metadata": {
  "kernelspec": {
   "display_name": "Python 3 (ipykernel)",
   "language": "python",
   "name": "python3"
  },
  "language_info": {
   "codemirror_mode": {
    "name": "ipython",
    "version": 3
   },
   "file_extension": ".py",
   "mimetype": "text/x-python",
   "name": "python",
   "nbconvert_exporter": "python",
   "pygments_lexer": "ipython3",
   "version": "3.11.4"
  }
 },
 "nbformat": 4,
 "nbformat_minor": 4
}
