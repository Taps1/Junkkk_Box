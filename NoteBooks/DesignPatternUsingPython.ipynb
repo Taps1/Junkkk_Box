{
 "cells": [
  {
   "cell_type": "markdown",
   "metadata": {},
   "source": [
    "### Design Patterns"
   ]
  },
  {
   "cell_type": "markdown",
   "metadata": {},
   "source": [
    "A design pattern is a model solution to a common design problem. It describes the problem and a general approach to solving it."
   ]
  },
  {
   "cell_type": "markdown",
   "metadata": {},
   "source": [
    " - Creational Pattern -> Object Creation\n",
    " - Structural Pattern -> Object Relation (focuses on class & object composition)\n",
    " - Behavioral Pattern -> Object Interaction & Responsibility (focus on communication between objects)"
   ]
  },
  {
   "cell_type": "markdown",
   "metadata": {},
   "source": [
    "### Creational Pattern - \n",
    " - Protoype\n",
    " - Factory\n",
    " - Abstract Factory\n",
    " - Builder\n",
    " - Singleton \n",
    "\n",
    "#### Singleton - \n",
    " - Ensures only instance of class exists\n",
    " - Example Usecase - Database connection, Logging\n",
    "\n",
    "#### Factory method - \n",
    " - Provide a method to create objects without specifying object class\n",
    " - Object creation in frameworks\n",
    "\n",
    "#### Abstract Factory method -\n",
    " - Create factories that create objects of related families\n",
    " - UI components (Windows UI vs MAC UI)\n",
    "\n",
    "#### Builder - \n",
    " - Constructs complex objects step by step\n",
    " - Creating a complex HTML document\n",
    "\n",
    "#### Prototype - \n",
    " - Clones an existing object to create new ones\n",
    " - Copying game characters\n",
    "\n",
    "### Structural Patterns - \n",
    " - Adapter\n",
    " - Bridge\n",
    " - Composite\n",
    " - Decorator\n",
    " - Facade\n",
    " - Flyweight\n",
    " - Proxy\n",
    "\n",
    "#### Adapter -\n",
    " - Converts one interface to another\n",
    " - Connecting incompatible APIs\n",
    "\n",
    "#### Bridge - \n",
    " - Seperates abstraction from implementation\n",
    " - GUI framework for different OS\n",
    "\n",
    "#### Composite - \n",
    " - Treats a group of objects like a single object\n",
    " - File system (Files & Folders)\n",
    "\n",
    "#### Decorator -\n",
    " - Dynamically adds behaviour to an object\n",
    " - Logging, security checks\n",
    "\n",
    "#### Facade - \n",
    " - Provides a simplified interface for complex systems\n",
    " - Wrapping multiple APIs\n",
    "\n",
    "#### Flyweight -\n",
    " - Shares objects to reduce memory usage\n",
    " - Large scale text rendering\n",
    "\n",
    "#### Proxy - \n",
    " - Provides a placeholder or proxy for another object\n",
    " - Lazy loading, caching\n",
    "\n",
    "### Behavioral Patterns -\n",
    " - Mediator\n",
    " - Observer\n",
    " - Strategy\n",
    " - Iterator\n",
    " - State\n",
    " - Iterpreter\n",
    " - Chain of responsibility\n",
    " - Command\n",
    " - Memento\n",
    " - Template Method\n",
    " - Visitor\n",
    "\n",
    "#### Mediator - \n",
    " - Reduces communication between multiple objects\n",
    " - Chat application\n",
    "\n",
    "#### Observer -\n",
    " - Notifies subscribers when something changes\n",
    " - Event driven programming\n",
    "\n",
    "#### Strategy - \n",
    " - Allows switching between between different algorithms dynamically\n",
    " - Sorting (QuickSort, MergeSort)\n",
    "\n",
    "#### Interpreter -\n",
    " - Defines a grammer for interpreting sentences\n",
    " - SQL Query Parser\n",
    "\n",
    "#### State - \n",
    " - Changes behavior based on internal state\n",
    " - Traffic lights, Game AI\n",
    "\n",
    "#### Iterator -\n",
    " - Provides a way to traverse elements in a collection\n",
    " - Looping through a list\n",
    "\n",
    "#### Chain of responsibility - \n",
    " - Passes requests along a chain of handlers\n",
    " - Request filtering (Middleware)\n",
    "\n",
    "#### Command - \n",
    " - Encapsulates a request as an object\n",
    " - Undo/Redo, GUI buttons\n",
    "\n",
    "#### Memento -\n",
    " - Saves/restore an object's state\n",
    " - Saves game state\n",
    "\n",
    "#### Template Method -\n",
    " - Defines a skeleton for an algorithm\n",
    " - Code generation templates\n",
    "\n",
    "#### Visitor -\n",
    " - Adds new operations to objects without modifying them\n",
    " - Syntax tree traversal\n",
    "\n"
   ]
  },
  {
   "cell_type": "markdown",
   "metadata": {},
   "source": [
    "### Solid Principles of OOPs"
   ]
  },
  {
   "cell_type": "markdown",
   "metadata": {},
   "source": [
    "- Single Responsibility: A class should have only 1 single responsibility\n",
    "- Open Closed: Open for extension and closed for modification\n",
    "- Liskov Substitution: Some classes should stand for its parent without breaking anything\n",
    "- Interface segregation: Many interfaces are better than having one interface doing all the stuff (We use abstract base classes in multiple inheritance to achieve this)\n",
    "- Dependency Inversion: We should work towards abstraction and not implementation\n"
   ]
  },
  {
   "cell_type": "markdown",
   "metadata": {},
   "source": [
    "#### Interfaces in Python:\n",
    "Interfaces can be achieved using Abstract Base classes"
   ]
  },
  {
   "cell_type": "code",
   "execution_count": 23,
   "metadata": {},
   "outputs": [],
   "source": [
    "import abc\n",
    "\n",
    "class MyABC(object):\n",
    "    \"\"\"\n",
    "    abstract base class definition\n",
    "    \"\"\"\n",
    "    __metaclass__ = abc.ABCMeta    # making this class as Abstract class\n",
    "    \n",
    "    @abc.abstractmethod\n",
    "    def action(self, value):\n",
    "        # required method\n",
    "        raise NotImplementedError(\"Method is not yet implemented\")\n",
    "        \n",
    "    @abc.abstractproperty\n",
    "    def some_property(self):\n",
    "        # Required property\n",
    "        raise NotImplementedError(\"Not set yet\")\n",
    "        \n",
    "## Concrete class implementation\n",
    "class MyClass(MyABC):\n",
    "    def __init__(self, value=None):\n",
    "        self._myprop = value\n",
    "        \n",
    "    def action(self, value):\n",
    "        # implementation of abstract method\n",
    "        self._myprop *= 2 + value\n",
    "        \n",
    "    @property\n",
    "    def some_property(self):\n",
    "        # implementation of abstract property\n",
    "        return self._myprop\n",
    "    \n",
    "class BadClass(MyABC):\n",
    "    def __init__(self, value=None):\n",
    "        self._myprop = value\n",
    "    \n",
    "    def new_action(self, value):\n",
    "        return value**2"
   ]
  },
  {
   "cell_type": "code",
   "execution_count": 29,
   "metadata": {},
   "outputs": [],
   "source": [
    "obj = MyClass(2)"
   ]
  },
  {
   "cell_type": "code",
   "execution_count": 31,
   "metadata": {},
   "outputs": [],
   "source": [
    "obj.action(3)"
   ]
  },
  {
   "cell_type": "code",
   "execution_count": 32,
   "metadata": {},
   "outputs": [
    {
     "data": {
      "text/plain": [
       "50"
      ]
     },
     "execution_count": 32,
     "metadata": {},
     "output_type": "execute_result"
    }
   ],
   "source": [
    "obj.some_property"
   ]
  },
  {
   "cell_type": "code",
   "execution_count": null,
   "metadata": {},
   "outputs": [],
   "source": []
  },
  {
   "cell_type": "code",
   "execution_count": null,
   "metadata": {},
   "outputs": [],
   "source": []
  },
  {
   "cell_type": "code",
   "execution_count": null,
   "metadata": {},
   "outputs": [],
   "source": []
  }
 ],
 "metadata": {
  "kernelspec": {
   "display_name": "Python 3 (ipykernel)",
   "language": "python",
   "name": "python3"
  },
  "language_info": {
   "codemirror_mode": {
    "name": "ipython",
    "version": 3
   },
   "file_extension": ".py",
   "mimetype": "text/x-python",
   "name": "python",
   "nbconvert_exporter": "python",
   "pygments_lexer": "ipython3",
   "version": "3.11.4"
  }
 },
 "nbformat": 4,
 "nbformat_minor": 4
}
