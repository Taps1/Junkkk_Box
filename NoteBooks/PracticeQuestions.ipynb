{
 "cells": [
  {
   "cell_type": "markdown",
   "metadata": {},
   "source": [
    "#### Write a function to search an item in a given array"
   ]
  },
  {
   "cell_type": "code",
   "execution_count": 5,
   "metadata": {},
   "outputs": [
    {
     "name": "stdout",
     "output_type": "stream",
     "text": [
      "Element found in array at  4 position with 2 attempt\n"
     ]
    }
   ],
   "source": [
    "arr = [2, 3, 4, 10, 40]\n",
    "search_element = 10\n",
    "def search():\n",
    "     length = len(arr)\n",
    "     position = -1\n",
    "     # get the left most element & right most element\n",
    "     left = 0\n",
    "     right = length - 1\n",
    "        \n",
    "     # looping the array comparing the searched item from left & right simultaneously\n",
    "     for left in range(len(arr)-1):\n",
    "         if arr[left] == search_element:\n",
    "             position = left\n",
    "             print(\"Element found in array at \", position+1, \"position with \", left+1, \"attempt\")\n",
    "             break\n",
    "         if arr[right] == search_element:\n",
    "             position = right\n",
    "             print(\"Element found in array at \", position+1, \"position with\", length-right, \"attempt\")\n",
    "             break\n",
    "         left += 1\n",
    "\n",
    "        right -= 1\n",
    "     if position == -1:\n",
    "         print(\"Not found in array with \", left, \"attempt\")\n",
    "\n",
    "search()"
   ]
  },
  {
   "cell_type": "markdown",
   "metadata": {},
   "source": [
    "#### Write a function to search an item using Binary Search"
   ]
  },
  {
   "cell_type": "code",
   "execution_count": 1,
   "metadata": {},
   "outputs": [
    {
     "data": {
      "text/plain": [
       "3"
      ]
     },
     "execution_count": 1,
     "metadata": {},
     "output_type": "execute_result"
    }
   ],
   "source": [
    "arr = [2, 3, 4, 10, 40]\n",
    "search_element = 10\n",
    "\n",
    "def binary_search(arr, l, r, x):\n",
    "    # Here, right index is greater than left index\n",
    "    if r>= l:\n",
    "        mid = l + (r-1)//2\n",
    "        if arr[mid] == x:\n",
    "            return mid\n",
    "\n",
    "        elif arr[mid] > x:\n",
    "            # element is on left side\n",
    "            return binary_search(arr, l, mid-1, x)\n",
    "        else:\n",
    "            # element is on right side\n",
    "            return binary_search(arr, mid+1, r, x)\n",
    "    else:\n",
    "        return -1\n",
    "    \n",
    "binary_search(arr, 0, len(arr)-1, search_element)"
   ]
  },
  {
   "cell_type": "markdown",
   "metadata": {},
   "source": [
    "#### Jump Search"
   ]
  },
  {
   "cell_type": "code",
   "execution_count": 12,
   "metadata": {},
   "outputs": [
    {
     "name": "stdout",
     "output_type": "stream",
     "text": [
      "10.0\n"
     ]
    }
   ],
   "source": [
    "import math\n",
    " \n",
    "def jumpSearch( arr , x , n ):\n",
    "     \n",
    "    # Finding block size to be jumped\n",
    "    prev = 0\n",
    "    step = math.sqrt(n)\n",
    "     \n",
    "    # Finding the block where element could be present\n",
    "    while arr[int(min(step, n)-1)] < x:\n",
    "        prev = step\n",
    "        step += math.sqrt(n)\n",
    "        if prev >= n:\n",
    "            return -1\n",
    "     \n",
    "    # Searching Linearly for x in block beginning with prev\n",
    "    while arr[int(prev)] < x:\n",
    "        prev += 1\n",
    "         \n",
    "        # If we reached next block or end of array, element is not present.\n",
    "        if prev == min(step, n):\n",
    "            return -1\n",
    "     \n",
    "    # If element is found\n",
    "    if arr[int(prev)] == x:\n",
    "        return prev\n",
    "\n",
    "    return -1\n",
    " \n",
    "# Driver code to test function\n",
    "arr = [ 0, 1, 1, 2, 3, 5, 8, 13, 21,\n",
    "    34, 55, 89, 144, 233, 377, 610 ]\n",
    "x = 55\n",
    "n = len(arr)\n",
    " \n",
    "# Find the index of 'x' using Jump Search\n",
    "print(jumpSearch(arr, x, n))\n"
   ]
  },
  {
   "cell_type": "code",
   "execution_count": null,
   "metadata": {},
   "outputs": [],
   "source": []
  }
 ],
 "metadata": {
  "kernelspec": {
   "display_name": "Python 3",
   "language": "python",
   "name": "python3"
  },
  "language_info": {
   "codemirror_mode": {
    "name": "ipython",
    "version": 3
   },
   "file_extension": ".py",
   "mimetype": "text/x-python",
   "name": "python",
   "nbconvert_exporter": "python",
   "pygments_lexer": "ipython3",
   "version": "3.8.3"
  }
 },
 "nbformat": 4,
 "nbformat_minor": 4
}
