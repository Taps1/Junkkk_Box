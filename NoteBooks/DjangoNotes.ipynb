{
 "cells": [
  {
   "cell_type": "markdown",
   "metadata": {},
   "source": [
    "### ASGI.py & WSGI.py\n",
    "\n",
    " - wsgi.py --> Used for synchronous application, traditional synchronous interface between Django and web servers like gunicorn, uWSGI, Apache etc. Works well with traditional http requests.\n",
    " - Standard way to connect python web apps to web servers (Gunicorn, uWSGI)\n",
    " - When we deploy django project on production, it acts like entrypoint, web server like Gunicorn uses this file to connect itself to Django.\n",
    " - It has application named callable object which handles the request and generates the response.\n",
    " - WSGI is synchronous so it doesn't support real time features like Websockets.\n",
    "\n",
    " `gunicorn myproject.wsgi:application`"
   ]
  },
  {
   "cell_type": "code",
   "execution_count": null,
   "metadata": {},
   "outputs": [],
   "source": [
    "import os\n",
    "from django.core.wsgi import get_wsgi_application\n",
    "\n",
    "os.environ.setdefault('DJANGO_SETTINGS_MODULE', 'myproject.settings')\n",
    "\n",
    "application = get_wsgi_application()\n",
    "\n",
    "# get_wsgi_application() creates a WSGI application object\n",
    "# Web servers call application to process requests.\n",
    "\n",
    "# Using wsgi in production:\n",
    "# gunicorn myproject.wsgi.application"
   ]
  },
  {
   "cell_type": "markdown",
   "metadata": {},
   "source": [
    " - asgi.py --> Used for asynchronous features, modern replacement for WSGI. It allows django to handle asynchronous requests. Used for chat apps, notifications etc.\n",
    " - ASGI Servers like Uvicorn, Daphne uses this file to work with Django so they can handle both synchronous & aynchronous requests."
   ]
  },
  {
   "cell_type": "code",
   "execution_count": null,
   "metadata": {},
   "outputs": [],
   "source": [
    "import os\n",
    "from django.core.asgi import get_asgi_application\n",
    "\n",
    "os.environ.setdefault('DJANGO_SETTINGS_MODULE', 'myproject.settings')\n",
    "\n",
    "application = get_asgi_application()\n",
    "\n",
    "# get_asgi_application() cerates a ASGI application object\n",
    "# Works with Daphne/Uvicorn instead of WSGI servers.\n",
    "# uvicorn myproject.asgi:application --host 0.0.0.0 --port 8000"
   ]
  },
  {
   "cell_type": "markdown",
   "metadata": {},
   "source": [
    "#### Role of Gunicorn & Nginx:\n",
    "- Gunicorn is a WSGI server which runs Django application. It executes Python code and returns response after processing HTTP requests.\n",
    "- It doesn't directly handle client requests. To directly handle client requests, we use Nginx.\n",
    "- Nginx is a web server acting like reverse proxy taking client request, forwards it to Gunicorn.\n",
    "- Gunicorn executes the application logic and Nginx manages the traffic.\n",
    "- Gunicorn = App runner, Nginx = Proxy + Static Files."
   ]
  },
  {
   "cell_type": "markdown",
   "metadata": {},
   "source": [
    "#### Why apps.py is used in Django\n",
    " - Registers the application in Django project\n",
    " - Custom app configurations (app name, define signals)"
   ]
  },
  {
   "cell_type": "code",
   "execution_count": null,
   "metadata": {},
   "outputs": [],
   "source": [
    "from django.apps import AppConfig\n",
    "\n",
    "class MyappConfig(AppConfig):\n",
    "    name = 'myapp'\n",
    "\n",
    "    def ready(self):\n",
    "        import myapp.signals  # Import signals when the app is ready\n"
   ]
  },
  {
   "cell_type": "markdown",
   "metadata": {},
   "source": [
    "#### Sessions in Django:\n",
    "- Way to store user specific data between requests.\n",
    "- Django uses a session framework that works as follows:\n",
    "    - User makes a request --> Django assigns a unique session ID\n",
    "    - Session data is stored --> this data is stored on Server, and session ID is stored in user's browser as cookie (sessionId)\n",
    "    - On subsequent requests --> Django retrieves session data using SessionID\n",
    "- Django sessions are enabled by default in settings.py\n",
    "    - INSTALLEDA_APPS = ['django.contrib.sessions']\n",
    "    - MIDDLEWARE = ['django.middleware.session.SessionMiddleWare']"
   ]
  },
  {
   "cell_type": "markdown",
   "metadata": {},
   "source": [
    "#### Static Files in Django:\n",
    "- Static files in Django include CSS, JavaScripts, Images, Fonts that doesn't change dynamically. \n",
    "- We configure nginx on production, so it can also serve static files directly from STATIC_ROOT because Django doesn't serve static_files in production (DEBUG=FALSE)"
   ]
  },
  {
   "cell_type": "code",
   "execution_count": null,
   "metadata": {},
   "outputs": [],
   "source": [
    "import os\n",
    "\n",
    "# URL for serving static files\n",
    "STATIC_URL = '/static/'\n",
    "\n",
    "# App Directory from where static files are collected\n",
    "STATICFILES_DIRS = [\n",
    "    os.path.join(BASE_DIR, 'static'),  # Specifies additional static file locations\n",
    "]\n",
    "\n",
    "# Location where collected static files are stored (used in production)\n",
    "STATIC_ROOT = os.path.join(BASE_DIR, 'staticfiles')"
   ]
  },
  {
   "cell_type": "markdown",
   "metadata": {},
   "source": [
    "In production, Django does not server static files, Use a web server like Nginx or AWS S3.\n",
    "\n",
    "`location /static/ {\n",
    "    root /path/to/your/project/staticfiles;\n",
    "}`"
   ]
  },
  {
   "cell_type": "markdown",
   "metadata": {},
   "source": [
    "#### Setting Up Database in Production\n",
    "- We use PostgreSQL/MySQL as they're scalable & reliable."
   ]
  },
  {
   "cell_type": "markdown",
   "metadata": {},
   "source": [
    "#### Reverse Proxy:\n",
    "- It's like a middleman sitting between client & server (Django App). Client sends request to reverse proxy and it forwards the request to Server, and forwards the response from server to client.\n",
    "- `Normal Proxy`: (VPN) (Outbound --> From client to outside world) It fulfils the needs of client side and hides client identity from the server, when client wants to talk to server. Normal Proxy takes my request to server. Server doesn't know who the client is, it just sees the proxy.\n",
    "  - Privacy: Server doesn't know the IP address of client, Server just knows Proxy's IP.\n",
    "  - Caching: If Proxy already has response, it returned the response without increasing load on server.\n",
    "- `Reverse Proxy`:(Inbound traffic --> From outside to server) Works from server's side, forwards request from client to server. Accepts the request from client and decides which server it shall forward the request to. Client doesn't know who the actual server is, it's only dealing with reverse proxy.\n",
    "  - Server Protection: Gunicorn gets hide and client can only see the reverse proxy.\n",
    "  - Load Balancing: If there are 5 Gunicorn servers, reverse proxy distributes the load.\n",
    "  - Static Files: Directly serves the static file and doesn't increase the load on server.\n",
    "  - Single Entry Point: Client only knows one address, though many servers could be running on backend.\n",
    "\n",
    "In our example, Nginx is reverse proxy, Gunicorn is server and Django runs behind gunicorn.\n",
    "- Client sends a request to http:<my-ip>.\n",
    "- Nginx(reverse proxy) listens to this request, as it's running on port-80\n",
    "- Nginx lookups in it's conf file and serves static file if the request is for static file (eg: /static/style.css), location /static/\n",
    "- If request is for application (eg: /), then it forwards to Gunicorn (proxy_pass http://web:8000)\n",
    "- Gunicorn takes the request to Django app, Django generates the response and is returned to Nginx by Gunicorn. Nginx finally returned response to Nginx.\n",
    "\n",
    "Why to use Reverse Proxy:\n",
    "- Problems without Reverse Proxy:\n",
    "    - Gunicorn doesn't serve static files efficiently.\n",
    "    - Gunicorn is not efficient in handling multiple requests.\n",
    "    - Gunicorn port will be publicly accessible, security is compromised.\n",
    "- Nginx as Reverse Proxy:\n",
    "    - Serves the static files directly\n",
    "    - Hides Gunicorn and only Nginx is publicly accessible\n",
    "    - It's fast and scalable.\n",
    "    - Can helps in balancing the load to different servers if there are many running servers available."
   ]
  },
  {
   "cell_type": "markdown",
   "metadata": {},
   "source": []
  }
 ],
 "metadata": {
  "language_info": {
   "name": "python"
  }
 },
 "nbformat": 4,
 "nbformat_minor": 2
}
