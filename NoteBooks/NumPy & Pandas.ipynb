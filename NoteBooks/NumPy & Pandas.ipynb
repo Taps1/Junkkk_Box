{
 "cells": [
  {
   "cell_type": "markdown",
   "id": "c694b538",
   "metadata": {},
   "source": [
    "We can have any number of dimensions in an array - 1D, Multidimensional (2D, 3D, etc)\n"
   ]
  },
  {
   "cell_type": "code",
   "execution_count": 5,
   "id": "42a1c059",
   "metadata": {},
   "outputs": [
    {
     "name": "stdout",
     "output_type": "stream",
     "text": [
      "[0 1 2 3 4 5 6 7 8 9]\n"
     ]
    }
   ],
   "source": [
    "import numpy as np\n",
    "simple_arr = np.arange(10)\n",
    "print(simple_arr)"
   ]
  },
  {
   "cell_type": "code",
   "execution_count": 11,
   "id": "55c9c458",
   "metadata": {},
   "outputs": [
    {
     "name": "stdout",
     "output_type": "stream",
     "text": [
      "[0. 1. 2. 3. 4. 5. 6. 7. 8. 9.]\n",
      "float64\n"
     ]
    }
   ],
   "source": [
    "float_array = np.arange(10, dtype=float)\n",
    "print(float_array)\n",
    "print(float_array.dtype)"
   ]
  },
  {
   "cell_type": "code",
   "execution_count": 17,
   "id": "185acf74",
   "metadata": {},
   "outputs": [
    {
     "name": "stdout",
     "output_type": "stream",
     "text": [
      "[0.+0.j 1.+0.j 2.+0.j 3.+0.j 4.+0.j 5.+0.j 6.+0.j 7.+0.j 8.+0.j 9.+0.j]\n"
     ]
    }
   ],
   "source": [
    "complex_arr = float_array.astype(complex)\n",
    "print(complex_arr)"
   ]
  },
  {
   "cell_type": "code",
   "execution_count": null,
   "id": "a3270024",
   "metadata": {},
   "outputs": [],
   "source": [
    "int_list = [10, 20, 30, 40, 50]\n",
    "int_arr = np.array(int_list)"
   ]
  }
 ],
 "metadata": {
  "kernelspec": {
   "display_name": "Python 3 (ipykernel)",
   "language": "python",
   "name": "python3"
  },
  "language_info": {
   "codemirror_mode": {
    "name": "ipython",
    "version": 3
   },
   "file_extension": ".py",
   "mimetype": "text/x-python",
   "name": "python",
   "nbconvert_exporter": "python",
   "pygments_lexer": "ipython3",
   "version": "3.9.12"
  }
 },
 "nbformat": 4,
 "nbformat_minor": 5
}
