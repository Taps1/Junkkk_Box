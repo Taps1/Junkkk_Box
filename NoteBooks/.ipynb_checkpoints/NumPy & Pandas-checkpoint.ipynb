{
 "cells": [
  {
   "cell_type": "markdown",
   "id": "68308125",
   "metadata": {},
   "source": [
    "We can have any number of dimensions in an array - 1D, Multidimensional (2D, 3D, etc)\n"
   ]
  },
  {
   "cell_type": "code",
   "execution_count": null,
   "id": "27732ae2",
   "metadata": {},
   "outputs": [],
   "source": [
    "import numpy as np"
   ]
  }
 ],
 "metadata": {
  "kernelspec": {
   "display_name": "Python 3 (ipykernel)",
   "language": "python",
   "name": "python3"
  },
  "language_info": {
   "codemirror_mode": {
    "name": "ipython",
    "version": 3
   },
   "file_extension": ".py",
   "mimetype": "text/x-python",
   "name": "python",
   "nbconvert_exporter": "python",
   "pygments_lexer": "ipython3",
   "version": "3.9.12"
  }
 },
 "nbformat": 4,
 "nbformat_minor": 5
}
