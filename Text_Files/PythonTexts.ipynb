{
 "cells": [
  {
   "cell_type": "code",
   "execution_count": 1,
   "metadata": {},
   "outputs": [
    {
     "data": {
      "text/plain": [
       "int"
      ]
     },
     "execution_count": 1,
     "metadata": {},
     "output_type": "execute_result"
    }
   ],
   "source": [
    "x = 10\n",
    "type(x)"
   ]
  },
  {
   "cell_type": "code",
   "execution_count": 2,
   "metadata": {},
   "outputs": [
    {
     "data": {
      "text/plain": [
       "100"
      ]
     },
     "execution_count": 2,
     "metadata": {},
     "output_type": "execute_result"
    }
   ],
   "source": [
    "x ** 2"
   ]
  },
  {
   "cell_type": "code",
   "execution_count": 3,
   "metadata": {},
   "outputs": [
    {
     "data": {
      "text/plain": [
       "-423987879648822492"
      ]
     },
     "execution_count": 3,
     "metadata": {},
     "output_type": "execute_result"
    }
   ],
   "source": [
    "hash('python')"
   ]
  },
  {
   "cell_type": "code",
   "execution_count": 7,
   "metadata": {},
   "outputs": [
    {
     "name": "stdout",
     "output_type": "stream",
     "text": [
      "3 2\n"
     ]
    }
   ],
   "source": [
    "x= round(2.554)\n",
    "y = round(2.345)\n",
    "print(x, y)"
   ]
  },
  {
   "cell_type": "code",
   "execution_count": 8,
   "metadata": {},
   "outputs": [
    {
     "data": {
      "text/plain": [
       "2"
      ]
     },
     "execution_count": 8,
     "metadata": {},
     "output_type": "execute_result"
    }
   ],
   "source": [
    "abs(-2)"
   ]
  },
  {
   "cell_type": "code",
   "execution_count": 11,
   "metadata": {},
   "outputs": [
    {
     "name": "stdout",
     "output_type": "stream",
     "text": [
      "6 5\n"
     ]
    }
   ],
   "source": [
    "x = max((1,2,3,4,5,6))\n",
    "y = max([1,2,3,4,5])\n",
    "print(x, y)"
   ]
  },
  {
   "cell_type": "code",
   "execution_count": 12,
   "metadata": {},
   "outputs": [
    {
     "name": "stdout",
     "output_type": "stream",
     "text": [
      "-2 1\n"
     ]
    }
   ],
   "source": [
    "x = min((1,-2,3,4,5,6))\n",
    "y = min([1,2,3,4,5])\n",
    "print(x, y)"
   ]
  },
  {
   "cell_type": "code",
   "execution_count": 13,
   "metadata": {},
   "outputs": [
    {
     "data": {
      "text/plain": [
       "(1, 0, 0)"
      ]
     },
     "execution_count": 13,
     "metadata": {},
     "output_type": "execute_result"
    }
   ],
   "source": [
    "1,00,000"
   ]
  },
  {
   "cell_type": "code",
   "execution_count": 19,
   "metadata": {},
   "outputs": [
    {
     "ename": "SyntaxError",
     "evalue": "invalid digit '8' in octal literal (<ipython-input-19-fcb122d1da20>, line 2)",
     "output_type": "error",
     "traceback": [
      "\u001b[1;36m  File \u001b[1;32m\"<ipython-input-19-fcb122d1da20>\"\u001b[1;36m, line \u001b[1;32m2\u001b[0m\n\u001b[1;33m    z = 0o128 # exception raised\u001b[0m\n\u001b[1;37m            ^\u001b[0m\n\u001b[1;31mSyntaxError\u001b[0m\u001b[1;31m:\u001b[0m invalid digit '8' in octal literal\n"
     ]
    }
   ],
   "source": [
    "x = 0o123 # returns Octal value\n",
    "z = 0o128 # exception raised\n",
    "print(x, z)"
   ]
  },
  {
   "cell_type": "code",
   "execution_count": 22,
   "metadata": {},
   "outputs": [
    {
     "name": "stdout",
     "output_type": "stream",
     "text": [
      "83 297\n"
     ]
    }
   ],
   "source": [
    "x = 0o123\n",
    "y = 0x129\n",
    "print(x, y)"
   ]
  },
  {
   "cell_type": "code",
   "execution_count": 23,
   "metadata": {},
   "outputs": [
    {
     "name": "stdout",
     "output_type": "stream",
     "text": [
      "5.0\n",
      "6.0\n"
     ]
    }
   ],
   "source": [
    "x = 5 + 6j\n",
    "print(x.real)\n",
    "print(x.imag)"
   ]
  },
  {
   "cell_type": "code",
   "execution_count": 31,
   "metadata": {},
   "outputs": [
    {
     "name": "stdout",
     "output_type": "stream",
     "text": [
      "5\n",
      "Talat\n",
      "   I went there\n",
      "Talat\n",
      "nt ther\n",
      "['Hello', 'Talat']\n",
      "['H', 'e', 'l', 'l', 'o', ' ', 'T', 'a', 'l', 'a', 't']\n",
      "{'l', 'a', 't', 'T', ' ', 'o', 'e', 'H'}\n",
      "1784180879792\n",
      "hello talat\n",
      "HELLO TALAT\n",
      "hELLO tALAT\n",
      "65\n",
      "A\n",
      "**yy\n",
      "2\n",
      "3\n",
      "Xxyy\n",
      "###########xxyy\n",
      "xxyy###########\n",
      "1\n",
      "2\n",
      "0\n",
      "z\n",
      "False\n",
      "Talat-Parwez\n",
      "Talat-Parwez\n",
      "Talat-Parwez\n"
     ]
    }
   ],
   "source": [
    "s1 = \"Talat\"; s2 = \"Parwez\"\n",
    "s1 + ' ' + s2\n",
    "s1 * 5\n",
    "print(len(s1))\n",
    "s = \"   I went there   \"\n",
    "print(s1.lstrip())\n",
    "print(s.rstrip())\n",
    "print(s1.strip())\n",
    "print(s.strip('I we'))\n",
    "'I' in s\n",
    "s = \"Hello Talat\"\n",
    "print(s.split())\n",
    "print(list(s))\n",
    "print(set(s))\n",
    "print(id(s))\n",
    "print(s.lower())\n",
    "print(s.upper())\n",
    "print(s.swapcase())\n",
    "print(ord('A'))\n",
    "print(chr(65))\n",
    "a = 'xxyy'\n",
    "print(a.replace('x', '*'))\n",
    "print(a.find('y'))\n",
    "print(a.rfind('y'))\n",
    "print(a.title())\n",
    "print(a.rjust(15, '#'))\n",
    "print(a.ljust(15, '#'))\n",
    "print(len('\\t'))\n",
    "print(len(r'\\t'))\n",
    "print(a.count('g'))\n",
    "s = 'xyz'\n",
    "print(max(s))\n",
    "print(s.startswith('a'))\n",
    "s = \"Hello \\\n",
    "Talat\"\n",
    "s1 = \"Talat\"\n",
    "s2 = \"Parwez\"\n",
    "print(\"{0}-{1}\".format(s1, s2))\n",
    "print(\"%s-%s\"%(s1, s2))\n",
    "print(\"{str_1}-{str_2}\".format(str_1=s1, str_2=s2))"
   ]
  },
  {
   "cell_type": "code",
   "execution_count": 34,
   "metadata": {},
   "outputs": [
    {
     "name": "stdout",
     "output_type": "stream",
     "text": [
      "olleH\n",
      "Hello\n",
      "I*am*doing*well\n"
     ]
    }
   ],
   "source": [
    "s = \"Hello\"\n",
    "print(s[::-1])\n",
    "s1 = s[::]\n",
    "print(s)\n",
    "\n",
    "s = [\"I\", \"am\", \"doing\", \"well\"]\n",
    "print('*'.join(s))"
   ]
  },
  {
   "cell_type": "code",
   "execution_count": 38,
   "metadata": {},
   "outputs": [
    {
     "name": "stdout",
     "output_type": "stream",
     "text": [
      "range(0, 10)\n",
      "range(2, 10)\n",
      "range(2, 10, 2)\n",
      "range(10, 2)\n",
      "range(10, 2, -1)\n"
     ]
    }
   ],
   "source": [
    "print(range(10))\n",
    "print(range(2, 10))\n",
    "print(range(2, 10, 2))\n",
    "print(range(10, 2))\n",
    "print(range(10, 2, -1))"
   ]
  },
  {
   "cell_type": "code",
   "execution_count": 30,
   "metadata": {},
   "outputs": [
    {
     "name": "stdout",
     "output_type": "stream",
     "text": [
      "['a', 'b', 'c', 'd']\n"
     ]
    },
    {
     "data": {
      "text/plain": [
       "0"
      ]
     },
     "execution_count": 30,
     "metadata": {},
     "output_type": "execute_result"
    }
   ],
   "source": [
    "fruits = ['a', 'b', 'c']\n",
    "fruits.append('d')\n",
    "print(fruits)                            # ['a', 'b', 'c', 'd']\n",
    "\n",
    "\n",
    "a = [1, 2, 3]; b = [4, 5, 6]\n",
    "dict([i for i in zip(a, b)])\n",
    "\n",
    "# counts the item in a given list\n",
    "l1.count('aa')                            # 1"
   ]
  },
  {
   "cell_type": "code",
   "execution_count": 21,
   "metadata": {},
   "outputs": [
    {
     "name": "stdout",
     "output_type": "stream",
     "text": [
      "['Apple', 'b', 'd', ['e'], ['e']]\n"
     ]
    }
   ],
   "source": [
    "fruits.append(['e'])\n",
    "print(fruits)                            # ['a', 'b', 'c', 'd', ['e']]"
   ]
  },
  {
   "cell_type": "code",
   "execution_count": 22,
   "metadata": {},
   "outputs": [
    {
     "name": "stdout",
     "output_type": "stream",
     "text": [
      "['Apple', 'b', 'd', ['e'], ['e'], 'f']\n"
     ]
    }
   ],
   "source": [
    "fruits.extend(['f'])\n",
    "print(fruits)                            # ['a', 'b', 'c', 'd', ['e'], 'f']"
   ]
  },
  {
   "cell_type": "code",
   "execution_count": 41,
   "metadata": {},
   "outputs": [
    {
     "name": "stdout",
     "output_type": "stream",
     "text": [
      "0\n",
      "0\n"
     ]
    }
   ],
   "source": [
    "print(fruits.index(\"a\"))                        # 0\n",
    "print(fruits.index(\"a\", 0))              # fruits.index('a', 1) will give error saying 'a' isn't in list\n",
    "fruits_copy = fruits[:]"
   ]
  },
  {
   "cell_type": "code",
   "execution_count": 24,
   "metadata": {},
   "outputs": [
    {
     "name": "stdout",
     "output_type": "stream",
     "text": [
      "f\n",
      "d\n"
     ]
    }
   ],
   "source": [
    "print(fruits.pop())                       # (f), deletes last inserted item \n",
    "print(fruits.pop(2))                      # (c), deletes location specified item\n"
   ]
  },
  {
   "cell_type": "code",
   "execution_count": 54,
   "metadata": {},
   "outputs": [
    {
     "name": "stdout",
     "output_type": "stream",
     "text": [
      "['Apple', 'b', 'c', 'd']\n",
      "['aa', 'bb', 'cc', 'dd']\n"
     ]
    }
   ],
   "source": [
    "print(fruits)\n",
    "fruits.remove('Apple')                        # specified item gets deleted\n",
    "fruits.insert(1, 'b')                     # insert into specified location\n",
    "fruits[0] = \"Apple\"\n",
    "l1 = ['aa', 'bb']\n",
    "l2 = ['cc', 'dd']\n",
    "l3 = l1 + l2                              \n",
    "print(l3)                                 # ['aa', 'bb', 'cc', 'dd']"
   ]
  },
  {
   "cell_type": "code",
   "execution_count": 26,
   "metadata": {},
   "outputs": [
    {
     "name": "stdout",
     "output_type": "stream",
     "text": [
      "0 Apple\n",
      "1 b\n",
      "2 ['e']\n",
      "3 ['e']\n"
     ]
    }
   ],
   "source": [
    "for idx, item in enumerate(fruits):\n",
    "    print(idx, item)                     \n"
   ]
  },
  {
   "cell_type": "code",
   "execution_count": 27,
   "metadata": {},
   "outputs": [
    {
     "name": "stdout",
     "output_type": "stream",
     "text": [
      "None\n",
      "[1, 2, 3, 4, 4, 5, 6, 7, 8]\n"
     ]
    }
   ],
   "source": [
    "print(l1.sort())                          # None, sorts the lists\n",
    "print(sorted(l1))                         # ['aa', 'bb'], returns sorted list but didn't sort the actual list\n"
   ]
  },
  {
   "cell_type": "code",
   "execution_count": 57,
   "metadata": {},
   "outputs": [
    {
     "name": "stdout",
     "output_type": "stream",
     "text": [
      "['aa', 'bb']\n",
      "['bb', 'aa']\n",
      "['aa', 'bb']\n",
      "['bb', 'aa']\n"
     ]
    }
   ],
   "source": [
    "print(l1)\n",
    "l1.reverse()                       # None, reverses the list\n",
    "print(l1)\n",
    "print([i for i in reversed(l1)])                       # <list_reverseiterator>, returns reversed list but doesn't reverse the actual list\n",
    "print(l1)\n"
   ]
  },
  {
   "cell_type": "code",
   "execution_count": 50,
   "metadata": {},
   "outputs": [
    {
     "name": "stdout",
     "output_type": "stream",
     "text": [
      "[8, 3, 4, 2, 4, 5, 1, 6, 7]\n"
     ]
    }
   ],
   "source": [
    "# Undoing the sorted list\n",
    "import random\n",
    "l1 = [1,2,3,4,4,5,6,7,8,]\n",
    "random.shuffle(l1)\n",
    "print(l1)                                 # [4, 4, 3, 6, 7, 8, 2, 1, 5]"
   ]
  },
  {
   "cell_type": "code",
   "execution_count": 58,
   "metadata": {},
   "outputs": [
    {
     "data": {
      "text/plain": [
       "[0, 'Yo', 2, 'Yo', 4, 'Yo', 6, 'Yo', 8, 'Yo']"
      ]
     },
     "execution_count": 58,
     "metadata": {},
     "output_type": "execute_result"
    }
   ],
   "source": [
    "[item if item%2==0 else \"Yo\" for item in range(10)]"
   ]
  },
  {
   "cell_type": "code",
   "execution_count": 59,
   "metadata": {},
   "outputs": [
    {
     "data": {
      "text/plain": [
       "(1, 2, 3, 4, 5, 6, 7, 8, 8)"
      ]
     },
     "execution_count": 59,
     "metadata": {},
     "output_type": "execute_result"
    }
   ],
   "source": [
    "tuple([1,2,3,4,5,6,7,8,8])"
   ]
  },
  {
   "cell_type": "code",
   "execution_count": 63,
   "metadata": {},
   "outputs": [
    {
     "data": {
      "text/plain": [
       "20"
      ]
     },
     "execution_count": 63,
     "metadata": {},
     "output_type": "execute_result"
    }
   ],
   "source": [
    "y = 10, 20\n",
    "y[1]"
   ]
  },
  {
   "cell_type": "code",
   "execution_count": 77,
   "metadata": {},
   "outputs": [
    {
     "name": "stdout",
     "output_type": "stream",
     "text": [
      "dict_keys([1, 2])\n",
      "dict_values(['A', 'B'])\n",
      "dict_items([(1, 'A'), (2, 'B')])\n",
      "A\n",
      "A\n",
      "True\n",
      "False\n"
     ]
    }
   ],
   "source": [
    "d = dict()\n",
    "d[1] = 'A'\n",
    "d[2] = 'B'\n",
    "print(d.keys())\n",
    "print(d.values())\n",
    "print(d.items())\n",
    "print(d.get(1, \"some default value\"))\n",
    "print(d[1])\n",
    "print(1 in d.keys())\n",
    "print('C' in d.values())"
   ]
  },
  {
   "cell_type": "code",
   "execution_count": 98,
   "metadata": {},
   "outputs": [
    {
     "name": "stdout",
     "output_type": "stream",
     "text": [
      "D1 -->  {1: 'A', 2: 'B', 3: 'C', 4: 'D'}\n",
      "D4 -->  {2: 'B', 3: 'D', 1: 'A'}\n",
      "D5 -->  {5: 'E', 6: 'F'}\n",
      "D5 -->  {5: 'E', 6: 'F', 7: 'F'}\n",
      "D6 -->  {7: None, 8: 'H'}\n"
     ]
    }
   ],
   "source": [
    "d1 = {1: 'A', 2: 'B'}\n",
    "d2 = {3: 'C', 4: 'D'}\n",
    "d1.update(d2)\n",
    "print(\"D1 --> \", d1)\n",
    "\n",
    "# if keys are same for both dictionaries, keys-values of d3 would be given the priority\n",
    "d3 = {1: 'A', 2: 'B'}\n",
    "d4 = {2: 'C', 3: 'D'}\n",
    "d4.update(d3)\n",
    "print(\"D4 --> \", d4)\n",
    "\n",
    "# if key exist, no change else add the new key\n",
    "d5 = {5: 'E', 6: 'F'}\n",
    "d6 = {7: None, 8: 'H'}\n",
    "d5.setdefault(5, 'F')\n",
    "print(\"D5 --> \", d5)\n",
    "d5.setdefault(7, 'F')\n",
    "print(\"D5 --> \", d5)\n",
    "d6.setdefault(7, 'G')\n",
    "print(\"D6 --> \", d6)\n"
   ]
  },
  {
   "cell_type": "code",
   "execution_count": 109,
   "metadata": {},
   "outputs": [
    {
     "name": "stdout",
     "output_type": "stream",
     "text": [
      "False\n",
      "False\n",
      "True\n",
      "True\n",
      "False\n",
      "False\n"
     ]
    }
   ],
   "source": [
    "# all() will return True if all elements in iterable are True\n",
    "# any() will return True if any elements in iterable are True\n",
    "print(all([1,3,3,None]))\n",
    "print(all([None ,None]))\n",
    "print(all([1,3,3]))\n",
    "print(all([]))\n",
    "\n",
    "print(any([]))\n",
    "print(any([0, 0]))"
   ]
  },
  {
   "cell_type": "markdown",
   "metadata": {},
   "source": [
    "## FILE OPERATIONS"
   ]
  },
  {
   "cell_type": "code",
   "execution_count": 115,
   "metadata": {},
   "outputs": [],
   "source": [
    "# file operations\n",
    "# r --> read only\n",
    "# w --> if file exists, then delete all the content & open it to write \n",
    "# a --> append to existing content\n",
    "\n",
    "# f.read() --> will read whole file at once\n",
    "# f.readline() --> will read the lines one by one\n",
    "# f.readlines() --> will read all the lines in a list\n",
    "\n",
    "# f.write('data')\n",
    "# f.writelines('data')\n",
    "# f.read(30) --> will read first 30 characters\n",
    "# f.read(30) --> will read next 30 characters\n",
    "# f.seek(0) --> will move the pointer to 0th index\n",
    "# f.seek(-3, 2) --> Go to 3rd character from the end\n",
    "# f.tell() --> tells pointer's position\n",
    "\n",
    "# with keyword is also used to open a file and it will automatically close the file when goes out of the scope.\n",
    "#\t\twith open('file_name.txt') as f:\n",
    "#\t\t\t//statements\n",
    "\n",
    "# #!/usr/bin/python\n",
    "# import time\n",
    "# import os\n",
    "# Open a file\n",
    "# outputFile = open(\"bb.py\",\"a\") # outputFile = open(\"bb.py”,”a”, 0)\n",
    "# outputFile.write(\"First\")\n",
    "# outputFile.flush()\n",
    "# print \"Now you have 10sec to see that outputFile.txt is still the same as before\"\n",
    "# time.sleep(10)\n",
    "# outputFile.write(\"Second\")\n",
    "# print \"Now if you look at outputFile.txt you will see 'First' and 'Second'\"\n",
    "\n",
    "###USECASE:\n",
    "# When we write firstly into file, and after some time we write secondly into file, \n",
    "# The program waits for the complete execution till the first write can happen, \n",
    "# So In order to write into the file immediately(When LOC occurs), We need to use file_object.FLUSH() method\n"
   ]
  },
  {
   "cell_type": "markdown",
   "metadata": {},
   "source": [
    "## SETS"
   ]
  },
  {
   "cell_type": "code",
   "execution_count": 121,
   "metadata": {
    "scrolled": false
   },
   "outputs": [
    {
     "name": "stdout",
     "output_type": "stream",
     "text": [
      "{0, 1, 2, 3}\n",
      "S -->  {1, 2, 3, 4, 9}\n",
      "S -->  {2, 3, 4, 9}\n",
      "S -->  {2, 3, 4, 9}\n",
      "S1 -->  {1, 2, 5}\n",
      "{'l', 'a', 't'}\n",
      "False\n",
      "False\n"
     ]
    }
   ],
   "source": [
    "# These are the lists without duplication\n",
    "# They cannot be accessed by indexing\n",
    "l=[0,1,2,3,1]\n",
    "print(set(l))\n",
    "s=set([1,2,3,4])\n",
    "s1 = {5, 1, 2}\n",
    "s2 = {1, 3, 5}\n",
    "s.add(9)                # Will add '9'\n",
    "print(\"S --> \", s)\n",
    "s.discard(1)            # will discard '1' from the sequence\n",
    "print(\"S --> \", s)\n",
    "s.union(s1)       \n",
    "print(\"S --> \", s)\n",
    "s.intersection(s1)\n",
    "print(\"S1 --> \", s1)\n",
    "s.difference(s1)\n",
    "str=\"talat\"\t\n",
    "print(set(str))\n",
    "print(s1.issubset(s2))\n",
    "print(s1.issuperset(s2))"
   ]
  },
  {
   "cell_type": "markdown",
   "metadata": {},
   "source": [
    "# MRO"
   ]
  },
  {
   "cell_type": "raw",
   "metadata": {},
   "source": [
    "<MRO>\tMethod Resolution Order\n",
    "\tWill look for the element firstly in <current><parent><grand-parent><object>\n",
    "\tmro[1]--> Runtime Error\n",
    "\tmro[2]--> Standard Error \n",
    "\tmro[3]--> Exception Error\n",
    "\tmro[4]--> Base Exception Error"
   ]
  },
  {
   "cell_type": "code",
   "execution_count": 122,
   "metadata": {},
   "outputs": [],
   "source": [
    "# <HIGHER ORDER FUNCTIONS>\n",
    "#    A function which does atleat one of the following:\n",
    "#        1. Takes one or more functions as an argument.\n",
    "#        2. Returns other function as an Output."
   ]
  },
  {
   "cell_type": "markdown",
   "metadata": {},
   "source": [
    "# LAMBDA FUNCTIONS"
   ]
  },
  {
   "cell_type": "code",
   "execution_count": 2,
   "metadata": {},
   "outputs": [
    {
     "name": "stdout",
     "output_type": "stream",
     "text": [
      "32\n"
     ]
    }
   ],
   "source": [
    "# Lambda functions are also known as Anonymous function\n",
    "# One liner function which don't have any definition, \n",
    "# They're just assigned to a variable and that variable will receive the arguments\n",
    "# lambda args: <executablity>\n",
    "g = lambda x, y: x**y\n",
    "print(g(2,5))"
   ]
  },
  {
   "cell_type": "markdown",
   "metadata": {},
   "source": [
    "# MAP\n",
    "\n",
    "\n",
    "\n",
    "\n",
    "\n",
    "\n",
    "\n"
   ]
  },
  {
   "cell_type": "markdown",
   "metadata": {},
   "source": [
    "It takes one function and an iterator as input and applies the function on each value of the iterator and returns a list of result.\n",
    "\t\tmap(funtion_name_to_be_mapped,sequence)\n",
    "\t\toutput form--> list []"
   ]
  },
  {
   "cell_type": "code",
   "execution_count": 12,
   "metadata": {},
   "outputs": [
    {
     "name": "stdout",
     "output_type": "stream",
     "text": [
      "<map object at 0x000002F0A91617F0>\n"
     ]
    },
    {
     "data": {
      "text/plain": [
       "<map at 0x2f0a9161400>"
      ]
     },
     "execution_count": 12,
     "metadata": {},
     "output_type": "execute_result"
    }
   ],
   "source": [
    "l=[1,2,3,4,5,6,7,8,9]\n",
    "def square(num):\n",
    "    return num*num\n",
    "\n",
    "print(map(square, l))\n",
    "map(g, [1,2,3,4], [4,3,2,1])\n",
    "\n",
    "li1 = [1,2,3]; li2 = [4,5,6]; li3 = [7,8,9]\n",
    "map(lambda a,b,c: a+b+c, li1, li2, li3)                     # will take same indexed values from each sequence"
   ]
  },
  {
   "cell_type": "markdown",
   "metadata": {},
   "source": [
    "# REDUCE"
   ]
  },
  {
   "cell_type": "markdown",
   "metadata": {},
   "source": [
    "It takes one function and an iterator as an Input and execution goes in this way: Take 2 elements of the sequence and perform operate on them and keeps going on in the same manner.\n"
   ]
  },
  {
   "cell_type": "code",
   "execution_count": 18,
   "metadata": {},
   "outputs": [
    {
     "name": "stdout",
     "output_type": "stream",
     "text": [
      "87\n",
      "1\n"
     ]
    }
   ],
   "source": [
    "from functools import reduce\n",
    "# find the maximum value from the sequence:\n",
    "lst = [12, 32, 1, 87, 9, 5, 43]\n",
    "\n",
    "print(reduce(lambda a, b: a if a>b else b, lst))\n",
    "\n",
    "# If the sequence is empty, then set initial default value as:\n",
    "print(reduce(lambda x, y: x+y, [], 1))                                 # will always return 1 if sequnce is empty"
   ]
  },
  {
   "cell_type": "markdown",
   "metadata": {},
   "source": [
    "# FILTER"
   ]
  },
  {
   "cell_type": "markdown",
   "metadata": {},
   "source": [
    "It offers a convenient way to filter out all the elements of an iterable, for which the function returns True\n",
    "\n",
    "The function needs to return Boolean value (True/False), This function will be applied to every element of the iterable, Only if the function returns True for an element - that element will be included in the result "
   ]
  },
  {
   "cell_type": "code",
   "execution_count": 21,
   "metadata": {},
   "outputs": [
    {
     "data": {
      "text/plain": [
       "<filter at 0x2f0a9148a30>"
      ]
     },
     "execution_count": 21,
     "metadata": {},
     "output_type": "execute_result"
    }
   ],
   "source": [
    "lst = [12, 21, 23, 54, 65, 56, 98, 89]\n",
    "filter(lambda a: True if a%2 == 0 else False, lst) # [12, 54, 56, 98]\n",
    "filter(lambda a: a%2 == 0 , lst)"
   ]
  },
  {
   "cell_type": "markdown",
   "metadata": {},
   "source": [
    "# FUNCTIONS"
   ]
  },
  {
   "cell_type": "markdown",
   "metadata": {},
   "source": [
    "object is the upper most class in python.\n",
    "issubclass(int,object)--> will return True\n",
    "functions have function definition and defined by def keyword, here is the most basic syntax of the Python function"
   ]
  },
  {
   "cell_type": "code",
   "execution_count": 27,
   "metadata": {},
   "outputs": [
    {
     "name": "stdout",
     "output_type": "stream",
     "text": [
      "{}\n",
      "{'__name__': '__main__', '__doc__': 'Automatically created module for IPython interactive environment', '__package__': None, '__loader__': None, '__spec__': None, '__builtin__': <module 'builtins' (built-in)>, '__builtins__': <module 'builtins' (built-in)>, '_ih': ['', \"# Lambda functions are also known as Anonymous function\\n# One liner function which don't have any definition, \\n# They're just assigned to a variable and that variable will receive the arguments\\n# lambda args: <executablity>\\ng = lambda x, y: x**y\\nprint(g(2,5))\", \"# Lambda functions are also known as Anonymous function\\n# One liner function which don't have any definition, \\n# They're just assigned to a variable and that variable will receive the arguments\\n# lambda args: <executablity>\\ng = lambda x, y: x**y\\nprint(g(2,5))\", '## \\tIt takes one function and an iterator as input and applies the function on each value of the iterator and returns a list of result.\\n\\t\\tmap(funtion_name_to_be_mapped,sequence)\\n\\t\\toutput form--> list []', '## \\tIt takes one function and an iterator as input and applies the function on each value of the iterator and returns a list of result.\\n##\\t\\tmap(funtion_name_to_be_mapped,sequence)\\n##\\t\\toutput form--> list []', '## \\tIt takes one function and an iterator as input and applies the function on each value of the iterator and returns a list of result.\\n##\\t\\tmap(funtion_name_to_be_mapped,sequence)\\n##\\t\\toutput form--> list []', \"print('helo')\", \"print('helo')\", 'l=[1,2,3,4,5,6,7,8,9]\\ndef square(num):\\n    return num*num\\n\\nprint map(square, l)\\nmap(g, [1,2,3,4], [4,3,2,1])\\n\\nli1 = [1,2,3], li2 = [4,5,6], li3 = [7,8,9]\\nmap(lambda a,b,c: a+b+c, li1, li2, li3)                     # will take same indexed values from each sequence', 'l=[1,2,3,4,5,6,7,8,9]\\ndef square(num):\\n    return num*num\\n\\nprint(map(square, l))\\nmap(g, [1,2,3,4], [4,3,2,1])\\n\\nli1 = [1,2,3], li2 = [4,5,6], li3 = [7,8,9]\\nmap(lambda a,b,c: a+b+c, li1, li2, li3)                     # will take same indexed values from each sequence', 'l=[1,2,3,4,5,6,7,8,9]\\ndef square(num):\\n    return num*num\\n\\nprint(map(square, l))\\nmap(g, [1,2,3,4], [4,3,2,1])\\n\\nli1 = [1,2,3]; li2 = [4,5,6], li3 = [7,8,9]\\nmap(lambda a,b,c: a+b+c, li1, li2, li3)                     # will take same indexed values from each sequence', 'l=[1,2,3,4,5,6,7,8,9]\\ndef square(num):\\n    return num*num\\n\\nprint(map(square, l))\\nmap(g, [1,2,3,4], [4,3,2,1])\\n\\nli1 = [1,2,3]; li2 = [4,5,6]; li3 = [7,8,9]\\nmap(lambda a,b,c: a+b+c, li1, li2, li3)                     # will take same indexed values from each sequence', 'l=[1,2,3,4,5,6,7,8,9]\\ndef square(num):\\n    return num*num\\n\\nprint(map(square, l))\\nmap(g, [1,2,3,4], [4,3,2,1])\\n\\nli1 = [1,2,3]; li2 = [4,5,6]; li3 = [7,8,9]\\nmap(lambda a,b,c: a+b+c, li1, li2, li3)                     # will take same indexed values from each sequence', '\\tIt takes one function and an iterator as an Input and execution goes in this way: Take 2 elements of the sequence and perform operate on them and keeps going on in the same manner.\\n\\t\\tfind the maximum value from the sequence:\\n\\t\\tlst = [12, 32, 1, 87, 9, 5, 43]\\n\\t\\t\\n\\t\\treduce(lambda a, b: a if a>b else b, lst)\\n\\n    If the sequence is empty, then set initial default value as:\\n        reduce(lambda x, y: x+y, [], 1)                                 # will always return 1 if sequnce is empty', 'find the maximum value from the sequence:\\nlst = [12, 32, 1, 87, 9, 5, 43]\\n\\nreduce(lambda a, b: a if a>b else b, lst)\\n\\n    If the sequence is empty, then set initial default value as:\\n        reduce(lambda x, y: x+y, [], 1)                                 # will always return 1 if sequnce is empty', '# find the maximum value from the sequence:\\nlst = [12, 32, 1, 87, 9, 5, 43]\\n\\nreduce(lambda a, b: a if a>b else b, lst)\\n\\n# If the sequence is empty, then set initial default value as:\\nreduce(lambda x, y: x+y, [], 1)                                 # will always return 1 if sequnce is empty', 'from functools import reduce\\n# find the maximum value from the sequence:\\nlst = [12, 32, 1, 87, 9, 5, 43]\\n\\nreduce(lambda a, b: a if a>b else b, lst)\\n\\n# If the sequence is empty, then set initial default value as:\\nreduce(lambda x, y: x+y, [], 1)                                 # will always return 1 if sequnce is empty', 'from functools import reduce\\n# find the maximum value from the sequence:\\nlst = [12, 32, 1, 87, 9, 5, 43]\\n\\nprint(reduce(lambda a, b: a if a>b else b, lst))\\n\\n# If the sequence is empty, then set initial default value as:\\nprint(reduce(lambda x, y: x+y, [], 1))                                 # will always return 1 if sequnce is empty', 'lst = [12, 21, 23, 54, 65, 56, 98. 89]\\nfilter(lambda a: True if a%2 == 0 else False, lst) -> [12, 54, 56, 98]\\nfilter(lambda a: a%2 == 0 , lst)', 'lst = [12, 21, 23, 54, 65, 56, 98, 89]\\nfilter(lambda a: True if a%2 == 0 else False, lst) -> [12, 54, 56, 98]\\nfilter(lambda a: a%2 == 0 , lst)', 'lst = [12, 21, 23, 54, 65, 56, 98, 89]\\nfilter(lambda a: True if a%2 == 0 else False, lst) # [12, 54, 56, 98]\\nfilter(lambda a: a%2 == 0 , lst)', 'def foo():\\t\\n\\treturn 1\\nfoo()\\n# 1\\n\\n\\na=\"This is a global string\"\\ndef foo():\\n\\tprint locals()\\n\\tprint globals()\\t\\t#will print {\\'a\\': \\'Ths is global String\\', \\'__builtins__\\': <module \\'__builtin__\\' (built-in)>, \\'__package__\\': None, \\'__name__\\': \\t\\t\\t\\t\\t\\t\\'__main__\\', \\'foo\\': <function foo at 0xb76a0d14>, \\'__doc__\\': None}\\n\\nfoo()\\t\\t\\t#will print {}\\n\\n\\na=\"This is a global string\"\\ndef foo():\\n\\ta=\"This is a Local string\"\\n\\tprint locals()\\nfoo()\\t\\t\\t#will print This is a local string\\nprint(a)\\t\\t\\t#wll print a as it was before calling the function\\nprint globals()\\t\\t#will print a as it was before caaling the function\\n\\n\\n\\ndef foo(x):\\n\\tprint locals()\\n\\tfoo(1)\\t\\t\\t#will print {\\'x\\':1}\\n\\ndef foo(x,y=0):\\t\\t#function with default parameters\\n\\treturn x+y\\nfoo(1,2)\\nfoo(1)\\n\\ndef foo(x,y):\\n    return x+y\\nfoo(y=2,x=4)\\t\\t#function with Named arguments\\n\\n\\n# Functions can be passed as an Arguments in Python. \\ndef add(x,y):\\n\\treturn x+y\\ndef sub(x,y):\\n    return x-y\\ndef apply(func,x,y):\\n    return func(x,y)\\n\\t\\tapply(add,4,5)\\n\\t\\tapply(sub,4,5)\\n\\n# Variable number of Arguments\\ndef foo(*args):\\n\\tprint args\\t\\t\\t# It will print the recieved arguments in form of Tuples\\n    \\nll = [1,2,3,4]\\nfoo(*ll) \\t\\t\\t\\t# (1,2,3,4)\\nfoo([1,2,3,4])\\t\\t\\t\\t# ([1,2,3,4],)\\n\\n# Another use of *(asterisk):\\nl=[1,2]\\ndef foo(x,y):\\n\\treturn x+y\\n\\nfoo(l[0],l[1])\\t\\t\\t\\t# Not a good Manner\\nfoo(*l)\\t\\t\\t\\t\\t# elements of list will go one by one\\n\\n\\n# Variable Number of Arguments in Key-Value pair\\ndef foo(**kwargs):\\n    print kwargs\\t\\t\\t# will return {x:1,y:2}\\nfoo(x=1,y=2)\\n\\nd={\\'a\\':1,\\'b\\':2}\\ndef foo(a,b):\\n\\treturn a+b\\t\\nfoo(d[\\'a\\'],d[\\'b\\'])\\t\\t\\t# \\'3\\'  | Values will get added\\nfoo(*d)\\t\\t\\t\\t\\t# \\'ab\\' | keys will get merged\\nfoo(**d)\\t\\t\\t\\t# \\'3\\'  | Values will get added', 'def foo():\\t\\n\\treturn 1\\nfoo()\\n# 1\\n\\n\\na=\"This is a global string\"\\ndef foo():\\n\\tprint(locals())\\n\\tprint(globals())\\t\\t#will print {\\'a\\': \\'Ths is global String\\', \\'__builtins__\\': <module \\'__builtin__\\' (built-in)>, \\'__package__\\': None, \\'__name__\\': \\t\\t\\t\\t\\t\\t\\'__main__\\', \\'foo\\': <function foo at 0xb76a0d14>, \\'__doc__\\': None}\\n\\nfoo()\\t\\t\\t#will print {}\\n\\n\\na=\"This is a global string\"\\ndef foo():\\n\\ta=\"This is a Local string\"\\n\\tprint locals()\\nfoo()\\t\\t\\t#will print This is a local string\\nprint(a)\\t\\t\\t#wll print a as it was before calling the function\\nprint globals()\\t\\t#will print a as it was before caaling the function\\n\\n\\n\\ndef foo(x):\\n\\tprint locals()\\n\\tfoo(1)\\t\\t\\t#will print {\\'x\\':1}\\n\\ndef foo(x,y=0):\\t\\t#function with default parameters\\n\\treturn x+y\\nfoo(1,2)\\nfoo(1)\\n\\ndef foo(x,y):\\n    return x+y\\nfoo(y=2,x=4)\\t\\t#function with Named arguments\\n\\n\\n# Functions can be passed as an Arguments in Python. \\ndef add(x,y):\\n\\treturn x+y\\ndef sub(x,y):\\n    return x-y\\ndef apply(func,x,y):\\n    return func(x,y)\\n\\t\\tapply(add,4,5)\\n\\t\\tapply(sub,4,5)\\n\\n# Variable number of Arguments\\ndef foo(*args):\\n\\tprint args\\t\\t\\t# It will print the recieved arguments in form of Tuples\\n    \\nll = [1,2,3,4]\\nfoo(*ll) \\t\\t\\t\\t# (1,2,3,4)\\nfoo([1,2,3,4])\\t\\t\\t\\t# ([1,2,3,4],)\\n\\n# Another use of *(asterisk):\\nl=[1,2]\\ndef foo(x,y):\\n\\treturn x+y\\n\\nfoo(l[0],l[1])\\t\\t\\t\\t# Not a good Manner\\nfoo(*l)\\t\\t\\t\\t\\t# elements of list will go one by one\\n\\n\\n# Variable Number of Arguments in Key-Value pair\\ndef foo(**kwargs):\\n    print kwargs\\t\\t\\t# will return {x:1,y:2}\\nfoo(x=1,y=2)\\n\\nd={\\'a\\':1,\\'b\\':2}\\ndef foo(a,b):\\n\\treturn a+b\\t\\nfoo(d[\\'a\\'],d[\\'b\\'])\\t\\t\\t# \\'3\\'  | Values will get added\\nfoo(*d)\\t\\t\\t\\t\\t# \\'ab\\' | keys will get merged\\nfoo(**d)\\t\\t\\t\\t# \\'3\\'  | Values will get added', 'def foo():\\t\\n\\treturn 1\\nfoo()\\n# 1\\n\\n\\na=\"This is a global string\"\\ndef foo():\\n\\tprint(locals())\\n\\tprint(globals())\\t\\t#will print {\\'a\\': \\'Ths is global String\\', \\'__builtins__\\': <module \\'__builtin__\\' (built-in)>, \\'__package__\\': None, \\'__name__\\': \\t\\t\\t\\t\\t\\t\\'__main__\\', \\'foo\\': <function foo at 0xb76a0d14>, \\'__doc__\\': None}\\n\\nfoo()\\t\\t\\t#will print {}\\n\\n\\na=\"This is a global string\"\\ndef foo():\\n\\ta=\"This is a Local string\"\\n\\tprint(locals())\\nfoo()\\t\\t\\t#will print This is a local string\\nprint(a)\\t\\t\\t#wll print a as it was before calling the function\\nprint(globals())\\t\\t#will print a as it was before caaling the function\\n\\n\\n\\ndef foo(x):\\n\\tprint(locals())\\n\\tfoo(1)\\t\\t\\t#will print {\\'x\\':1}\\n\\ndef foo(x,y=0):\\t\\t#function with default parameters\\n\\treturn x+y\\nfoo(1,2)\\nfoo(1)\\n\\ndef foo(x,y):\\n    return x+y\\nfoo(y=2,x=4)\\t\\t#function with Named arguments\\n\\n\\n# Functions can be passed as an Arguments in Python. \\ndef add(x,y):\\n\\treturn x+y\\ndef sub(x,y):\\n    return x-y\\ndef apply(func,x,y):\\n    return func(x,y)\\n\\t\\tapply(add,4,5)\\n\\t\\tapply(sub,4,5)\\n\\n# Variable number of Arguments\\ndef foo(*args):\\n\\tprint args\\t\\t\\t# It will print the recieved arguments in form of Tuples\\n    \\nll = [1,2,3,4]\\nfoo(*ll) \\t\\t\\t\\t# (1,2,3,4)\\nfoo([1,2,3,4])\\t\\t\\t\\t# ([1,2,3,4],)\\n\\n# Another use of *(asterisk):\\nl=[1,2]\\ndef foo(x,y):\\n\\treturn x+y\\n\\nfoo(l[0],l[1])\\t\\t\\t\\t# Not a good Manner\\nfoo(*l)\\t\\t\\t\\t\\t# elements of list will go one by one\\n\\n\\n# Variable Number of Arguments in Key-Value pair\\ndef foo(**kwargs):\\n    print kwargs\\t\\t\\t# will return {x:1,y:2}\\nfoo(x=1,y=2)\\n\\nd={\\'a\\':1,\\'b\\':2}\\ndef foo(a,b):\\n\\treturn a+b\\t\\nfoo(d[\\'a\\'],d[\\'b\\'])\\t\\t\\t# \\'3\\'  | Values will get added\\nfoo(*d)\\t\\t\\t\\t\\t# \\'ab\\' | keys will get merged\\nfoo(**d)\\t\\t\\t\\t# \\'3\\'  | Values will get added', 'def foo():\\t\\n\\treturn 1\\nfoo()\\n# 1\\n\\n\\na=\"This is a global string\"\\ndef foo():\\n\\tprint(locals())\\n\\tprint(globals())\\t\\t#will print {\\'a\\': \\'Ths is global String\\', \\'__builtins__\\': <module \\'__builtin__\\' (built-in)>, \\'__package__\\': None, \\'__name__\\': \\t\\t\\t\\t\\t\\t\\'__main__\\', \\'foo\\': <function foo at 0xb76a0d14>, \\'__doc__\\': None}\\n\\nfoo()\\t\\t\\t#will print {}\\n\\n\\na=\"This is a global string\"\\ndef foo():\\n\\ta=\"This is a Local string\"\\n\\tprint(locals())\\nfoo()\\t\\t\\t#will print This is a local string\\nprint(a)\\t\\t\\t#wll print a as it was before calling the function\\nprint(globals())\\t\\t#will print a as it was before caaling the function\\n\\n\\n\\ndef foo(x):\\n\\tprint(locals())\\n\\tfoo(1)\\t\\t\\t#will print {\\'x\\':1}\\n\\ndef foo(x,y=0):\\t\\t#function with default parameters\\n\\treturn x+y\\nfoo(1,2)\\nfoo(1)\\n\\ndef foo(x,y):\\n    return x+y\\nfoo(y=2,x=4)\\t\\t#function with Named arguments\\n\\n\\n# Functions can be passed as an Arguments in Python. \\ndef add(x,y):\\n\\treturn x+y\\ndef sub(x,y):\\n    return x-y\\ndef apply(func,x,y):\\n    return func(x,y)\\napply(add,4,5)\\napply(sub,4,5)\\n\\n# Variable number of Arguments\\ndef foo(*args):\\n\\tprint(args)\\t\\t\\t# It will print the recieved arguments in form of Tuples\\n    \\nll = [1,2,3,4]\\nfoo(*ll) \\t\\t\\t\\t# (1,2,3,4)\\nfoo([1,2,3,4])\\t\\t\\t\\t# ([1,2,3,4],)\\n\\n# Another use of *(asterisk):\\nl=[1,2]\\ndef foo(x,y):\\n\\treturn x+y\\n\\nfoo(l[0],l[1])\\t\\t\\t\\t# Not a good Manner\\nfoo(*l)\\t\\t\\t\\t\\t# elements of list will go one by one\\n\\n\\n# Variable Number of Arguments in Key-Value pair\\ndef foo(**kwargs):\\n    print kwargs\\t\\t\\t# will return {x:1,y:2}\\nfoo(x=1,y=2)\\n\\nd={\\'a\\':1,\\'b\\':2}\\ndef foo(a,b):\\n\\treturn a+b\\t\\nfoo(d[\\'a\\'],d[\\'b\\'])\\t\\t\\t# \\'3\\'  | Values will get added\\nfoo(*d)\\t\\t\\t\\t\\t# \\'ab\\' | keys will get merged\\nfoo(**d)\\t\\t\\t\\t# \\'3\\'  | Values will get added', 'def foo():\\t\\n\\treturn 1\\nfoo()\\n# 1\\n\\n\\na=\"This is a global string\"\\ndef foo():\\n\\tprint(locals())\\n\\tprint(globals())\\t\\t#will print {\\'a\\': \\'Ths is global String\\', \\'__builtins__\\': <module \\'__builtin__\\' (built-in)>, \\'__package__\\': None, \\'__name__\\': \\t\\t\\t\\t\\t\\t\\'__main__\\', \\'foo\\': <function foo at 0xb76a0d14>, \\'__doc__\\': None}\\n\\nfoo()\\t\\t\\t#will print {}\\n\\n\\na=\"This is a global string\"\\ndef foo():\\n\\ta=\"This is a Local string\"\\n\\tprint(locals())\\nfoo()\\t\\t\\t#will print This is a local string\\nprint(a)\\t\\t\\t#wll print a as it was before calling the function\\nprint(globals())\\t\\t#will print a as it was before caaling the function\\n\\n\\n\\ndef foo(x):\\n\\tprint(locals())\\n\\tfoo(1)\\t\\t\\t#will print {\\'x\\':1}\\n\\ndef foo(x,y=0):\\t\\t#function with default parameters\\n\\treturn x+y\\nfoo(1,2)\\nfoo(1)\\n\\ndef foo(x,y):\\n    return x+y\\nfoo(y=2,x=4)\\t\\t#function with Named arguments\\n\\n\\n# Functions can be passed as an Arguments in Python. \\ndef add(x,y):\\n\\treturn x+y\\ndef sub(x,y):\\n    return x-y\\ndef apply(func,x,y):\\n    return func(x,y)\\napply(add,4,5)\\napply(sub,4,5)\\n\\n# Variable number of Arguments\\ndef foo(*args):\\n\\tprint(args)\\t\\t\\t# It will print the recieved arguments in form of Tuples\\n    \\nll = [1,2,3,4]\\nfoo(*ll) \\t\\t\\t\\t# (1,2,3,4)\\nfoo([1,2,3,4])\\t\\t\\t\\t# ([1,2,3,4],)\\n\\n# Another use of *(asterisk):\\nl=[1,2]\\ndef foo(x,y):\\n\\treturn x+y\\n\\nfoo(l[0],l[1])\\t\\t\\t\\t# Not a good Manner\\nfoo(*l)\\t\\t\\t\\t\\t# elements of list will go one by one\\n\\n\\n# Variable Number of Arguments in Key-Value pair\\ndef foo(**kwargs):\\n    print(kwargs)\\t\\t\\t# will return {x:1,y:2}\\nfoo(x=1,y=2)\\n\\nd={\\'a\\':1,\\'b\\':2}\\ndef foo(a,b):\\n\\treturn a+b\\t\\nfoo(d[\\'a\\'],d[\\'b\\'])\\t\\t\\t# \\'3\\'  | Values will get added\\nfoo(*d)\\t\\t\\t\\t\\t# \\'ab\\' | keys will get merged\\nfoo(**d)\\t\\t\\t\\t# \\'3\\'  | Values will get added', 'def foo():\\t\\n\\treturn 1\\nfoo()\\n# 1\\n\\n\\na=\"This is a global string\"\\ndef foo():\\n    print(locals())\\n    print(globals())        # will print {\\'a\\': \\'Ths is global String\\', \\'__builtins__\\': <module \\'__builtin__\\' (built-in)>, \\'__package__\\': None, \\'__name__\\': \\t\\t\\t\\t\\t\\t\\'__main__\\', \\'foo\\': <function foo at 0xb76a0d14>, \\'__doc__\\': None}\\n\\nfoo()                       # will print {}\\n\\n\\na=\"This is a global string\"\\ndef foo():\\n    a=\"This is a Local string\"\\n    print(locals())\\nfoo()                        # will print This is a local string\\nprint(a)                     # wll print a as it was before calling the function\\nprint(globals())             # will print a as it was before caaling the function\\n\\n\\n\\ndef foo(x):\\n\\tprint(locals())\\n\\tfoo(1)                   # will print {\\'x\\':1}\\n\\ndef foo(x,y=0):\\t             # function with default parameters\\n\\treturn x+y\\nfoo(1,2)\\nfoo(1)\\n\\ndef foo(x,y):\\n    return x+y\\nfoo(y=2,x=4)                  # function with Named arguments\\n\\n\\n# Functions can be passed as an Arguments in Python. \\ndef add(x,y):\\n\\treturn x+y\\ndef sub(x,y):\\n    return x-y\\ndef apply(func,x,y):\\n    return func(x,y)\\napply(add,4,5)\\napply(sub,4,5)\\n\\n# Variable number of Arguments\\ndef foo(*args):\\n\\tprint(args)\\t\\t\\t# It will print the recieved arguments in form of Tuples\\n    \\nll = [1,2,3,4]\\nfoo(*ll) \\t\\t\\t\\t# (1,2,3,4)\\nfoo([1,2,3,4])\\t\\t\\t\\t# ([1,2,3,4],)\\n\\n# Another use of *(asterisk):\\nl=[1,2]\\ndef foo(x,y):\\n\\treturn x+y\\n\\nfoo(l[0],l[1])\\t\\t\\t\\t# Not a good Manner\\nfoo(*l)\\t\\t\\t\\t\\t# elements of list will go one by one\\n\\n\\n# Variable Number of Arguments in Key-Value pair\\ndef foo(**kwargs):\\n    print(kwargs)\\t\\t\\t# will return {x:1,y:2}\\nfoo(x=1,y=2)\\n\\nd={\\'a\\':1,\\'b\\':2}\\ndef foo(a,b):\\n\\treturn a+b\\t\\nfoo(d[\\'a\\'],d[\\'b\\'])\\t\\t\\t# \\'3\\'  | Values will get added\\nfoo(*d)\\t\\t\\t\\t\\t# \\'ab\\' | keys will get merged\\nfoo(**d)\\t\\t\\t\\t# \\'3\\'  | Values will get added'], '_oh': {11: <map object at 0x000002F0A91612B0>, 12: <map object at 0x000002F0A9161400>, 17: 1, 21: <filter object at 0x000002F0A9148A30>, 26: 3}, '_dh': ['F:\\\\Workspace\\\\projects\\\\practice_projects'], 'In': ['', \"# Lambda functions are also known as Anonymous function\\n# One liner function which don't have any definition, \\n# They're just assigned to a variable and that variable will receive the arguments\\n# lambda args: <executablity>\\ng = lambda x, y: x**y\\nprint(g(2,5))\", \"# Lambda functions are also known as Anonymous function\\n# One liner function which don't have any definition, \\n# They're just assigned to a variable and that variable will receive the arguments\\n# lambda args: <executablity>\\ng = lambda x, y: x**y\\nprint(g(2,5))\", '## \\tIt takes one function and an iterator as input and applies the function on each value of the iterator and returns a list of result.\\n\\t\\tmap(funtion_name_to_be_mapped,sequence)\\n\\t\\toutput form--> list []', '## \\tIt takes one function and an iterator as input and applies the function on each value of the iterator and returns a list of result.\\n##\\t\\tmap(funtion_name_to_be_mapped,sequence)\\n##\\t\\toutput form--> list []', '## \\tIt takes one function and an iterator as input and applies the function on each value of the iterator and returns a list of result.\\n##\\t\\tmap(funtion_name_to_be_mapped,sequence)\\n##\\t\\toutput form--> list []', \"print('helo')\", \"print('helo')\", 'l=[1,2,3,4,5,6,7,8,9]\\ndef square(num):\\n    return num*num\\n\\nprint map(square, l)\\nmap(g, [1,2,3,4], [4,3,2,1])\\n\\nli1 = [1,2,3], li2 = [4,5,6], li3 = [7,8,9]\\nmap(lambda a,b,c: a+b+c, li1, li2, li3)                     # will take same indexed values from each sequence', 'l=[1,2,3,4,5,6,7,8,9]\\ndef square(num):\\n    return num*num\\n\\nprint(map(square, l))\\nmap(g, [1,2,3,4], [4,3,2,1])\\n\\nli1 = [1,2,3], li2 = [4,5,6], li3 = [7,8,9]\\nmap(lambda a,b,c: a+b+c, li1, li2, li3)                     # will take same indexed values from each sequence', 'l=[1,2,3,4,5,6,7,8,9]\\ndef square(num):\\n    return num*num\\n\\nprint(map(square, l))\\nmap(g, [1,2,3,4], [4,3,2,1])\\n\\nli1 = [1,2,3]; li2 = [4,5,6], li3 = [7,8,9]\\nmap(lambda a,b,c: a+b+c, li1, li2, li3)                     # will take same indexed values from each sequence', 'l=[1,2,3,4,5,6,7,8,9]\\ndef square(num):\\n    return num*num\\n\\nprint(map(square, l))\\nmap(g, [1,2,3,4], [4,3,2,1])\\n\\nli1 = [1,2,3]; li2 = [4,5,6]; li3 = [7,8,9]\\nmap(lambda a,b,c: a+b+c, li1, li2, li3)                     # will take same indexed values from each sequence', 'l=[1,2,3,4,5,6,7,8,9]\\ndef square(num):\\n    return num*num\\n\\nprint(map(square, l))\\nmap(g, [1,2,3,4], [4,3,2,1])\\n\\nli1 = [1,2,3]; li2 = [4,5,6]; li3 = [7,8,9]\\nmap(lambda a,b,c: a+b+c, li1, li2, li3)                     # will take same indexed values from each sequence', '\\tIt takes one function and an iterator as an Input and execution goes in this way: Take 2 elements of the sequence and perform operate on them and keeps going on in the same manner.\\n\\t\\tfind the maximum value from the sequence:\\n\\t\\tlst = [12, 32, 1, 87, 9, 5, 43]\\n\\t\\t\\n\\t\\treduce(lambda a, b: a if a>b else b, lst)\\n\\n    If the sequence is empty, then set initial default value as:\\n        reduce(lambda x, y: x+y, [], 1)                                 # will always return 1 if sequnce is empty', 'find the maximum value from the sequence:\\nlst = [12, 32, 1, 87, 9, 5, 43]\\n\\nreduce(lambda a, b: a if a>b else b, lst)\\n\\n    If the sequence is empty, then set initial default value as:\\n        reduce(lambda x, y: x+y, [], 1)                                 # will always return 1 if sequnce is empty', '# find the maximum value from the sequence:\\nlst = [12, 32, 1, 87, 9, 5, 43]\\n\\nreduce(lambda a, b: a if a>b else b, lst)\\n\\n# If the sequence is empty, then set initial default value as:\\nreduce(lambda x, y: x+y, [], 1)                                 # will always return 1 if sequnce is empty', 'from functools import reduce\\n# find the maximum value from the sequence:\\nlst = [12, 32, 1, 87, 9, 5, 43]\\n\\nreduce(lambda a, b: a if a>b else b, lst)\\n\\n# If the sequence is empty, then set initial default value as:\\nreduce(lambda x, y: x+y, [], 1)                                 # will always return 1 if sequnce is empty', 'from functools import reduce\\n# find the maximum value from the sequence:\\nlst = [12, 32, 1, 87, 9, 5, 43]\\n\\nprint(reduce(lambda a, b: a if a>b else b, lst))\\n\\n# If the sequence is empty, then set initial default value as:\\nprint(reduce(lambda x, y: x+y, [], 1))                                 # will always return 1 if sequnce is empty', 'lst = [12, 21, 23, 54, 65, 56, 98. 89]\\nfilter(lambda a: True if a%2 == 0 else False, lst) -> [12, 54, 56, 98]\\nfilter(lambda a: a%2 == 0 , lst)', 'lst = [12, 21, 23, 54, 65, 56, 98, 89]\\nfilter(lambda a: True if a%2 == 0 else False, lst) -> [12, 54, 56, 98]\\nfilter(lambda a: a%2 == 0 , lst)', 'lst = [12, 21, 23, 54, 65, 56, 98, 89]\\nfilter(lambda a: True if a%2 == 0 else False, lst) # [12, 54, 56, 98]\\nfilter(lambda a: a%2 == 0 , lst)', 'def foo():\\t\\n\\treturn 1\\nfoo()\\n# 1\\n\\n\\na=\"This is a global string\"\\ndef foo():\\n\\tprint locals()\\n\\tprint globals()\\t\\t#will print {\\'a\\': \\'Ths is global String\\', \\'__builtins__\\': <module \\'__builtin__\\' (built-in)>, \\'__package__\\': None, \\'__name__\\': \\t\\t\\t\\t\\t\\t\\'__main__\\', \\'foo\\': <function foo at 0xb76a0d14>, \\'__doc__\\': None}\\n\\nfoo()\\t\\t\\t#will print {}\\n\\n\\na=\"This is a global string\"\\ndef foo():\\n\\ta=\"This is a Local string\"\\n\\tprint locals()\\nfoo()\\t\\t\\t#will print This is a local string\\nprint(a)\\t\\t\\t#wll print a as it was before calling the function\\nprint globals()\\t\\t#will print a as it was before caaling the function\\n\\n\\n\\ndef foo(x):\\n\\tprint locals()\\n\\tfoo(1)\\t\\t\\t#will print {\\'x\\':1}\\n\\ndef foo(x,y=0):\\t\\t#function with default parameters\\n\\treturn x+y\\nfoo(1,2)\\nfoo(1)\\n\\ndef foo(x,y):\\n    return x+y\\nfoo(y=2,x=4)\\t\\t#function with Named arguments\\n\\n\\n# Functions can be passed as an Arguments in Python. \\ndef add(x,y):\\n\\treturn x+y\\ndef sub(x,y):\\n    return x-y\\ndef apply(func,x,y):\\n    return func(x,y)\\n\\t\\tapply(add,4,5)\\n\\t\\tapply(sub,4,5)\\n\\n# Variable number of Arguments\\ndef foo(*args):\\n\\tprint args\\t\\t\\t# It will print the recieved arguments in form of Tuples\\n    \\nll = [1,2,3,4]\\nfoo(*ll) \\t\\t\\t\\t# (1,2,3,4)\\nfoo([1,2,3,4])\\t\\t\\t\\t# ([1,2,3,4],)\\n\\n# Another use of *(asterisk):\\nl=[1,2]\\ndef foo(x,y):\\n\\treturn x+y\\n\\nfoo(l[0],l[1])\\t\\t\\t\\t# Not a good Manner\\nfoo(*l)\\t\\t\\t\\t\\t# elements of list will go one by one\\n\\n\\n# Variable Number of Arguments in Key-Value pair\\ndef foo(**kwargs):\\n    print kwargs\\t\\t\\t# will return {x:1,y:2}\\nfoo(x=1,y=2)\\n\\nd={\\'a\\':1,\\'b\\':2}\\ndef foo(a,b):\\n\\treturn a+b\\t\\nfoo(d[\\'a\\'],d[\\'b\\'])\\t\\t\\t# \\'3\\'  | Values will get added\\nfoo(*d)\\t\\t\\t\\t\\t# \\'ab\\' | keys will get merged\\nfoo(**d)\\t\\t\\t\\t# \\'3\\'  | Values will get added', 'def foo():\\t\\n\\treturn 1\\nfoo()\\n# 1\\n\\n\\na=\"This is a global string\"\\ndef foo():\\n\\tprint(locals())\\n\\tprint(globals())\\t\\t#will print {\\'a\\': \\'Ths is global String\\', \\'__builtins__\\': <module \\'__builtin__\\' (built-in)>, \\'__package__\\': None, \\'__name__\\': \\t\\t\\t\\t\\t\\t\\'__main__\\', \\'foo\\': <function foo at 0xb76a0d14>, \\'__doc__\\': None}\\n\\nfoo()\\t\\t\\t#will print {}\\n\\n\\na=\"This is a global string\"\\ndef foo():\\n\\ta=\"This is a Local string\"\\n\\tprint locals()\\nfoo()\\t\\t\\t#will print This is a local string\\nprint(a)\\t\\t\\t#wll print a as it was before calling the function\\nprint globals()\\t\\t#will print a as it was before caaling the function\\n\\n\\n\\ndef foo(x):\\n\\tprint locals()\\n\\tfoo(1)\\t\\t\\t#will print {\\'x\\':1}\\n\\ndef foo(x,y=0):\\t\\t#function with default parameters\\n\\treturn x+y\\nfoo(1,2)\\nfoo(1)\\n\\ndef foo(x,y):\\n    return x+y\\nfoo(y=2,x=4)\\t\\t#function with Named arguments\\n\\n\\n# Functions can be passed as an Arguments in Python. \\ndef add(x,y):\\n\\treturn x+y\\ndef sub(x,y):\\n    return x-y\\ndef apply(func,x,y):\\n    return func(x,y)\\n\\t\\tapply(add,4,5)\\n\\t\\tapply(sub,4,5)\\n\\n# Variable number of Arguments\\ndef foo(*args):\\n\\tprint args\\t\\t\\t# It will print the recieved arguments in form of Tuples\\n    \\nll = [1,2,3,4]\\nfoo(*ll) \\t\\t\\t\\t# (1,2,3,4)\\nfoo([1,2,3,4])\\t\\t\\t\\t# ([1,2,3,4],)\\n\\n# Another use of *(asterisk):\\nl=[1,2]\\ndef foo(x,y):\\n\\treturn x+y\\n\\nfoo(l[0],l[1])\\t\\t\\t\\t# Not a good Manner\\nfoo(*l)\\t\\t\\t\\t\\t# elements of list will go one by one\\n\\n\\n# Variable Number of Arguments in Key-Value pair\\ndef foo(**kwargs):\\n    print kwargs\\t\\t\\t# will return {x:1,y:2}\\nfoo(x=1,y=2)\\n\\nd={\\'a\\':1,\\'b\\':2}\\ndef foo(a,b):\\n\\treturn a+b\\t\\nfoo(d[\\'a\\'],d[\\'b\\'])\\t\\t\\t# \\'3\\'  | Values will get added\\nfoo(*d)\\t\\t\\t\\t\\t# \\'ab\\' | keys will get merged\\nfoo(**d)\\t\\t\\t\\t# \\'3\\'  | Values will get added', 'def foo():\\t\\n\\treturn 1\\nfoo()\\n# 1\\n\\n\\na=\"This is a global string\"\\ndef foo():\\n\\tprint(locals())\\n\\tprint(globals())\\t\\t#will print {\\'a\\': \\'Ths is global String\\', \\'__builtins__\\': <module \\'__builtin__\\' (built-in)>, \\'__package__\\': None, \\'__name__\\': \\t\\t\\t\\t\\t\\t\\'__main__\\', \\'foo\\': <function foo at 0xb76a0d14>, \\'__doc__\\': None}\\n\\nfoo()\\t\\t\\t#will print {}\\n\\n\\na=\"This is a global string\"\\ndef foo():\\n\\ta=\"This is a Local string\"\\n\\tprint(locals())\\nfoo()\\t\\t\\t#will print This is a local string\\nprint(a)\\t\\t\\t#wll print a as it was before calling the function\\nprint(globals())\\t\\t#will print a as it was before caaling the function\\n\\n\\n\\ndef foo(x):\\n\\tprint(locals())\\n\\tfoo(1)\\t\\t\\t#will print {\\'x\\':1}\\n\\ndef foo(x,y=0):\\t\\t#function with default parameters\\n\\treturn x+y\\nfoo(1,2)\\nfoo(1)\\n\\ndef foo(x,y):\\n    return x+y\\nfoo(y=2,x=4)\\t\\t#function with Named arguments\\n\\n\\n# Functions can be passed as an Arguments in Python. \\ndef add(x,y):\\n\\treturn x+y\\ndef sub(x,y):\\n    return x-y\\ndef apply(func,x,y):\\n    return func(x,y)\\n\\t\\tapply(add,4,5)\\n\\t\\tapply(sub,4,5)\\n\\n# Variable number of Arguments\\ndef foo(*args):\\n\\tprint args\\t\\t\\t# It will print the recieved arguments in form of Tuples\\n    \\nll = [1,2,3,4]\\nfoo(*ll) \\t\\t\\t\\t# (1,2,3,4)\\nfoo([1,2,3,4])\\t\\t\\t\\t# ([1,2,3,4],)\\n\\n# Another use of *(asterisk):\\nl=[1,2]\\ndef foo(x,y):\\n\\treturn x+y\\n\\nfoo(l[0],l[1])\\t\\t\\t\\t# Not a good Manner\\nfoo(*l)\\t\\t\\t\\t\\t# elements of list will go one by one\\n\\n\\n# Variable Number of Arguments in Key-Value pair\\ndef foo(**kwargs):\\n    print kwargs\\t\\t\\t# will return {x:1,y:2}\\nfoo(x=1,y=2)\\n\\nd={\\'a\\':1,\\'b\\':2}\\ndef foo(a,b):\\n\\treturn a+b\\t\\nfoo(d[\\'a\\'],d[\\'b\\'])\\t\\t\\t# \\'3\\'  | Values will get added\\nfoo(*d)\\t\\t\\t\\t\\t# \\'ab\\' | keys will get merged\\nfoo(**d)\\t\\t\\t\\t# \\'3\\'  | Values will get added', 'def foo():\\t\\n\\treturn 1\\nfoo()\\n# 1\\n\\n\\na=\"This is a global string\"\\ndef foo():\\n\\tprint(locals())\\n\\tprint(globals())\\t\\t#will print {\\'a\\': \\'Ths is global String\\', \\'__builtins__\\': <module \\'__builtin__\\' (built-in)>, \\'__package__\\': None, \\'__name__\\': \\t\\t\\t\\t\\t\\t\\'__main__\\', \\'foo\\': <function foo at 0xb76a0d14>, \\'__doc__\\': None}\\n\\nfoo()\\t\\t\\t#will print {}\\n\\n\\na=\"This is a global string\"\\ndef foo():\\n\\ta=\"This is a Local string\"\\n\\tprint(locals())\\nfoo()\\t\\t\\t#will print This is a local string\\nprint(a)\\t\\t\\t#wll print a as it was before calling the function\\nprint(globals())\\t\\t#will print a as it was before caaling the function\\n\\n\\n\\ndef foo(x):\\n\\tprint(locals())\\n\\tfoo(1)\\t\\t\\t#will print {\\'x\\':1}\\n\\ndef foo(x,y=0):\\t\\t#function with default parameters\\n\\treturn x+y\\nfoo(1,2)\\nfoo(1)\\n\\ndef foo(x,y):\\n    return x+y\\nfoo(y=2,x=4)\\t\\t#function with Named arguments\\n\\n\\n# Functions can be passed as an Arguments in Python. \\ndef add(x,y):\\n\\treturn x+y\\ndef sub(x,y):\\n    return x-y\\ndef apply(func,x,y):\\n    return func(x,y)\\napply(add,4,5)\\napply(sub,4,5)\\n\\n# Variable number of Arguments\\ndef foo(*args):\\n\\tprint(args)\\t\\t\\t# It will print the recieved arguments in form of Tuples\\n    \\nll = [1,2,3,4]\\nfoo(*ll) \\t\\t\\t\\t# (1,2,3,4)\\nfoo([1,2,3,4])\\t\\t\\t\\t# ([1,2,3,4],)\\n\\n# Another use of *(asterisk):\\nl=[1,2]\\ndef foo(x,y):\\n\\treturn x+y\\n\\nfoo(l[0],l[1])\\t\\t\\t\\t# Not a good Manner\\nfoo(*l)\\t\\t\\t\\t\\t# elements of list will go one by one\\n\\n\\n# Variable Number of Arguments in Key-Value pair\\ndef foo(**kwargs):\\n    print kwargs\\t\\t\\t# will return {x:1,y:2}\\nfoo(x=1,y=2)\\n\\nd={\\'a\\':1,\\'b\\':2}\\ndef foo(a,b):\\n\\treturn a+b\\t\\nfoo(d[\\'a\\'],d[\\'b\\'])\\t\\t\\t# \\'3\\'  | Values will get added\\nfoo(*d)\\t\\t\\t\\t\\t# \\'ab\\' | keys will get merged\\nfoo(**d)\\t\\t\\t\\t# \\'3\\'  | Values will get added', 'def foo():\\t\\n\\treturn 1\\nfoo()\\n# 1\\n\\n\\na=\"This is a global string\"\\ndef foo():\\n\\tprint(locals())\\n\\tprint(globals())\\t\\t#will print {\\'a\\': \\'Ths is global String\\', \\'__builtins__\\': <module \\'__builtin__\\' (built-in)>, \\'__package__\\': None, \\'__name__\\': \\t\\t\\t\\t\\t\\t\\'__main__\\', \\'foo\\': <function foo at 0xb76a0d14>, \\'__doc__\\': None}\\n\\nfoo()\\t\\t\\t#will print {}\\n\\n\\na=\"This is a global string\"\\ndef foo():\\n\\ta=\"This is a Local string\"\\n\\tprint(locals())\\nfoo()\\t\\t\\t#will print This is a local string\\nprint(a)\\t\\t\\t#wll print a as it was before calling the function\\nprint(globals())\\t\\t#will print a as it was before caaling the function\\n\\n\\n\\ndef foo(x):\\n\\tprint(locals())\\n\\tfoo(1)\\t\\t\\t#will print {\\'x\\':1}\\n\\ndef foo(x,y=0):\\t\\t#function with default parameters\\n\\treturn x+y\\nfoo(1,2)\\nfoo(1)\\n\\ndef foo(x,y):\\n    return x+y\\nfoo(y=2,x=4)\\t\\t#function with Named arguments\\n\\n\\n# Functions can be passed as an Arguments in Python. \\ndef add(x,y):\\n\\treturn x+y\\ndef sub(x,y):\\n    return x-y\\ndef apply(func,x,y):\\n    return func(x,y)\\napply(add,4,5)\\napply(sub,4,5)\\n\\n# Variable number of Arguments\\ndef foo(*args):\\n\\tprint(args)\\t\\t\\t# It will print the recieved arguments in form of Tuples\\n    \\nll = [1,2,3,4]\\nfoo(*ll) \\t\\t\\t\\t# (1,2,3,4)\\nfoo([1,2,3,4])\\t\\t\\t\\t# ([1,2,3,4],)\\n\\n# Another use of *(asterisk):\\nl=[1,2]\\ndef foo(x,y):\\n\\treturn x+y\\n\\nfoo(l[0],l[1])\\t\\t\\t\\t# Not a good Manner\\nfoo(*l)\\t\\t\\t\\t\\t# elements of list will go one by one\\n\\n\\n# Variable Number of Arguments in Key-Value pair\\ndef foo(**kwargs):\\n    print(kwargs)\\t\\t\\t# will return {x:1,y:2}\\nfoo(x=1,y=2)\\n\\nd={\\'a\\':1,\\'b\\':2}\\ndef foo(a,b):\\n\\treturn a+b\\t\\nfoo(d[\\'a\\'],d[\\'b\\'])\\t\\t\\t# \\'3\\'  | Values will get added\\nfoo(*d)\\t\\t\\t\\t\\t# \\'ab\\' | keys will get merged\\nfoo(**d)\\t\\t\\t\\t# \\'3\\'  | Values will get added', 'def foo():\\t\\n\\treturn 1\\nfoo()\\n# 1\\n\\n\\na=\"This is a global string\"\\ndef foo():\\n    print(locals())\\n    print(globals())        # will print {\\'a\\': \\'Ths is global String\\', \\'__builtins__\\': <module \\'__builtin__\\' (built-in)>, \\'__package__\\': None, \\'__name__\\': \\t\\t\\t\\t\\t\\t\\'__main__\\', \\'foo\\': <function foo at 0xb76a0d14>, \\'__doc__\\': None}\\n\\nfoo()                       # will print {}\\n\\n\\na=\"This is a global string\"\\ndef foo():\\n    a=\"This is a Local string\"\\n    print(locals())\\nfoo()                        # will print This is a local string\\nprint(a)                     # wll print a as it was before calling the function\\nprint(globals())             # will print a as it was before caaling the function\\n\\n\\n\\ndef foo(x):\\n\\tprint(locals())\\n\\tfoo(1)                   # will print {\\'x\\':1}\\n\\ndef foo(x,y=0):\\t             # function with default parameters\\n\\treturn x+y\\nfoo(1,2)\\nfoo(1)\\n\\ndef foo(x,y):\\n    return x+y\\nfoo(y=2,x=4)                  # function with Named arguments\\n\\n\\n# Functions can be passed as an Arguments in Python. \\ndef add(x,y):\\n\\treturn x+y\\ndef sub(x,y):\\n    return x-y\\ndef apply(func,x,y):\\n    return func(x,y)\\napply(add,4,5)\\napply(sub,4,5)\\n\\n# Variable number of Arguments\\ndef foo(*args):\\n\\tprint(args)\\t\\t\\t# It will print the recieved arguments in form of Tuples\\n    \\nll = [1,2,3,4]\\nfoo(*ll) \\t\\t\\t\\t# (1,2,3,4)\\nfoo([1,2,3,4])\\t\\t\\t\\t# ([1,2,3,4],)\\n\\n# Another use of *(asterisk):\\nl=[1,2]\\ndef foo(x,y):\\n\\treturn x+y\\n\\nfoo(l[0],l[1])\\t\\t\\t\\t# Not a good Manner\\nfoo(*l)\\t\\t\\t\\t\\t# elements of list will go one by one\\n\\n\\n# Variable Number of Arguments in Key-Value pair\\ndef foo(**kwargs):\\n    print(kwargs)\\t\\t\\t# will return {x:1,y:2}\\nfoo(x=1,y=2)\\n\\nd={\\'a\\':1,\\'b\\':2}\\ndef foo(a,b):\\n\\treturn a+b\\t\\nfoo(d[\\'a\\'],d[\\'b\\'])\\t\\t\\t# \\'3\\'  | Values will get added\\nfoo(*d)\\t\\t\\t\\t\\t# \\'ab\\' | keys will get merged\\nfoo(**d)\\t\\t\\t\\t# \\'3\\'  | Values will get added'], 'Out': {11: <map object at 0x000002F0A91612B0>, 12: <map object at 0x000002F0A9161400>, 17: 1, 21: <filter object at 0x000002F0A9148A30>, 26: 3}, 'get_ipython': <bound method InteractiveShell.get_ipython of <ipykernel.zmqshell.ZMQInteractiveShell object at 0x000002F0A90727C0>>, 'exit': <IPython.core.autocall.ZMQExitAutocall object at 0x000002F0A90C7FD0>, 'quit': <IPython.core.autocall.ZMQExitAutocall object at 0x000002F0A90C7FD0>, '_': 3, '__': <filter object at 0x000002F0A9148A30>, '___': 1, '_i': 'def foo():\\t\\n\\treturn 1\\nfoo()\\n# 1\\n\\n\\na=\"This is a global string\"\\ndef foo():\\n\\tprint(locals())\\n\\tprint(globals())\\t\\t#will print {\\'a\\': \\'Ths is global String\\', \\'__builtins__\\': <module \\'__builtin__\\' (built-in)>, \\'__package__\\': None, \\'__name__\\': \\t\\t\\t\\t\\t\\t\\'__main__\\', \\'foo\\': <function foo at 0xb76a0d14>, \\'__doc__\\': None}\\n\\nfoo()\\t\\t\\t#will print {}\\n\\n\\na=\"This is a global string\"\\ndef foo():\\n\\ta=\"This is a Local string\"\\n\\tprint(locals())\\nfoo()\\t\\t\\t#will print This is a local string\\nprint(a)\\t\\t\\t#wll print a as it was before calling the function\\nprint(globals())\\t\\t#will print a as it was before caaling the function\\n\\n\\n\\ndef foo(x):\\n\\tprint(locals())\\n\\tfoo(1)\\t\\t\\t#will print {\\'x\\':1}\\n\\ndef foo(x,y=0):\\t\\t#function with default parameters\\n\\treturn x+y\\nfoo(1,2)\\nfoo(1)\\n\\ndef foo(x,y):\\n    return x+y\\nfoo(y=2,x=4)\\t\\t#function with Named arguments\\n\\n\\n# Functions can be passed as an Arguments in Python. \\ndef add(x,y):\\n\\treturn x+y\\ndef sub(x,y):\\n    return x-y\\ndef apply(func,x,y):\\n    return func(x,y)\\napply(add,4,5)\\napply(sub,4,5)\\n\\n# Variable number of Arguments\\ndef foo(*args):\\n\\tprint(args)\\t\\t\\t# It will print the recieved arguments in form of Tuples\\n    \\nll = [1,2,3,4]\\nfoo(*ll) \\t\\t\\t\\t# (1,2,3,4)\\nfoo([1,2,3,4])\\t\\t\\t\\t# ([1,2,3,4],)\\n\\n# Another use of *(asterisk):\\nl=[1,2]\\ndef foo(x,y):\\n\\treturn x+y\\n\\nfoo(l[0],l[1])\\t\\t\\t\\t# Not a good Manner\\nfoo(*l)\\t\\t\\t\\t\\t# elements of list will go one by one\\n\\n\\n# Variable Number of Arguments in Key-Value pair\\ndef foo(**kwargs):\\n    print(kwargs)\\t\\t\\t# will return {x:1,y:2}\\nfoo(x=1,y=2)\\n\\nd={\\'a\\':1,\\'b\\':2}\\ndef foo(a,b):\\n\\treturn a+b\\t\\nfoo(d[\\'a\\'],d[\\'b\\'])\\t\\t\\t# \\'3\\'  | Values will get added\\nfoo(*d)\\t\\t\\t\\t\\t# \\'ab\\' | keys will get merged\\nfoo(**d)\\t\\t\\t\\t# \\'3\\'  | Values will get added', '_ii': 'def foo():\\t\\n\\treturn 1\\nfoo()\\n# 1\\n\\n\\na=\"This is a global string\"\\ndef foo():\\n\\tprint(locals())\\n\\tprint(globals())\\t\\t#will print {\\'a\\': \\'Ths is global String\\', \\'__builtins__\\': <module \\'__builtin__\\' (built-in)>, \\'__package__\\': None, \\'__name__\\': \\t\\t\\t\\t\\t\\t\\'__main__\\', \\'foo\\': <function foo at 0xb76a0d14>, \\'__doc__\\': None}\\n\\nfoo()\\t\\t\\t#will print {}\\n\\n\\na=\"This is a global string\"\\ndef foo():\\n\\ta=\"This is a Local string\"\\n\\tprint(locals())\\nfoo()\\t\\t\\t#will print This is a local string\\nprint(a)\\t\\t\\t#wll print a as it was before calling the function\\nprint(globals())\\t\\t#will print a as it was before caaling the function\\n\\n\\n\\ndef foo(x):\\n\\tprint(locals())\\n\\tfoo(1)\\t\\t\\t#will print {\\'x\\':1}\\n\\ndef foo(x,y=0):\\t\\t#function with default parameters\\n\\treturn x+y\\nfoo(1,2)\\nfoo(1)\\n\\ndef foo(x,y):\\n    return x+y\\nfoo(y=2,x=4)\\t\\t#function with Named arguments\\n\\n\\n# Functions can be passed as an Arguments in Python. \\ndef add(x,y):\\n\\treturn x+y\\ndef sub(x,y):\\n    return x-y\\ndef apply(func,x,y):\\n    return func(x,y)\\napply(add,4,5)\\napply(sub,4,5)\\n\\n# Variable number of Arguments\\ndef foo(*args):\\n\\tprint(args)\\t\\t\\t# It will print the recieved arguments in form of Tuples\\n    \\nll = [1,2,3,4]\\nfoo(*ll) \\t\\t\\t\\t# (1,2,3,4)\\nfoo([1,2,3,4])\\t\\t\\t\\t# ([1,2,3,4],)\\n\\n# Another use of *(asterisk):\\nl=[1,2]\\ndef foo(x,y):\\n\\treturn x+y\\n\\nfoo(l[0],l[1])\\t\\t\\t\\t# Not a good Manner\\nfoo(*l)\\t\\t\\t\\t\\t# elements of list will go one by one\\n\\n\\n# Variable Number of Arguments in Key-Value pair\\ndef foo(**kwargs):\\n    print kwargs\\t\\t\\t# will return {x:1,y:2}\\nfoo(x=1,y=2)\\n\\nd={\\'a\\':1,\\'b\\':2}\\ndef foo(a,b):\\n\\treturn a+b\\t\\nfoo(d[\\'a\\'],d[\\'b\\'])\\t\\t\\t# \\'3\\'  | Values will get added\\nfoo(*d)\\t\\t\\t\\t\\t# \\'ab\\' | keys will get merged\\nfoo(**d)\\t\\t\\t\\t# \\'3\\'  | Values will get added', '_iii': 'def foo():\\t\\n\\treturn 1\\nfoo()\\n# 1\\n\\n\\na=\"This is a global string\"\\ndef foo():\\n\\tprint(locals())\\n\\tprint(globals())\\t\\t#will print {\\'a\\': \\'Ths is global String\\', \\'__builtins__\\': <module \\'__builtin__\\' (built-in)>, \\'__package__\\': None, \\'__name__\\': \\t\\t\\t\\t\\t\\t\\'__main__\\', \\'foo\\': <function foo at 0xb76a0d14>, \\'__doc__\\': None}\\n\\nfoo()\\t\\t\\t#will print {}\\n\\n\\na=\"This is a global string\"\\ndef foo():\\n\\ta=\"This is a Local string\"\\n\\tprint(locals())\\nfoo()\\t\\t\\t#will print This is a local string\\nprint(a)\\t\\t\\t#wll print a as it was before calling the function\\nprint(globals())\\t\\t#will print a as it was before caaling the function\\n\\n\\n\\ndef foo(x):\\n\\tprint(locals())\\n\\tfoo(1)\\t\\t\\t#will print {\\'x\\':1}\\n\\ndef foo(x,y=0):\\t\\t#function with default parameters\\n\\treturn x+y\\nfoo(1,2)\\nfoo(1)\\n\\ndef foo(x,y):\\n    return x+y\\nfoo(y=2,x=4)\\t\\t#function with Named arguments\\n\\n\\n# Functions can be passed as an Arguments in Python. \\ndef add(x,y):\\n\\treturn x+y\\ndef sub(x,y):\\n    return x-y\\ndef apply(func,x,y):\\n    return func(x,y)\\n\\t\\tapply(add,4,5)\\n\\t\\tapply(sub,4,5)\\n\\n# Variable number of Arguments\\ndef foo(*args):\\n\\tprint args\\t\\t\\t# It will print the recieved arguments in form of Tuples\\n    \\nll = [1,2,3,4]\\nfoo(*ll) \\t\\t\\t\\t# (1,2,3,4)\\nfoo([1,2,3,4])\\t\\t\\t\\t# ([1,2,3,4],)\\n\\n# Another use of *(asterisk):\\nl=[1,2]\\ndef foo(x,y):\\n\\treturn x+y\\n\\nfoo(l[0],l[1])\\t\\t\\t\\t# Not a good Manner\\nfoo(*l)\\t\\t\\t\\t\\t# elements of list will go one by one\\n\\n\\n# Variable Number of Arguments in Key-Value pair\\ndef foo(**kwargs):\\n    print kwargs\\t\\t\\t# will return {x:1,y:2}\\nfoo(x=1,y=2)\\n\\nd={\\'a\\':1,\\'b\\':2}\\ndef foo(a,b):\\n\\treturn a+b\\t\\nfoo(d[\\'a\\'],d[\\'b\\'])\\t\\t\\t# \\'3\\'  | Values will get added\\nfoo(*d)\\t\\t\\t\\t\\t# \\'ab\\' | keys will get merged\\nfoo(**d)\\t\\t\\t\\t# \\'3\\'  | Values will get added', '_i1': \"# Lambda functions are also known as Anonymous function\\n# One liner function which don't have any definition, \\n# They're just assigned to a variable and that variable will receive the arguments\\n# lambda args: <executablity>\\ng = lambda x, y: x**y\\nprint(g(2,5))\", 'g': <function <lambda> at 0x000002F0A91401F0>, '_i2': \"# Lambda functions are also known as Anonymous function\\n# One liner function which don't have any definition, \\n# They're just assigned to a variable and that variable will receive the arguments\\n# lambda args: <executablity>\\ng = lambda x, y: x**y\\nprint(g(2,5))\", '_i3': '## \\tIt takes one function and an iterator as input and applies the function on each value of the iterator and returns a list of result.\\n\\t\\tmap(funtion_name_to_be_mapped,sequence)\\n\\t\\toutput form--> list []', '_i4': '## \\tIt takes one function and an iterator as input and applies the function on each value of the iterator and returns a list of result.\\n##\\t\\tmap(funtion_name_to_be_mapped,sequence)\\n##\\t\\toutput form--> list []', '_i5': '## \\tIt takes one function and an iterator as input and applies the function on each value of the iterator and returns a list of result.\\n##\\t\\tmap(funtion_name_to_be_mapped,sequence)\\n##\\t\\toutput form--> list []', '_i6': \"print('helo')\", '_i7': \"print('helo')\", '_i8': 'l=[1,2,3,4,5,6,7,8,9]\\ndef square(num):\\n    return num*num\\n\\nprint map(square, l)\\nmap(g, [1,2,3,4], [4,3,2,1])\\n\\nli1 = [1,2,3], li2 = [4,5,6], li3 = [7,8,9]\\nmap(lambda a,b,c: a+b+c, li1, li2, li3)                     # will take same indexed values from each sequence', '_i9': 'l=[1,2,3,4,5,6,7,8,9]\\ndef square(num):\\n    return num*num\\n\\nprint(map(square, l))\\nmap(g, [1,2,3,4], [4,3,2,1])\\n\\nli1 = [1,2,3], li2 = [4,5,6], li3 = [7,8,9]\\nmap(lambda a,b,c: a+b+c, li1, li2, li3)                     # will take same indexed values from each sequence', '_i10': 'l=[1,2,3,4,5,6,7,8,9]\\ndef square(num):\\n    return num*num\\n\\nprint(map(square, l))\\nmap(g, [1,2,3,4], [4,3,2,1])\\n\\nli1 = [1,2,3]; li2 = [4,5,6], li3 = [7,8,9]\\nmap(lambda a,b,c: a+b+c, li1, li2, li3)                     # will take same indexed values from each sequence', '_i11': 'l=[1,2,3,4,5,6,7,8,9]\\ndef square(num):\\n    return num*num\\n\\nprint(map(square, l))\\nmap(g, [1,2,3,4], [4,3,2,1])\\n\\nli1 = [1,2,3]; li2 = [4,5,6]; li3 = [7,8,9]\\nmap(lambda a,b,c: a+b+c, li1, li2, li3)                     # will take same indexed values from each sequence', 'l': [1, 2], 'square': <function square at 0x000002F0A9140790>, 'li1': [1, 2, 3], 'li2': [4, 5, 6], 'li3': [7, 8, 9], '_11': <map object at 0x000002F0A91612B0>, '_i12': 'l=[1,2,3,4,5,6,7,8,9]\\ndef square(num):\\n    return num*num\\n\\nprint(map(square, l))\\nmap(g, [1,2,3,4], [4,3,2,1])\\n\\nli1 = [1,2,3]; li2 = [4,5,6]; li3 = [7,8,9]\\nmap(lambda a,b,c: a+b+c, li1, li2, li3)                     # will take same indexed values from each sequence', '_12': <map object at 0x000002F0A9161400>, '_i13': '\\tIt takes one function and an iterator as an Input and execution goes in this way: Take 2 elements of the sequence and perform operate on them and keeps going on in the same manner.\\n\\t\\tfind the maximum value from the sequence:\\n\\t\\tlst = [12, 32, 1, 87, 9, 5, 43]\\n\\t\\t\\n\\t\\treduce(lambda a, b: a if a>b else b, lst)\\n\\n    If the sequence is empty, then set initial default value as:\\n        reduce(lambda x, y: x+y, [], 1)                                 # will always return 1 if sequnce is empty', '_i15': '\\t\\tfind the maximum value from the sequence:\\n\\t\\tlst = [12, 32, 1, 87, 9, 5, 43]\\n\\t\\t\\n\\t\\treduce(lambda a, b: a if a>b else b, lst)\\n\\n    If the sequence is empty, then set initial default value as:\\n        reduce(lambda x, y: x+y, [], 1)                                 # will always return 1 if sequnce is empty', '_i16': '# find the maximum value from the sequence:\\nlst = [12, 32, 1, 87, 9, 5, 43]\\n\\nreduce(lambda a, b: a if a>b else b, lst)\\n\\n# If the sequence is empty, then set initial default value as:\\nreduce(lambda x, y: x+y, [], 1)                                 # will always return 1 if sequnce is empty', 'lst': [12, 21, 23, 54, 65, 56, 98, 89], '_i17': 'from functools import reduce\\n# find the maximum value from the sequence:\\nlst = [12, 32, 1, 87, 9, 5, 43]\\n\\nreduce(lambda a, b: a if a>b else b, lst)\\n\\n# If the sequence is empty, then set initial default value as:\\nreduce(lambda x, y: x+y, [], 1)                                 # will always return 1 if sequnce is empty', 'reduce': <built-in function reduce>, '_17': 1, '_i18': 'from functools import reduce\\n# find the maximum value from the sequence:\\nlst = [12, 32, 1, 87, 9, 5, 43]\\n\\nprint(reduce(lambda a, b: a if a>b else b, lst))\\n\\n# If the sequence is empty, then set initial default value as:\\nprint(reduce(lambda x, y: x+y, [], 1))                                 # will always return 1 if sequnce is empty', '_i19': 'lst = [12, 21, 23, 54, 65, 56, 98. 89]\\nfilter(lambda a: True if a%2 == 0 else False, lst) -> [12, 54, 56, 98]\\nfilter(lambda a: a%2 == 0 , lst)', '_i20': 'lst = [12, 21, 23, 54, 65, 56, 98, 89]\\nfilter(lambda a: True if a%2 == 0 else False, lst) -> [12, 54, 56, 98]\\nfilter(lambda a: a%2 == 0 , lst)', '_i21': 'lst = [12, 21, 23, 54, 65, 56, 98, 89]\\nfilter(lambda a: True if a%2 == 0 else False, lst) # [12, 54, 56, 98]\\nfilter(lambda a: a%2 == 0 , lst)', '_21': <filter object at 0x000002F0A9148A30>, '_i22': 'def foo():\\t\\n\\treturn 1\\nfoo()\\n# 1\\n\\n\\na=\"This is a global string\"\\ndef foo():\\n\\tprint locals()\\n\\tprint globals()\\t\\t#will print {\\'a\\': \\'Ths is global String\\', \\'__builtins__\\': <module \\'__builtin__\\' (built-in)>, \\'__package__\\': None, \\'__name__\\': \\t\\t\\t\\t\\t\\t\\'__main__\\', \\'foo\\': <function foo at 0xb76a0d14>, \\'__doc__\\': None}\\n\\nfoo()\\t\\t\\t#will print {}\\n\\n\\na=\"This is a global string\"\\ndef foo():\\n\\ta=\"This is a Local string\"\\n\\tprint locals()\\nfoo()\\t\\t\\t#will print This is a local string\\nprint(a)\\t\\t\\t#wll print a as it was before calling the function\\nprint globals()\\t\\t#will print a as it was before caaling the function\\n\\n\\n\\ndef foo(x):\\n\\tprint locals()\\n\\tfoo(1)\\t\\t\\t#will print {\\'x\\':1}\\n\\ndef foo(x,y=0):\\t\\t#function with default parameters\\n\\treturn x+y\\nfoo(1,2)\\nfoo(1)\\n\\ndef foo(x,y):\\n    return x+y\\nfoo(y=2,x=4)\\t\\t#function with Named arguments\\n\\n\\n# Functions can be passed as an Arguments in Python. \\ndef add(x,y):\\n\\treturn x+y\\ndef sub(x,y):\\n    return x-y\\ndef apply(func,x,y):\\n    return func(x,y)\\n\\t\\tapply(add,4,5)\\n\\t\\tapply(sub,4,5)\\n\\n# Variable number of Arguments\\ndef foo(*args):\\n\\tprint args\\t\\t\\t# It will print the recieved arguments in form of Tuples\\n    \\nll = [1,2,3,4]\\nfoo(*ll) \\t\\t\\t\\t# (1,2,3,4)\\nfoo([1,2,3,4])\\t\\t\\t\\t# ([1,2,3,4],)\\n\\n# Another use of *(asterisk):\\nl=[1,2]\\ndef foo(x,y):\\n\\treturn x+y\\n\\nfoo(l[0],l[1])\\t\\t\\t\\t# Not a good Manner\\nfoo(*l)\\t\\t\\t\\t\\t# elements of list will go one by one\\n\\n\\n# Variable Number of Arguments in Key-Value pair\\ndef foo(**kwargs):\\n    print kwargs\\t\\t\\t# will return {x:1,y:2}\\nfoo(x=1,y=2)\\n\\nd={\\'a\\':1,\\'b\\':2}\\ndef foo(a,b):\\n\\treturn a+b\\t\\nfoo(d[\\'a\\'],d[\\'b\\'])\\t\\t\\t# \\'3\\'  | Values will get added\\nfoo(*d)\\t\\t\\t\\t\\t# \\'ab\\' | keys will get merged\\nfoo(**d)\\t\\t\\t\\t# \\'3\\'  | Values will get added', '_i23': 'def foo():\\t\\n\\treturn 1\\nfoo()\\n# 1\\n\\n\\na=\"This is a global string\"\\ndef foo():\\n\\tprint(locals())\\n\\tprint(globals())\\t\\t#will print {\\'a\\': \\'Ths is global String\\', \\'__builtins__\\': <module \\'__builtin__\\' (built-in)>, \\'__package__\\': None, \\'__name__\\': \\t\\t\\t\\t\\t\\t\\'__main__\\', \\'foo\\': <function foo at 0xb76a0d14>, \\'__doc__\\': None}\\n\\nfoo()\\t\\t\\t#will print {}\\n\\n\\na=\"This is a global string\"\\ndef foo():\\n\\ta=\"This is a Local string\"\\n\\tprint locals()\\nfoo()\\t\\t\\t#will print This is a local string\\nprint(a)\\t\\t\\t#wll print a as it was before calling the function\\nprint globals()\\t\\t#will print a as it was before caaling the function\\n\\n\\n\\ndef foo(x):\\n\\tprint locals()\\n\\tfoo(1)\\t\\t\\t#will print {\\'x\\':1}\\n\\ndef foo(x,y=0):\\t\\t#function with default parameters\\n\\treturn x+y\\nfoo(1,2)\\nfoo(1)\\n\\ndef foo(x,y):\\n    return x+y\\nfoo(y=2,x=4)\\t\\t#function with Named arguments\\n\\n\\n# Functions can be passed as an Arguments in Python. \\ndef add(x,y):\\n\\treturn x+y\\ndef sub(x,y):\\n    return x-y\\ndef apply(func,x,y):\\n    return func(x,y)\\n\\t\\tapply(add,4,5)\\n\\t\\tapply(sub,4,5)\\n\\n# Variable number of Arguments\\ndef foo(*args):\\n\\tprint args\\t\\t\\t# It will print the recieved arguments in form of Tuples\\n    \\nll = [1,2,3,4]\\nfoo(*ll) \\t\\t\\t\\t# (1,2,3,4)\\nfoo([1,2,3,4])\\t\\t\\t\\t# ([1,2,3,4],)\\n\\n# Another use of *(asterisk):\\nl=[1,2]\\ndef foo(x,y):\\n\\treturn x+y\\n\\nfoo(l[0],l[1])\\t\\t\\t\\t# Not a good Manner\\nfoo(*l)\\t\\t\\t\\t\\t# elements of list will go one by one\\n\\n\\n# Variable Number of Arguments in Key-Value pair\\ndef foo(**kwargs):\\n    print kwargs\\t\\t\\t# will return {x:1,y:2}\\nfoo(x=1,y=2)\\n\\nd={\\'a\\':1,\\'b\\':2}\\ndef foo(a,b):\\n\\treturn a+b\\t\\nfoo(d[\\'a\\'],d[\\'b\\'])\\t\\t\\t# \\'3\\'  | Values will get added\\nfoo(*d)\\t\\t\\t\\t\\t# \\'ab\\' | keys will get merged\\nfoo(**d)\\t\\t\\t\\t# \\'3\\'  | Values will get added', '_i24': 'def foo():\\t\\n\\treturn 1\\nfoo()\\n# 1\\n\\n\\na=\"This is a global string\"\\ndef foo():\\n\\tprint(locals())\\n\\tprint(globals())\\t\\t#will print {\\'a\\': \\'Ths is global String\\', \\'__builtins__\\': <module \\'__builtin__\\' (built-in)>, \\'__package__\\': None, \\'__name__\\': \\t\\t\\t\\t\\t\\t\\'__main__\\', \\'foo\\': <function foo at 0xb76a0d14>, \\'__doc__\\': None}\\n\\nfoo()\\t\\t\\t#will print {}\\n\\n\\na=\"This is a global string\"\\ndef foo():\\n\\ta=\"This is a Local string\"\\n\\tprint(locals())\\nfoo()\\t\\t\\t#will print This is a local string\\nprint(a)\\t\\t\\t#wll print a as it was before calling the function\\nprint(globals())\\t\\t#will print a as it was before caaling the function\\n\\n\\n\\ndef foo(x):\\n\\tprint(locals())\\n\\tfoo(1)\\t\\t\\t#will print {\\'x\\':1}\\n\\ndef foo(x,y=0):\\t\\t#function with default parameters\\n\\treturn x+y\\nfoo(1,2)\\nfoo(1)\\n\\ndef foo(x,y):\\n    return x+y\\nfoo(y=2,x=4)\\t\\t#function with Named arguments\\n\\n\\n# Functions can be passed as an Arguments in Python. \\ndef add(x,y):\\n\\treturn x+y\\ndef sub(x,y):\\n    return x-y\\ndef apply(func,x,y):\\n    return func(x,y)\\n\\t\\tapply(add,4,5)\\n\\t\\tapply(sub,4,5)\\n\\n# Variable number of Arguments\\ndef foo(*args):\\n\\tprint args\\t\\t\\t# It will print the recieved arguments in form of Tuples\\n    \\nll = [1,2,3,4]\\nfoo(*ll) \\t\\t\\t\\t# (1,2,3,4)\\nfoo([1,2,3,4])\\t\\t\\t\\t# ([1,2,3,4],)\\n\\n# Another use of *(asterisk):\\nl=[1,2]\\ndef foo(x,y):\\n\\treturn x+y\\n\\nfoo(l[0],l[1])\\t\\t\\t\\t# Not a good Manner\\nfoo(*l)\\t\\t\\t\\t\\t# elements of list will go one by one\\n\\n\\n# Variable Number of Arguments in Key-Value pair\\ndef foo(**kwargs):\\n    print kwargs\\t\\t\\t# will return {x:1,y:2}\\nfoo(x=1,y=2)\\n\\nd={\\'a\\':1,\\'b\\':2}\\ndef foo(a,b):\\n\\treturn a+b\\t\\nfoo(d[\\'a\\'],d[\\'b\\'])\\t\\t\\t# \\'3\\'  | Values will get added\\nfoo(*d)\\t\\t\\t\\t\\t# \\'ab\\' | keys will get merged\\nfoo(**d)\\t\\t\\t\\t# \\'3\\'  | Values will get added', '_i25': 'def foo():\\t\\n\\treturn 1\\nfoo()\\n# 1\\n\\n\\na=\"This is a global string\"\\ndef foo():\\n\\tprint(locals())\\n\\tprint(globals())\\t\\t#will print {\\'a\\': \\'Ths is global String\\', \\'__builtins__\\': <module \\'__builtin__\\' (built-in)>, \\'__package__\\': None, \\'__name__\\': \\t\\t\\t\\t\\t\\t\\'__main__\\', \\'foo\\': <function foo at 0xb76a0d14>, \\'__doc__\\': None}\\n\\nfoo()\\t\\t\\t#will print {}\\n\\n\\na=\"This is a global string\"\\ndef foo():\\n\\ta=\"This is a Local string\"\\n\\tprint(locals())\\nfoo()\\t\\t\\t#will print This is a local string\\nprint(a)\\t\\t\\t#wll print a as it was before calling the function\\nprint(globals())\\t\\t#will print a as it was before caaling the function\\n\\n\\n\\ndef foo(x):\\n\\tprint(locals())\\n\\tfoo(1)\\t\\t\\t#will print {\\'x\\':1}\\n\\ndef foo(x,y=0):\\t\\t#function with default parameters\\n\\treturn x+y\\nfoo(1,2)\\nfoo(1)\\n\\ndef foo(x,y):\\n    return x+y\\nfoo(y=2,x=4)\\t\\t#function with Named arguments\\n\\n\\n# Functions can be passed as an Arguments in Python. \\ndef add(x,y):\\n\\treturn x+y\\ndef sub(x,y):\\n    return x-y\\ndef apply(func,x,y):\\n    return func(x,y)\\napply(add,4,5)\\napply(sub,4,5)\\n\\n# Variable number of Arguments\\ndef foo(*args):\\n\\tprint(args)\\t\\t\\t# It will print the recieved arguments in form of Tuples\\n    \\nll = [1,2,3,4]\\nfoo(*ll) \\t\\t\\t\\t# (1,2,3,4)\\nfoo([1,2,3,4])\\t\\t\\t\\t# ([1,2,3,4],)\\n\\n# Another use of *(asterisk):\\nl=[1,2]\\ndef foo(x,y):\\n\\treturn x+y\\n\\nfoo(l[0],l[1])\\t\\t\\t\\t# Not a good Manner\\nfoo(*l)\\t\\t\\t\\t\\t# elements of list will go one by one\\n\\n\\n# Variable Number of Arguments in Key-Value pair\\ndef foo(**kwargs):\\n    print kwargs\\t\\t\\t# will return {x:1,y:2}\\nfoo(x=1,y=2)\\n\\nd={\\'a\\':1,\\'b\\':2}\\ndef foo(a,b):\\n\\treturn a+b\\t\\nfoo(d[\\'a\\'],d[\\'b\\'])\\t\\t\\t# \\'3\\'  | Values will get added\\nfoo(*d)\\t\\t\\t\\t\\t# \\'ab\\' | keys will get merged\\nfoo(**d)\\t\\t\\t\\t# \\'3\\'  | Values will get added', '_i26': 'def foo():\\t\\n\\treturn 1\\nfoo()\\n# 1\\n\\n\\na=\"This is a global string\"\\ndef foo():\\n\\tprint(locals())\\n\\tprint(globals())\\t\\t#will print {\\'a\\': \\'Ths is global String\\', \\'__builtins__\\': <module \\'__builtin__\\' (built-in)>, \\'__package__\\': None, \\'__name__\\': \\t\\t\\t\\t\\t\\t\\'__main__\\', \\'foo\\': <function foo at 0xb76a0d14>, \\'__doc__\\': None}\\n\\nfoo()\\t\\t\\t#will print {}\\n\\n\\na=\"This is a global string\"\\ndef foo():\\n\\ta=\"This is a Local string\"\\n\\tprint(locals())\\nfoo()\\t\\t\\t#will print This is a local string\\nprint(a)\\t\\t\\t#wll print a as it was before calling the function\\nprint(globals())\\t\\t#will print a as it was before caaling the function\\n\\n\\n\\ndef foo(x):\\n\\tprint(locals())\\n\\tfoo(1)\\t\\t\\t#will print {\\'x\\':1}\\n\\ndef foo(x,y=0):\\t\\t#function with default parameters\\n\\treturn x+y\\nfoo(1,2)\\nfoo(1)\\n\\ndef foo(x,y):\\n    return x+y\\nfoo(y=2,x=4)\\t\\t#function with Named arguments\\n\\n\\n# Functions can be passed as an Arguments in Python. \\ndef add(x,y):\\n\\treturn x+y\\ndef sub(x,y):\\n    return x-y\\ndef apply(func,x,y):\\n    return func(x,y)\\napply(add,4,5)\\napply(sub,4,5)\\n\\n# Variable number of Arguments\\ndef foo(*args):\\n\\tprint(args)\\t\\t\\t# It will print the recieved arguments in form of Tuples\\n    \\nll = [1,2,3,4]\\nfoo(*ll) \\t\\t\\t\\t# (1,2,3,4)\\nfoo([1,2,3,4])\\t\\t\\t\\t# ([1,2,3,4],)\\n\\n# Another use of *(asterisk):\\nl=[1,2]\\ndef foo(x,y):\\n\\treturn x+y\\n\\nfoo(l[0],l[1])\\t\\t\\t\\t# Not a good Manner\\nfoo(*l)\\t\\t\\t\\t\\t# elements of list will go one by one\\n\\n\\n# Variable Number of Arguments in Key-Value pair\\ndef foo(**kwargs):\\n    print(kwargs)\\t\\t\\t# will return {x:1,y:2}\\nfoo(x=1,y=2)\\n\\nd={\\'a\\':1,\\'b\\':2}\\ndef foo(a,b):\\n\\treturn a+b\\t\\nfoo(d[\\'a\\'],d[\\'b\\'])\\t\\t\\t# \\'3\\'  | Values will get added\\nfoo(*d)\\t\\t\\t\\t\\t# \\'ab\\' | keys will get merged\\nfoo(**d)\\t\\t\\t\\t# \\'3\\'  | Values will get added', 'foo': <function foo at 0x000002F0AB0FED30>, 'a': 'This is a global string', 'add': <function add at 0x000002F0A9221430>, 'sub': <function sub at 0x000002F0A9221820>, 'apply': <function apply at 0x000002F0A92218B0>, 'll': [1, 2, 3, 4], 'd': {'a': 1, 'b': 2}, '_26': 3, '_i27': 'def foo():\\t\\n\\treturn 1\\nfoo()\\n# 1\\n\\n\\na=\"This is a global string\"\\ndef foo():\\n    print(locals())\\n    print(globals())        # will print {\\'a\\': \\'Ths is global String\\', \\'__builtins__\\': <module \\'__builtin__\\' (built-in)>, \\'__package__\\': None, \\'__name__\\': \\t\\t\\t\\t\\t\\t\\'__main__\\', \\'foo\\': <function foo at 0xb76a0d14>, \\'__doc__\\': None}\\n\\nfoo()                       # will print {}\\n\\n\\na=\"This is a global string\"\\ndef foo():\\n    a=\"This is a Local string\"\\n    print(locals())\\nfoo()                        # will print This is a local string\\nprint(a)                     # wll print a as it was before calling the function\\nprint(globals())             # will print a as it was before caaling the function\\n\\n\\n\\ndef foo(x):\\n\\tprint(locals())\\n\\tfoo(1)                   # will print {\\'x\\':1}\\n\\ndef foo(x,y=0):\\t             # function with default parameters\\n\\treturn x+y\\nfoo(1,2)\\nfoo(1)\\n\\ndef foo(x,y):\\n    return x+y\\nfoo(y=2,x=4)                  # function with Named arguments\\n\\n\\n# Functions can be passed as an Arguments in Python. \\ndef add(x,y):\\n\\treturn x+y\\ndef sub(x,y):\\n    return x-y\\ndef apply(func,x,y):\\n    return func(x,y)\\napply(add,4,5)\\napply(sub,4,5)\\n\\n# Variable number of Arguments\\ndef foo(*args):\\n\\tprint(args)\\t\\t\\t# It will print the recieved arguments in form of Tuples\\n    \\nll = [1,2,3,4]\\nfoo(*ll) \\t\\t\\t\\t# (1,2,3,4)\\nfoo([1,2,3,4])\\t\\t\\t\\t# ([1,2,3,4],)\\n\\n# Another use of *(asterisk):\\nl=[1,2]\\ndef foo(x,y):\\n\\treturn x+y\\n\\nfoo(l[0],l[1])\\t\\t\\t\\t# Not a good Manner\\nfoo(*l)\\t\\t\\t\\t\\t# elements of list will go one by one\\n\\n\\n# Variable Number of Arguments in Key-Value pair\\ndef foo(**kwargs):\\n    print(kwargs)\\t\\t\\t# will return {x:1,y:2}\\nfoo(x=1,y=2)\\n\\nd={\\'a\\':1,\\'b\\':2}\\ndef foo(a,b):\\n\\treturn a+b\\t\\nfoo(d[\\'a\\'],d[\\'b\\'])\\t\\t\\t# \\'3\\'  | Values will get added\\nfoo(*d)\\t\\t\\t\\t\\t# \\'ab\\' | keys will get merged\\nfoo(**d)\\t\\t\\t\\t# \\'3\\'  | Values will get added'}\n",
      "{'a': 'This is a Local string'}\n",
      "This is a global string\n",
      "{'__name__': '__main__', '__doc__': 'Automatically created module for IPython interactive environment', '__package__': None, '__loader__': None, '__spec__': None, '__builtin__': <module 'builtins' (built-in)>, '__builtins__': <module 'builtins' (built-in)>, '_ih': ['', \"# Lambda functions are also known as Anonymous function\\n# One liner function which don't have any definition, \\n# They're just assigned to a variable and that variable will receive the arguments\\n# lambda args: <executablity>\\ng = lambda x, y: x**y\\nprint(g(2,5))\", \"# Lambda functions are also known as Anonymous function\\n# One liner function which don't have any definition, \\n# They're just assigned to a variable and that variable will receive the arguments\\n# lambda args: <executablity>\\ng = lambda x, y: x**y\\nprint(g(2,5))\", '## \\tIt takes one function and an iterator as input and applies the function on each value of the iterator and returns a list of result.\\n\\t\\tmap(funtion_name_to_be_mapped,sequence)\\n\\t\\toutput form--> list []', '## \\tIt takes one function and an iterator as input and applies the function on each value of the iterator and returns a list of result.\\n##\\t\\tmap(funtion_name_to_be_mapped,sequence)\\n##\\t\\toutput form--> list []', '## \\tIt takes one function and an iterator as input and applies the function on each value of the iterator and returns a list of result.\\n##\\t\\tmap(funtion_name_to_be_mapped,sequence)\\n##\\t\\toutput form--> list []', \"print('helo')\", \"print('helo')\", 'l=[1,2,3,4,5,6,7,8,9]\\ndef square(num):\\n    return num*num\\n\\nprint map(square, l)\\nmap(g, [1,2,3,4], [4,3,2,1])\\n\\nli1 = [1,2,3], li2 = [4,5,6], li3 = [7,8,9]\\nmap(lambda a,b,c: a+b+c, li1, li2, li3)                     # will take same indexed values from each sequence', 'l=[1,2,3,4,5,6,7,8,9]\\ndef square(num):\\n    return num*num\\n\\nprint(map(square, l))\\nmap(g, [1,2,3,4], [4,3,2,1])\\n\\nli1 = [1,2,3], li2 = [4,5,6], li3 = [7,8,9]\\nmap(lambda a,b,c: a+b+c, li1, li2, li3)                     # will take same indexed values from each sequence', 'l=[1,2,3,4,5,6,7,8,9]\\ndef square(num):\\n    return num*num\\n\\nprint(map(square, l))\\nmap(g, [1,2,3,4], [4,3,2,1])\\n\\nli1 = [1,2,3]; li2 = [4,5,6], li3 = [7,8,9]\\nmap(lambda a,b,c: a+b+c, li1, li2, li3)                     # will take same indexed values from each sequence', 'l=[1,2,3,4,5,6,7,8,9]\\ndef square(num):\\n    return num*num\\n\\nprint(map(square, l))\\nmap(g, [1,2,3,4], [4,3,2,1])\\n\\nli1 = [1,2,3]; li2 = [4,5,6]; li3 = [7,8,9]\\nmap(lambda a,b,c: a+b+c, li1, li2, li3)                     # will take same indexed values from each sequence', 'l=[1,2,3,4,5,6,7,8,9]\\ndef square(num):\\n    return num*num\\n\\nprint(map(square, l))\\nmap(g, [1,2,3,4], [4,3,2,1])\\n\\nli1 = [1,2,3]; li2 = [4,5,6]; li3 = [7,8,9]\\nmap(lambda a,b,c: a+b+c, li1, li2, li3)                     # will take same indexed values from each sequence', '\\tIt takes one function and an iterator as an Input and execution goes in this way: Take 2 elements of the sequence and perform operate on them and keeps going on in the same manner.\\n\\t\\tfind the maximum value from the sequence:\\n\\t\\tlst = [12, 32, 1, 87, 9, 5, 43]\\n\\t\\t\\n\\t\\treduce(lambda a, b: a if a>b else b, lst)\\n\\n    If the sequence is empty, then set initial default value as:\\n        reduce(lambda x, y: x+y, [], 1)                                 # will always return 1 if sequnce is empty', 'find the maximum value from the sequence:\\nlst = [12, 32, 1, 87, 9, 5, 43]\\n\\nreduce(lambda a, b: a if a>b else b, lst)\\n\\n    If the sequence is empty, then set initial default value as:\\n        reduce(lambda x, y: x+y, [], 1)                                 # will always return 1 if sequnce is empty', '# find the maximum value from the sequence:\\nlst = [12, 32, 1, 87, 9, 5, 43]\\n\\nreduce(lambda a, b: a if a>b else b, lst)\\n\\n# If the sequence is empty, then set initial default value as:\\nreduce(lambda x, y: x+y, [], 1)                                 # will always return 1 if sequnce is empty', 'from functools import reduce\\n# find the maximum value from the sequence:\\nlst = [12, 32, 1, 87, 9, 5, 43]\\n\\nreduce(lambda a, b: a if a>b else b, lst)\\n\\n# If the sequence is empty, then set initial default value as:\\nreduce(lambda x, y: x+y, [], 1)                                 # will always return 1 if sequnce is empty', 'from functools import reduce\\n# find the maximum value from the sequence:\\nlst = [12, 32, 1, 87, 9, 5, 43]\\n\\nprint(reduce(lambda a, b: a if a>b else b, lst))\\n\\n# If the sequence is empty, then set initial default value as:\\nprint(reduce(lambda x, y: x+y, [], 1))                                 # will always return 1 if sequnce is empty', 'lst = [12, 21, 23, 54, 65, 56, 98. 89]\\nfilter(lambda a: True if a%2 == 0 else False, lst) -> [12, 54, 56, 98]\\nfilter(lambda a: a%2 == 0 , lst)', 'lst = [12, 21, 23, 54, 65, 56, 98, 89]\\nfilter(lambda a: True if a%2 == 0 else False, lst) -> [12, 54, 56, 98]\\nfilter(lambda a: a%2 == 0 , lst)', 'lst = [12, 21, 23, 54, 65, 56, 98, 89]\\nfilter(lambda a: True if a%2 == 0 else False, lst) # [12, 54, 56, 98]\\nfilter(lambda a: a%2 == 0 , lst)', 'def foo():\\t\\n\\treturn 1\\nfoo()\\n# 1\\n\\n\\na=\"This is a global string\"\\ndef foo():\\n\\tprint locals()\\n\\tprint globals()\\t\\t#will print {\\'a\\': \\'Ths is global String\\', \\'__builtins__\\': <module \\'__builtin__\\' (built-in)>, \\'__package__\\': None, \\'__name__\\': \\t\\t\\t\\t\\t\\t\\'__main__\\', \\'foo\\': <function foo at 0xb76a0d14>, \\'__doc__\\': None}\\n\\nfoo()\\t\\t\\t#will print {}\\n\\n\\na=\"This is a global string\"\\ndef foo():\\n\\ta=\"This is a Local string\"\\n\\tprint locals()\\nfoo()\\t\\t\\t#will print This is a local string\\nprint(a)\\t\\t\\t#wll print a as it was before calling the function\\nprint globals()\\t\\t#will print a as it was before caaling the function\\n\\n\\n\\ndef foo(x):\\n\\tprint locals()\\n\\tfoo(1)\\t\\t\\t#will print {\\'x\\':1}\\n\\ndef foo(x,y=0):\\t\\t#function with default parameters\\n\\treturn x+y\\nfoo(1,2)\\nfoo(1)\\n\\ndef foo(x,y):\\n    return x+y\\nfoo(y=2,x=4)\\t\\t#function with Named arguments\\n\\n\\n# Functions can be passed as an Arguments in Python. \\ndef add(x,y):\\n\\treturn x+y\\ndef sub(x,y):\\n    return x-y\\ndef apply(func,x,y):\\n    return func(x,y)\\n\\t\\tapply(add,4,5)\\n\\t\\tapply(sub,4,5)\\n\\n# Variable number of Arguments\\ndef foo(*args):\\n\\tprint args\\t\\t\\t# It will print the recieved arguments in form of Tuples\\n    \\nll = [1,2,3,4]\\nfoo(*ll) \\t\\t\\t\\t# (1,2,3,4)\\nfoo([1,2,3,4])\\t\\t\\t\\t# ([1,2,3,4],)\\n\\n# Another use of *(asterisk):\\nl=[1,2]\\ndef foo(x,y):\\n\\treturn x+y\\n\\nfoo(l[0],l[1])\\t\\t\\t\\t# Not a good Manner\\nfoo(*l)\\t\\t\\t\\t\\t# elements of list will go one by one\\n\\n\\n# Variable Number of Arguments in Key-Value pair\\ndef foo(**kwargs):\\n    print kwargs\\t\\t\\t# will return {x:1,y:2}\\nfoo(x=1,y=2)\\n\\nd={\\'a\\':1,\\'b\\':2}\\ndef foo(a,b):\\n\\treturn a+b\\t\\nfoo(d[\\'a\\'],d[\\'b\\'])\\t\\t\\t# \\'3\\'  | Values will get added\\nfoo(*d)\\t\\t\\t\\t\\t# \\'ab\\' | keys will get merged\\nfoo(**d)\\t\\t\\t\\t# \\'3\\'  | Values will get added', 'def foo():\\t\\n\\treturn 1\\nfoo()\\n# 1\\n\\n\\na=\"This is a global string\"\\ndef foo():\\n\\tprint(locals())\\n\\tprint(globals())\\t\\t#will print {\\'a\\': \\'Ths is global String\\', \\'__builtins__\\': <module \\'__builtin__\\' (built-in)>, \\'__package__\\': None, \\'__name__\\': \\t\\t\\t\\t\\t\\t\\'__main__\\', \\'foo\\': <function foo at 0xb76a0d14>, \\'__doc__\\': None}\\n\\nfoo()\\t\\t\\t#will print {}\\n\\n\\na=\"This is a global string\"\\ndef foo():\\n\\ta=\"This is a Local string\"\\n\\tprint locals()\\nfoo()\\t\\t\\t#will print This is a local string\\nprint(a)\\t\\t\\t#wll print a as it was before calling the function\\nprint globals()\\t\\t#will print a as it was before caaling the function\\n\\n\\n\\ndef foo(x):\\n\\tprint locals()\\n\\tfoo(1)\\t\\t\\t#will print {\\'x\\':1}\\n\\ndef foo(x,y=0):\\t\\t#function with default parameters\\n\\treturn x+y\\nfoo(1,2)\\nfoo(1)\\n\\ndef foo(x,y):\\n    return x+y\\nfoo(y=2,x=4)\\t\\t#function with Named arguments\\n\\n\\n# Functions can be passed as an Arguments in Python. \\ndef add(x,y):\\n\\treturn x+y\\ndef sub(x,y):\\n    return x-y\\ndef apply(func,x,y):\\n    return func(x,y)\\n\\t\\tapply(add,4,5)\\n\\t\\tapply(sub,4,5)\\n\\n# Variable number of Arguments\\ndef foo(*args):\\n\\tprint args\\t\\t\\t# It will print the recieved arguments in form of Tuples\\n    \\nll = [1,2,3,4]\\nfoo(*ll) \\t\\t\\t\\t# (1,2,3,4)\\nfoo([1,2,3,4])\\t\\t\\t\\t# ([1,2,3,4],)\\n\\n# Another use of *(asterisk):\\nl=[1,2]\\ndef foo(x,y):\\n\\treturn x+y\\n\\nfoo(l[0],l[1])\\t\\t\\t\\t# Not a good Manner\\nfoo(*l)\\t\\t\\t\\t\\t# elements of list will go one by one\\n\\n\\n# Variable Number of Arguments in Key-Value pair\\ndef foo(**kwargs):\\n    print kwargs\\t\\t\\t# will return {x:1,y:2}\\nfoo(x=1,y=2)\\n\\nd={\\'a\\':1,\\'b\\':2}\\ndef foo(a,b):\\n\\treturn a+b\\t\\nfoo(d[\\'a\\'],d[\\'b\\'])\\t\\t\\t# \\'3\\'  | Values will get added\\nfoo(*d)\\t\\t\\t\\t\\t# \\'ab\\' | keys will get merged\\nfoo(**d)\\t\\t\\t\\t# \\'3\\'  | Values will get added', 'def foo():\\t\\n\\treturn 1\\nfoo()\\n# 1\\n\\n\\na=\"This is a global string\"\\ndef foo():\\n\\tprint(locals())\\n\\tprint(globals())\\t\\t#will print {\\'a\\': \\'Ths is global String\\', \\'__builtins__\\': <module \\'__builtin__\\' (built-in)>, \\'__package__\\': None, \\'__name__\\': \\t\\t\\t\\t\\t\\t\\'__main__\\', \\'foo\\': <function foo at 0xb76a0d14>, \\'__doc__\\': None}\\n\\nfoo()\\t\\t\\t#will print {}\\n\\n\\na=\"This is a global string\"\\ndef foo():\\n\\ta=\"This is a Local string\"\\n\\tprint(locals())\\nfoo()\\t\\t\\t#will print This is a local string\\nprint(a)\\t\\t\\t#wll print a as it was before calling the function\\nprint(globals())\\t\\t#will print a as it was before caaling the function\\n\\n\\n\\ndef foo(x):\\n\\tprint(locals())\\n\\tfoo(1)\\t\\t\\t#will print {\\'x\\':1}\\n\\ndef foo(x,y=0):\\t\\t#function with default parameters\\n\\treturn x+y\\nfoo(1,2)\\nfoo(1)\\n\\ndef foo(x,y):\\n    return x+y\\nfoo(y=2,x=4)\\t\\t#function with Named arguments\\n\\n\\n# Functions can be passed as an Arguments in Python. \\ndef add(x,y):\\n\\treturn x+y\\ndef sub(x,y):\\n    return x-y\\ndef apply(func,x,y):\\n    return func(x,y)\\n\\t\\tapply(add,4,5)\\n\\t\\tapply(sub,4,5)\\n\\n# Variable number of Arguments\\ndef foo(*args):\\n\\tprint args\\t\\t\\t# It will print the recieved arguments in form of Tuples\\n    \\nll = [1,2,3,4]\\nfoo(*ll) \\t\\t\\t\\t# (1,2,3,4)\\nfoo([1,2,3,4])\\t\\t\\t\\t# ([1,2,3,4],)\\n\\n# Another use of *(asterisk):\\nl=[1,2]\\ndef foo(x,y):\\n\\treturn x+y\\n\\nfoo(l[0],l[1])\\t\\t\\t\\t# Not a good Manner\\nfoo(*l)\\t\\t\\t\\t\\t# elements of list will go one by one\\n\\n\\n# Variable Number of Arguments in Key-Value pair\\ndef foo(**kwargs):\\n    print kwargs\\t\\t\\t# will return {x:1,y:2}\\nfoo(x=1,y=2)\\n\\nd={\\'a\\':1,\\'b\\':2}\\ndef foo(a,b):\\n\\treturn a+b\\t\\nfoo(d[\\'a\\'],d[\\'b\\'])\\t\\t\\t# \\'3\\'  | Values will get added\\nfoo(*d)\\t\\t\\t\\t\\t# \\'ab\\' | keys will get merged\\nfoo(**d)\\t\\t\\t\\t# \\'3\\'  | Values will get added', 'def foo():\\t\\n\\treturn 1\\nfoo()\\n# 1\\n\\n\\na=\"This is a global string\"\\ndef foo():\\n\\tprint(locals())\\n\\tprint(globals())\\t\\t#will print {\\'a\\': \\'Ths is global String\\', \\'__builtins__\\': <module \\'__builtin__\\' (built-in)>, \\'__package__\\': None, \\'__name__\\': \\t\\t\\t\\t\\t\\t\\'__main__\\', \\'foo\\': <function foo at 0xb76a0d14>, \\'__doc__\\': None}\\n\\nfoo()\\t\\t\\t#will print {}\\n\\n\\na=\"This is a global string\"\\ndef foo():\\n\\ta=\"This is a Local string\"\\n\\tprint(locals())\\nfoo()\\t\\t\\t#will print This is a local string\\nprint(a)\\t\\t\\t#wll print a as it was before calling the function\\nprint(globals())\\t\\t#will print a as it was before caaling the function\\n\\n\\n\\ndef foo(x):\\n\\tprint(locals())\\n\\tfoo(1)\\t\\t\\t#will print {\\'x\\':1}\\n\\ndef foo(x,y=0):\\t\\t#function with default parameters\\n\\treturn x+y\\nfoo(1,2)\\nfoo(1)\\n\\ndef foo(x,y):\\n    return x+y\\nfoo(y=2,x=4)\\t\\t#function with Named arguments\\n\\n\\n# Functions can be passed as an Arguments in Python. \\ndef add(x,y):\\n\\treturn x+y\\ndef sub(x,y):\\n    return x-y\\ndef apply(func,x,y):\\n    return func(x,y)\\napply(add,4,5)\\napply(sub,4,5)\\n\\n# Variable number of Arguments\\ndef foo(*args):\\n\\tprint(args)\\t\\t\\t# It will print the recieved arguments in form of Tuples\\n    \\nll = [1,2,3,4]\\nfoo(*ll) \\t\\t\\t\\t# (1,2,3,4)\\nfoo([1,2,3,4])\\t\\t\\t\\t# ([1,2,3,4],)\\n\\n# Another use of *(asterisk):\\nl=[1,2]\\ndef foo(x,y):\\n\\treturn x+y\\n\\nfoo(l[0],l[1])\\t\\t\\t\\t# Not a good Manner\\nfoo(*l)\\t\\t\\t\\t\\t# elements of list will go one by one\\n\\n\\n# Variable Number of Arguments in Key-Value pair\\ndef foo(**kwargs):\\n    print kwargs\\t\\t\\t# will return {x:1,y:2}\\nfoo(x=1,y=2)\\n\\nd={\\'a\\':1,\\'b\\':2}\\ndef foo(a,b):\\n\\treturn a+b\\t\\nfoo(d[\\'a\\'],d[\\'b\\'])\\t\\t\\t# \\'3\\'  | Values will get added\\nfoo(*d)\\t\\t\\t\\t\\t# \\'ab\\' | keys will get merged\\nfoo(**d)\\t\\t\\t\\t# \\'3\\'  | Values will get added', 'def foo():\\t\\n\\treturn 1\\nfoo()\\n# 1\\n\\n\\na=\"This is a global string\"\\ndef foo():\\n\\tprint(locals())\\n\\tprint(globals())\\t\\t#will print {\\'a\\': \\'Ths is global String\\', \\'__builtins__\\': <module \\'__builtin__\\' (built-in)>, \\'__package__\\': None, \\'__name__\\': \\t\\t\\t\\t\\t\\t\\'__main__\\', \\'foo\\': <function foo at 0xb76a0d14>, \\'__doc__\\': None}\\n\\nfoo()\\t\\t\\t#will print {}\\n\\n\\na=\"This is a global string\"\\ndef foo():\\n\\ta=\"This is a Local string\"\\n\\tprint(locals())\\nfoo()\\t\\t\\t#will print This is a local string\\nprint(a)\\t\\t\\t#wll print a as it was before calling the function\\nprint(globals())\\t\\t#will print a as it was before caaling the function\\n\\n\\n\\ndef foo(x):\\n\\tprint(locals())\\n\\tfoo(1)\\t\\t\\t#will print {\\'x\\':1}\\n\\ndef foo(x,y=0):\\t\\t#function with default parameters\\n\\treturn x+y\\nfoo(1,2)\\nfoo(1)\\n\\ndef foo(x,y):\\n    return x+y\\nfoo(y=2,x=4)\\t\\t#function with Named arguments\\n\\n\\n# Functions can be passed as an Arguments in Python. \\ndef add(x,y):\\n\\treturn x+y\\ndef sub(x,y):\\n    return x-y\\ndef apply(func,x,y):\\n    return func(x,y)\\napply(add,4,5)\\napply(sub,4,5)\\n\\n# Variable number of Arguments\\ndef foo(*args):\\n\\tprint(args)\\t\\t\\t# It will print the recieved arguments in form of Tuples\\n    \\nll = [1,2,3,4]\\nfoo(*ll) \\t\\t\\t\\t# (1,2,3,4)\\nfoo([1,2,3,4])\\t\\t\\t\\t# ([1,2,3,4],)\\n\\n# Another use of *(asterisk):\\nl=[1,2]\\ndef foo(x,y):\\n\\treturn x+y\\n\\nfoo(l[0],l[1])\\t\\t\\t\\t# Not a good Manner\\nfoo(*l)\\t\\t\\t\\t\\t# elements of list will go one by one\\n\\n\\n# Variable Number of Arguments in Key-Value pair\\ndef foo(**kwargs):\\n    print(kwargs)\\t\\t\\t# will return {x:1,y:2}\\nfoo(x=1,y=2)\\n\\nd={\\'a\\':1,\\'b\\':2}\\ndef foo(a,b):\\n\\treturn a+b\\t\\nfoo(d[\\'a\\'],d[\\'b\\'])\\t\\t\\t# \\'3\\'  | Values will get added\\nfoo(*d)\\t\\t\\t\\t\\t# \\'ab\\' | keys will get merged\\nfoo(**d)\\t\\t\\t\\t# \\'3\\'  | Values will get added', 'def foo():\\t\\n\\treturn 1\\nfoo()\\n# 1\\n\\n\\na=\"This is a global string\"\\ndef foo():\\n    print(locals())\\n    print(globals())        # will print {\\'a\\': \\'Ths is global String\\', \\'__builtins__\\': <module \\'__builtin__\\' (built-in)>, \\'__package__\\': None, \\'__name__\\': \\t\\t\\t\\t\\t\\t\\'__main__\\', \\'foo\\': <function foo at 0xb76a0d14>, \\'__doc__\\': None}\\n\\nfoo()                       # will print {}\\n\\n\\na=\"This is a global string\"\\ndef foo():\\n    a=\"This is a Local string\"\\n    print(locals())\\nfoo()                        # will print This is a local string\\nprint(a)                     # wll print a as it was before calling the function\\nprint(globals())             # will print a as it was before caaling the function\\n\\n\\n\\ndef foo(x):\\n\\tprint(locals())\\n\\tfoo(1)                   # will print {\\'x\\':1}\\n\\ndef foo(x,y=0):\\t             # function with default parameters\\n\\treturn x+y\\nfoo(1,2)\\nfoo(1)\\n\\ndef foo(x,y):\\n    return x+y\\nfoo(y=2,x=4)                  # function with Named arguments\\n\\n\\n# Functions can be passed as an Arguments in Python. \\ndef add(x,y):\\n\\treturn x+y\\ndef sub(x,y):\\n    return x-y\\ndef apply(func,x,y):\\n    return func(x,y)\\napply(add,4,5)\\napply(sub,4,5)\\n\\n# Variable number of Arguments\\ndef foo(*args):\\n\\tprint(args)\\t\\t\\t# It will print the recieved arguments in form of Tuples\\n    \\nll = [1,2,3,4]\\nfoo(*ll) \\t\\t\\t\\t# (1,2,3,4)\\nfoo([1,2,3,4])\\t\\t\\t\\t# ([1,2,3,4],)\\n\\n# Another use of *(asterisk):\\nl=[1,2]\\ndef foo(x,y):\\n\\treturn x+y\\n\\nfoo(l[0],l[1])\\t\\t\\t\\t# Not a good Manner\\nfoo(*l)\\t\\t\\t\\t\\t# elements of list will go one by one\\n\\n\\n# Variable Number of Arguments in Key-Value pair\\ndef foo(**kwargs):\\n    print(kwargs)\\t\\t\\t# will return {x:1,y:2}\\nfoo(x=1,y=2)\\n\\nd={\\'a\\':1,\\'b\\':2}\\ndef foo(a,b):\\n\\treturn a+b\\t\\nfoo(d[\\'a\\'],d[\\'b\\'])\\t\\t\\t# \\'3\\'  | Values will get added\\nfoo(*d)\\t\\t\\t\\t\\t# \\'ab\\' | keys will get merged\\nfoo(**d)\\t\\t\\t\\t# \\'3\\'  | Values will get added'], '_oh': {11: <map object at 0x000002F0A91612B0>, 12: <map object at 0x000002F0A9161400>, 17: 1, 21: <filter object at 0x000002F0A9148A30>, 26: 3}, '_dh': ['F:\\\\Workspace\\\\projects\\\\practice_projects'], 'In': ['', \"# Lambda functions are also known as Anonymous function\\n# One liner function which don't have any definition, \\n# They're just assigned to a variable and that variable will receive the arguments\\n# lambda args: <executablity>\\ng = lambda x, y: x**y\\nprint(g(2,5))\", \"# Lambda functions are also known as Anonymous function\\n# One liner function which don't have any definition, \\n# They're just assigned to a variable and that variable will receive the arguments\\n# lambda args: <executablity>\\ng = lambda x, y: x**y\\nprint(g(2,5))\", '## \\tIt takes one function and an iterator as input and applies the function on each value of the iterator and returns a list of result.\\n\\t\\tmap(funtion_name_to_be_mapped,sequence)\\n\\t\\toutput form--> list []', '## \\tIt takes one function and an iterator as input and applies the function on each value of the iterator and returns a list of result.\\n##\\t\\tmap(funtion_name_to_be_mapped,sequence)\\n##\\t\\toutput form--> list []', '## \\tIt takes one function and an iterator as input and applies the function on each value of the iterator and returns a list of result.\\n##\\t\\tmap(funtion_name_to_be_mapped,sequence)\\n##\\t\\toutput form--> list []', \"print('helo')\", \"print('helo')\", 'l=[1,2,3,4,5,6,7,8,9]\\ndef square(num):\\n    return num*num\\n\\nprint map(square, l)\\nmap(g, [1,2,3,4], [4,3,2,1])\\n\\nli1 = [1,2,3], li2 = [4,5,6], li3 = [7,8,9]\\nmap(lambda a,b,c: a+b+c, li1, li2, li3)                     # will take same indexed values from each sequence', 'l=[1,2,3,4,5,6,7,8,9]\\ndef square(num):\\n    return num*num\\n\\nprint(map(square, l))\\nmap(g, [1,2,3,4], [4,3,2,1])\\n\\nli1 = [1,2,3], li2 = [4,5,6], li3 = [7,8,9]\\nmap(lambda a,b,c: a+b+c, li1, li2, li3)                     # will take same indexed values from each sequence', 'l=[1,2,3,4,5,6,7,8,9]\\ndef square(num):\\n    return num*num\\n\\nprint(map(square, l))\\nmap(g, [1,2,3,4], [4,3,2,1])\\n\\nli1 = [1,2,3]; li2 = [4,5,6], li3 = [7,8,9]\\nmap(lambda a,b,c: a+b+c, li1, li2, li3)                     # will take same indexed values from each sequence', 'l=[1,2,3,4,5,6,7,8,9]\\ndef square(num):\\n    return num*num\\n\\nprint(map(square, l))\\nmap(g, [1,2,3,4], [4,3,2,1])\\n\\nli1 = [1,2,3]; li2 = [4,5,6]; li3 = [7,8,9]\\nmap(lambda a,b,c: a+b+c, li1, li2, li3)                     # will take same indexed values from each sequence', 'l=[1,2,3,4,5,6,7,8,9]\\ndef square(num):\\n    return num*num\\n\\nprint(map(square, l))\\nmap(g, [1,2,3,4], [4,3,2,1])\\n\\nli1 = [1,2,3]; li2 = [4,5,6]; li3 = [7,8,9]\\nmap(lambda a,b,c: a+b+c, li1, li2, li3)                     # will take same indexed values from each sequence', '\\tIt takes one function and an iterator as an Input and execution goes in this way: Take 2 elements of the sequence and perform operate on them and keeps going on in the same manner.\\n\\t\\tfind the maximum value from the sequence:\\n\\t\\tlst = [12, 32, 1, 87, 9, 5, 43]\\n\\t\\t\\n\\t\\treduce(lambda a, b: a if a>b else b, lst)\\n\\n    If the sequence is empty, then set initial default value as:\\n        reduce(lambda x, y: x+y, [], 1)                                 # will always return 1 if sequnce is empty', 'find the maximum value from the sequence:\\nlst = [12, 32, 1, 87, 9, 5, 43]\\n\\nreduce(lambda a, b: a if a>b else b, lst)\\n\\n    If the sequence is empty, then set initial default value as:\\n        reduce(lambda x, y: x+y, [], 1)                                 # will always return 1 if sequnce is empty', '# find the maximum value from the sequence:\\nlst = [12, 32, 1, 87, 9, 5, 43]\\n\\nreduce(lambda a, b: a if a>b else b, lst)\\n\\n# If the sequence is empty, then set initial default value as:\\nreduce(lambda x, y: x+y, [], 1)                                 # will always return 1 if sequnce is empty', 'from functools import reduce\\n# find the maximum value from the sequence:\\nlst = [12, 32, 1, 87, 9, 5, 43]\\n\\nreduce(lambda a, b: a if a>b else b, lst)\\n\\n# If the sequence is empty, then set initial default value as:\\nreduce(lambda x, y: x+y, [], 1)                                 # will always return 1 if sequnce is empty', 'from functools import reduce\\n# find the maximum value from the sequence:\\nlst = [12, 32, 1, 87, 9, 5, 43]\\n\\nprint(reduce(lambda a, b: a if a>b else b, lst))\\n\\n# If the sequence is empty, then set initial default value as:\\nprint(reduce(lambda x, y: x+y, [], 1))                                 # will always return 1 if sequnce is empty', 'lst = [12, 21, 23, 54, 65, 56, 98. 89]\\nfilter(lambda a: True if a%2 == 0 else False, lst) -> [12, 54, 56, 98]\\nfilter(lambda a: a%2 == 0 , lst)', 'lst = [12, 21, 23, 54, 65, 56, 98, 89]\\nfilter(lambda a: True if a%2 == 0 else False, lst) -> [12, 54, 56, 98]\\nfilter(lambda a: a%2 == 0 , lst)', 'lst = [12, 21, 23, 54, 65, 56, 98, 89]\\nfilter(lambda a: True if a%2 == 0 else False, lst) # [12, 54, 56, 98]\\nfilter(lambda a: a%2 == 0 , lst)', 'def foo():\\t\\n\\treturn 1\\nfoo()\\n# 1\\n\\n\\na=\"This is a global string\"\\ndef foo():\\n\\tprint locals()\\n\\tprint globals()\\t\\t#will print {\\'a\\': \\'Ths is global String\\', \\'__builtins__\\': <module \\'__builtin__\\' (built-in)>, \\'__package__\\': None, \\'__name__\\': \\t\\t\\t\\t\\t\\t\\'__main__\\', \\'foo\\': <function foo at 0xb76a0d14>, \\'__doc__\\': None}\\n\\nfoo()\\t\\t\\t#will print {}\\n\\n\\na=\"This is a global string\"\\ndef foo():\\n\\ta=\"This is a Local string\"\\n\\tprint locals()\\nfoo()\\t\\t\\t#will print This is a local string\\nprint(a)\\t\\t\\t#wll print a as it was before calling the function\\nprint globals()\\t\\t#will print a as it was before caaling the function\\n\\n\\n\\ndef foo(x):\\n\\tprint locals()\\n\\tfoo(1)\\t\\t\\t#will print {\\'x\\':1}\\n\\ndef foo(x,y=0):\\t\\t#function with default parameters\\n\\treturn x+y\\nfoo(1,2)\\nfoo(1)\\n\\ndef foo(x,y):\\n    return x+y\\nfoo(y=2,x=4)\\t\\t#function with Named arguments\\n\\n\\n# Functions can be passed as an Arguments in Python. \\ndef add(x,y):\\n\\treturn x+y\\ndef sub(x,y):\\n    return x-y\\ndef apply(func,x,y):\\n    return func(x,y)\\n\\t\\tapply(add,4,5)\\n\\t\\tapply(sub,4,5)\\n\\n# Variable number of Arguments\\ndef foo(*args):\\n\\tprint args\\t\\t\\t# It will print the recieved arguments in form of Tuples\\n    \\nll = [1,2,3,4]\\nfoo(*ll) \\t\\t\\t\\t# (1,2,3,4)\\nfoo([1,2,3,4])\\t\\t\\t\\t# ([1,2,3,4],)\\n\\n# Another use of *(asterisk):\\nl=[1,2]\\ndef foo(x,y):\\n\\treturn x+y\\n\\nfoo(l[0],l[1])\\t\\t\\t\\t# Not a good Manner\\nfoo(*l)\\t\\t\\t\\t\\t# elements of list will go one by one\\n\\n\\n# Variable Number of Arguments in Key-Value pair\\ndef foo(**kwargs):\\n    print kwargs\\t\\t\\t# will return {x:1,y:2}\\nfoo(x=1,y=2)\\n\\nd={\\'a\\':1,\\'b\\':2}\\ndef foo(a,b):\\n\\treturn a+b\\t\\nfoo(d[\\'a\\'],d[\\'b\\'])\\t\\t\\t# \\'3\\'  | Values will get added\\nfoo(*d)\\t\\t\\t\\t\\t# \\'ab\\' | keys will get merged\\nfoo(**d)\\t\\t\\t\\t# \\'3\\'  | Values will get added', 'def foo():\\t\\n\\treturn 1\\nfoo()\\n# 1\\n\\n\\na=\"This is a global string\"\\ndef foo():\\n\\tprint(locals())\\n\\tprint(globals())\\t\\t#will print {\\'a\\': \\'Ths is global String\\', \\'__builtins__\\': <module \\'__builtin__\\' (built-in)>, \\'__package__\\': None, \\'__name__\\': \\t\\t\\t\\t\\t\\t\\'__main__\\', \\'foo\\': <function foo at 0xb76a0d14>, \\'__doc__\\': None}\\n\\nfoo()\\t\\t\\t#will print {}\\n\\n\\na=\"This is a global string\"\\ndef foo():\\n\\ta=\"This is a Local string\"\\n\\tprint locals()\\nfoo()\\t\\t\\t#will print This is a local string\\nprint(a)\\t\\t\\t#wll print a as it was before calling the function\\nprint globals()\\t\\t#will print a as it was before caaling the function\\n\\n\\n\\ndef foo(x):\\n\\tprint locals()\\n\\tfoo(1)\\t\\t\\t#will print {\\'x\\':1}\\n\\ndef foo(x,y=0):\\t\\t#function with default parameters\\n\\treturn x+y\\nfoo(1,2)\\nfoo(1)\\n\\ndef foo(x,y):\\n    return x+y\\nfoo(y=2,x=4)\\t\\t#function with Named arguments\\n\\n\\n# Functions can be passed as an Arguments in Python. \\ndef add(x,y):\\n\\treturn x+y\\ndef sub(x,y):\\n    return x-y\\ndef apply(func,x,y):\\n    return func(x,y)\\n\\t\\tapply(add,4,5)\\n\\t\\tapply(sub,4,5)\\n\\n# Variable number of Arguments\\ndef foo(*args):\\n\\tprint args\\t\\t\\t# It will print the recieved arguments in form of Tuples\\n    \\nll = [1,2,3,4]\\nfoo(*ll) \\t\\t\\t\\t# (1,2,3,4)\\nfoo([1,2,3,4])\\t\\t\\t\\t# ([1,2,3,4],)\\n\\n# Another use of *(asterisk):\\nl=[1,2]\\ndef foo(x,y):\\n\\treturn x+y\\n\\nfoo(l[0],l[1])\\t\\t\\t\\t# Not a good Manner\\nfoo(*l)\\t\\t\\t\\t\\t# elements of list will go one by one\\n\\n\\n# Variable Number of Arguments in Key-Value pair\\ndef foo(**kwargs):\\n    print kwargs\\t\\t\\t# will return {x:1,y:2}\\nfoo(x=1,y=2)\\n\\nd={\\'a\\':1,\\'b\\':2}\\ndef foo(a,b):\\n\\treturn a+b\\t\\nfoo(d[\\'a\\'],d[\\'b\\'])\\t\\t\\t# \\'3\\'  | Values will get added\\nfoo(*d)\\t\\t\\t\\t\\t# \\'ab\\' | keys will get merged\\nfoo(**d)\\t\\t\\t\\t# \\'3\\'  | Values will get added', 'def foo():\\t\\n\\treturn 1\\nfoo()\\n# 1\\n\\n\\na=\"This is a global string\"\\ndef foo():\\n\\tprint(locals())\\n\\tprint(globals())\\t\\t#will print {\\'a\\': \\'Ths is global String\\', \\'__builtins__\\': <module \\'__builtin__\\' (built-in)>, \\'__package__\\': None, \\'__name__\\': \\t\\t\\t\\t\\t\\t\\'__main__\\', \\'foo\\': <function foo at 0xb76a0d14>, \\'__doc__\\': None}\\n\\nfoo()\\t\\t\\t#will print {}\\n\\n\\na=\"This is a global string\"\\ndef foo():\\n\\ta=\"This is a Local string\"\\n\\tprint(locals())\\nfoo()\\t\\t\\t#will print This is a local string\\nprint(a)\\t\\t\\t#wll print a as it was before calling the function\\nprint(globals())\\t\\t#will print a as it was before caaling the function\\n\\n\\n\\ndef foo(x):\\n\\tprint(locals())\\n\\tfoo(1)\\t\\t\\t#will print {\\'x\\':1}\\n\\ndef foo(x,y=0):\\t\\t#function with default parameters\\n\\treturn x+y\\nfoo(1,2)\\nfoo(1)\\n\\ndef foo(x,y):\\n    return x+y\\nfoo(y=2,x=4)\\t\\t#function with Named arguments\\n\\n\\n# Functions can be passed as an Arguments in Python. \\ndef add(x,y):\\n\\treturn x+y\\ndef sub(x,y):\\n    return x-y\\ndef apply(func,x,y):\\n    return func(x,y)\\n\\t\\tapply(add,4,5)\\n\\t\\tapply(sub,4,5)\\n\\n# Variable number of Arguments\\ndef foo(*args):\\n\\tprint args\\t\\t\\t# It will print the recieved arguments in form of Tuples\\n    \\nll = [1,2,3,4]\\nfoo(*ll) \\t\\t\\t\\t# (1,2,3,4)\\nfoo([1,2,3,4])\\t\\t\\t\\t# ([1,2,3,4],)\\n\\n# Another use of *(asterisk):\\nl=[1,2]\\ndef foo(x,y):\\n\\treturn x+y\\n\\nfoo(l[0],l[1])\\t\\t\\t\\t# Not a good Manner\\nfoo(*l)\\t\\t\\t\\t\\t# elements of list will go one by one\\n\\n\\n# Variable Number of Arguments in Key-Value pair\\ndef foo(**kwargs):\\n    print kwargs\\t\\t\\t# will return {x:1,y:2}\\nfoo(x=1,y=2)\\n\\nd={\\'a\\':1,\\'b\\':2}\\ndef foo(a,b):\\n\\treturn a+b\\t\\nfoo(d[\\'a\\'],d[\\'b\\'])\\t\\t\\t# \\'3\\'  | Values will get added\\nfoo(*d)\\t\\t\\t\\t\\t# \\'ab\\' | keys will get merged\\nfoo(**d)\\t\\t\\t\\t# \\'3\\'  | Values will get added', 'def foo():\\t\\n\\treturn 1\\nfoo()\\n# 1\\n\\n\\na=\"This is a global string\"\\ndef foo():\\n\\tprint(locals())\\n\\tprint(globals())\\t\\t#will print {\\'a\\': \\'Ths is global String\\', \\'__builtins__\\': <module \\'__builtin__\\' (built-in)>, \\'__package__\\': None, \\'__name__\\': \\t\\t\\t\\t\\t\\t\\'__main__\\', \\'foo\\': <function foo at 0xb76a0d14>, \\'__doc__\\': None}\\n\\nfoo()\\t\\t\\t#will print {}\\n\\n\\na=\"This is a global string\"\\ndef foo():\\n\\ta=\"This is a Local string\"\\n\\tprint(locals())\\nfoo()\\t\\t\\t#will print This is a local string\\nprint(a)\\t\\t\\t#wll print a as it was before calling the function\\nprint(globals())\\t\\t#will print a as it was before caaling the function\\n\\n\\n\\ndef foo(x):\\n\\tprint(locals())\\n\\tfoo(1)\\t\\t\\t#will print {\\'x\\':1}\\n\\ndef foo(x,y=0):\\t\\t#function with default parameters\\n\\treturn x+y\\nfoo(1,2)\\nfoo(1)\\n\\ndef foo(x,y):\\n    return x+y\\nfoo(y=2,x=4)\\t\\t#function with Named arguments\\n\\n\\n# Functions can be passed as an Arguments in Python. \\ndef add(x,y):\\n\\treturn x+y\\ndef sub(x,y):\\n    return x-y\\ndef apply(func,x,y):\\n    return func(x,y)\\napply(add,4,5)\\napply(sub,4,5)\\n\\n# Variable number of Arguments\\ndef foo(*args):\\n\\tprint(args)\\t\\t\\t# It will print the recieved arguments in form of Tuples\\n    \\nll = [1,2,3,4]\\nfoo(*ll) \\t\\t\\t\\t# (1,2,3,4)\\nfoo([1,2,3,4])\\t\\t\\t\\t# ([1,2,3,4],)\\n\\n# Another use of *(asterisk):\\nl=[1,2]\\ndef foo(x,y):\\n\\treturn x+y\\n\\nfoo(l[0],l[1])\\t\\t\\t\\t# Not a good Manner\\nfoo(*l)\\t\\t\\t\\t\\t# elements of list will go one by one\\n\\n\\n# Variable Number of Arguments in Key-Value pair\\ndef foo(**kwargs):\\n    print kwargs\\t\\t\\t# will return {x:1,y:2}\\nfoo(x=1,y=2)\\n\\nd={\\'a\\':1,\\'b\\':2}\\ndef foo(a,b):\\n\\treturn a+b\\t\\nfoo(d[\\'a\\'],d[\\'b\\'])\\t\\t\\t# \\'3\\'  | Values will get added\\nfoo(*d)\\t\\t\\t\\t\\t# \\'ab\\' | keys will get merged\\nfoo(**d)\\t\\t\\t\\t# \\'3\\'  | Values will get added', 'def foo():\\t\\n\\treturn 1\\nfoo()\\n# 1\\n\\n\\na=\"This is a global string\"\\ndef foo():\\n\\tprint(locals())\\n\\tprint(globals())\\t\\t#will print {\\'a\\': \\'Ths is global String\\', \\'__builtins__\\': <module \\'__builtin__\\' (built-in)>, \\'__package__\\': None, \\'__name__\\': \\t\\t\\t\\t\\t\\t\\'__main__\\', \\'foo\\': <function foo at 0xb76a0d14>, \\'__doc__\\': None}\\n\\nfoo()\\t\\t\\t#will print {}\\n\\n\\na=\"This is a global string\"\\ndef foo():\\n\\ta=\"This is a Local string\"\\n\\tprint(locals())\\nfoo()\\t\\t\\t#will print This is a local string\\nprint(a)\\t\\t\\t#wll print a as it was before calling the function\\nprint(globals())\\t\\t#will print a as it was before caaling the function\\n\\n\\n\\ndef foo(x):\\n\\tprint(locals())\\n\\tfoo(1)\\t\\t\\t#will print {\\'x\\':1}\\n\\ndef foo(x,y=0):\\t\\t#function with default parameters\\n\\treturn x+y\\nfoo(1,2)\\nfoo(1)\\n\\ndef foo(x,y):\\n    return x+y\\nfoo(y=2,x=4)\\t\\t#function with Named arguments\\n\\n\\n# Functions can be passed as an Arguments in Python. \\ndef add(x,y):\\n\\treturn x+y\\ndef sub(x,y):\\n    return x-y\\ndef apply(func,x,y):\\n    return func(x,y)\\napply(add,4,5)\\napply(sub,4,5)\\n\\n# Variable number of Arguments\\ndef foo(*args):\\n\\tprint(args)\\t\\t\\t# It will print the recieved arguments in form of Tuples\\n    \\nll = [1,2,3,4]\\nfoo(*ll) \\t\\t\\t\\t# (1,2,3,4)\\nfoo([1,2,3,4])\\t\\t\\t\\t# ([1,2,3,4],)\\n\\n# Another use of *(asterisk):\\nl=[1,2]\\ndef foo(x,y):\\n\\treturn x+y\\n\\nfoo(l[0],l[1])\\t\\t\\t\\t# Not a good Manner\\nfoo(*l)\\t\\t\\t\\t\\t# elements of list will go one by one\\n\\n\\n# Variable Number of Arguments in Key-Value pair\\ndef foo(**kwargs):\\n    print(kwargs)\\t\\t\\t# will return {x:1,y:2}\\nfoo(x=1,y=2)\\n\\nd={\\'a\\':1,\\'b\\':2}\\ndef foo(a,b):\\n\\treturn a+b\\t\\nfoo(d[\\'a\\'],d[\\'b\\'])\\t\\t\\t# \\'3\\'  | Values will get added\\nfoo(*d)\\t\\t\\t\\t\\t# \\'ab\\' | keys will get merged\\nfoo(**d)\\t\\t\\t\\t# \\'3\\'  | Values will get added', 'def foo():\\t\\n\\treturn 1\\nfoo()\\n# 1\\n\\n\\na=\"This is a global string\"\\ndef foo():\\n    print(locals())\\n    print(globals())        # will print {\\'a\\': \\'Ths is global String\\', \\'__builtins__\\': <module \\'__builtin__\\' (built-in)>, \\'__package__\\': None, \\'__name__\\': \\t\\t\\t\\t\\t\\t\\'__main__\\', \\'foo\\': <function foo at 0xb76a0d14>, \\'__doc__\\': None}\\n\\nfoo()                       # will print {}\\n\\n\\na=\"This is a global string\"\\ndef foo():\\n    a=\"This is a Local string\"\\n    print(locals())\\nfoo()                        # will print This is a local string\\nprint(a)                     # wll print a as it was before calling the function\\nprint(globals())             # will print a as it was before caaling the function\\n\\n\\n\\ndef foo(x):\\n\\tprint(locals())\\n\\tfoo(1)                   # will print {\\'x\\':1}\\n\\ndef foo(x,y=0):\\t             # function with default parameters\\n\\treturn x+y\\nfoo(1,2)\\nfoo(1)\\n\\ndef foo(x,y):\\n    return x+y\\nfoo(y=2,x=4)                  # function with Named arguments\\n\\n\\n# Functions can be passed as an Arguments in Python. \\ndef add(x,y):\\n\\treturn x+y\\ndef sub(x,y):\\n    return x-y\\ndef apply(func,x,y):\\n    return func(x,y)\\napply(add,4,5)\\napply(sub,4,5)\\n\\n# Variable number of Arguments\\ndef foo(*args):\\n\\tprint(args)\\t\\t\\t# It will print the recieved arguments in form of Tuples\\n    \\nll = [1,2,3,4]\\nfoo(*ll) \\t\\t\\t\\t# (1,2,3,4)\\nfoo([1,2,3,4])\\t\\t\\t\\t# ([1,2,3,4],)\\n\\n# Another use of *(asterisk):\\nl=[1,2]\\ndef foo(x,y):\\n\\treturn x+y\\n\\nfoo(l[0],l[1])\\t\\t\\t\\t# Not a good Manner\\nfoo(*l)\\t\\t\\t\\t\\t# elements of list will go one by one\\n\\n\\n# Variable Number of Arguments in Key-Value pair\\ndef foo(**kwargs):\\n    print(kwargs)\\t\\t\\t# will return {x:1,y:2}\\nfoo(x=1,y=2)\\n\\nd={\\'a\\':1,\\'b\\':2}\\ndef foo(a,b):\\n\\treturn a+b\\t\\nfoo(d[\\'a\\'],d[\\'b\\'])\\t\\t\\t# \\'3\\'  | Values will get added\\nfoo(*d)\\t\\t\\t\\t\\t# \\'ab\\' | keys will get merged\\nfoo(**d)\\t\\t\\t\\t# \\'3\\'  | Values will get added'], 'Out': {11: <map object at 0x000002F0A91612B0>, 12: <map object at 0x000002F0A9161400>, 17: 1, 21: <filter object at 0x000002F0A9148A30>, 26: 3}, 'get_ipython': <bound method InteractiveShell.get_ipython of <ipykernel.zmqshell.ZMQInteractiveShell object at 0x000002F0A90727C0>>, 'exit': <IPython.core.autocall.ZMQExitAutocall object at 0x000002F0A90C7FD0>, 'quit': <IPython.core.autocall.ZMQExitAutocall object at 0x000002F0A90C7FD0>, '_': 3, '__': <filter object at 0x000002F0A9148A30>, '___': 1, '_i': 'def foo():\\t\\n\\treturn 1\\nfoo()\\n# 1\\n\\n\\na=\"This is a global string\"\\ndef foo():\\n\\tprint(locals())\\n\\tprint(globals())\\t\\t#will print {\\'a\\': \\'Ths is global String\\', \\'__builtins__\\': <module \\'__builtin__\\' (built-in)>, \\'__package__\\': None, \\'__name__\\': \\t\\t\\t\\t\\t\\t\\'__main__\\', \\'foo\\': <function foo at 0xb76a0d14>, \\'__doc__\\': None}\\n\\nfoo()\\t\\t\\t#will print {}\\n\\n\\na=\"This is a global string\"\\ndef foo():\\n\\ta=\"This is a Local string\"\\n\\tprint(locals())\\nfoo()\\t\\t\\t#will print This is a local string\\nprint(a)\\t\\t\\t#wll print a as it was before calling the function\\nprint(globals())\\t\\t#will print a as it was before caaling the function\\n\\n\\n\\ndef foo(x):\\n\\tprint(locals())\\n\\tfoo(1)\\t\\t\\t#will print {\\'x\\':1}\\n\\ndef foo(x,y=0):\\t\\t#function with default parameters\\n\\treturn x+y\\nfoo(1,2)\\nfoo(1)\\n\\ndef foo(x,y):\\n    return x+y\\nfoo(y=2,x=4)\\t\\t#function with Named arguments\\n\\n\\n# Functions can be passed as an Arguments in Python. \\ndef add(x,y):\\n\\treturn x+y\\ndef sub(x,y):\\n    return x-y\\ndef apply(func,x,y):\\n    return func(x,y)\\napply(add,4,5)\\napply(sub,4,5)\\n\\n# Variable number of Arguments\\ndef foo(*args):\\n\\tprint(args)\\t\\t\\t# It will print the recieved arguments in form of Tuples\\n    \\nll = [1,2,3,4]\\nfoo(*ll) \\t\\t\\t\\t# (1,2,3,4)\\nfoo([1,2,3,4])\\t\\t\\t\\t# ([1,2,3,4],)\\n\\n# Another use of *(asterisk):\\nl=[1,2]\\ndef foo(x,y):\\n\\treturn x+y\\n\\nfoo(l[0],l[1])\\t\\t\\t\\t# Not a good Manner\\nfoo(*l)\\t\\t\\t\\t\\t# elements of list will go one by one\\n\\n\\n# Variable Number of Arguments in Key-Value pair\\ndef foo(**kwargs):\\n    print(kwargs)\\t\\t\\t# will return {x:1,y:2}\\nfoo(x=1,y=2)\\n\\nd={\\'a\\':1,\\'b\\':2}\\ndef foo(a,b):\\n\\treturn a+b\\t\\nfoo(d[\\'a\\'],d[\\'b\\'])\\t\\t\\t# \\'3\\'  | Values will get added\\nfoo(*d)\\t\\t\\t\\t\\t# \\'ab\\' | keys will get merged\\nfoo(**d)\\t\\t\\t\\t# \\'3\\'  | Values will get added', '_ii': 'def foo():\\t\\n\\treturn 1\\nfoo()\\n# 1\\n\\n\\na=\"This is a global string\"\\ndef foo():\\n\\tprint(locals())\\n\\tprint(globals())\\t\\t#will print {\\'a\\': \\'Ths is global String\\', \\'__builtins__\\': <module \\'__builtin__\\' (built-in)>, \\'__package__\\': None, \\'__name__\\': \\t\\t\\t\\t\\t\\t\\'__main__\\', \\'foo\\': <function foo at 0xb76a0d14>, \\'__doc__\\': None}\\n\\nfoo()\\t\\t\\t#will print {}\\n\\n\\na=\"This is a global string\"\\ndef foo():\\n\\ta=\"This is a Local string\"\\n\\tprint(locals())\\nfoo()\\t\\t\\t#will print This is a local string\\nprint(a)\\t\\t\\t#wll print a as it was before calling the function\\nprint(globals())\\t\\t#will print a as it was before caaling the function\\n\\n\\n\\ndef foo(x):\\n\\tprint(locals())\\n\\tfoo(1)\\t\\t\\t#will print {\\'x\\':1}\\n\\ndef foo(x,y=0):\\t\\t#function with default parameters\\n\\treturn x+y\\nfoo(1,2)\\nfoo(1)\\n\\ndef foo(x,y):\\n    return x+y\\nfoo(y=2,x=4)\\t\\t#function with Named arguments\\n\\n\\n# Functions can be passed as an Arguments in Python. \\ndef add(x,y):\\n\\treturn x+y\\ndef sub(x,y):\\n    return x-y\\ndef apply(func,x,y):\\n    return func(x,y)\\napply(add,4,5)\\napply(sub,4,5)\\n\\n# Variable number of Arguments\\ndef foo(*args):\\n\\tprint(args)\\t\\t\\t# It will print the recieved arguments in form of Tuples\\n    \\nll = [1,2,3,4]\\nfoo(*ll) \\t\\t\\t\\t# (1,2,3,4)\\nfoo([1,2,3,4])\\t\\t\\t\\t# ([1,2,3,4],)\\n\\n# Another use of *(asterisk):\\nl=[1,2]\\ndef foo(x,y):\\n\\treturn x+y\\n\\nfoo(l[0],l[1])\\t\\t\\t\\t# Not a good Manner\\nfoo(*l)\\t\\t\\t\\t\\t# elements of list will go one by one\\n\\n\\n# Variable Number of Arguments in Key-Value pair\\ndef foo(**kwargs):\\n    print kwargs\\t\\t\\t# will return {x:1,y:2}\\nfoo(x=1,y=2)\\n\\nd={\\'a\\':1,\\'b\\':2}\\ndef foo(a,b):\\n\\treturn a+b\\t\\nfoo(d[\\'a\\'],d[\\'b\\'])\\t\\t\\t# \\'3\\'  | Values will get added\\nfoo(*d)\\t\\t\\t\\t\\t# \\'ab\\' | keys will get merged\\nfoo(**d)\\t\\t\\t\\t# \\'3\\'  | Values will get added', '_iii': 'def foo():\\t\\n\\treturn 1\\nfoo()\\n# 1\\n\\n\\na=\"This is a global string\"\\ndef foo():\\n\\tprint(locals())\\n\\tprint(globals())\\t\\t#will print {\\'a\\': \\'Ths is global String\\', \\'__builtins__\\': <module \\'__builtin__\\' (built-in)>, \\'__package__\\': None, \\'__name__\\': \\t\\t\\t\\t\\t\\t\\'__main__\\', \\'foo\\': <function foo at 0xb76a0d14>, \\'__doc__\\': None}\\n\\nfoo()\\t\\t\\t#will print {}\\n\\n\\na=\"This is a global string\"\\ndef foo():\\n\\ta=\"This is a Local string\"\\n\\tprint(locals())\\nfoo()\\t\\t\\t#will print This is a local string\\nprint(a)\\t\\t\\t#wll print a as it was before calling the function\\nprint(globals())\\t\\t#will print a as it was before caaling the function\\n\\n\\n\\ndef foo(x):\\n\\tprint(locals())\\n\\tfoo(1)\\t\\t\\t#will print {\\'x\\':1}\\n\\ndef foo(x,y=0):\\t\\t#function with default parameters\\n\\treturn x+y\\nfoo(1,2)\\nfoo(1)\\n\\ndef foo(x,y):\\n    return x+y\\nfoo(y=2,x=4)\\t\\t#function with Named arguments\\n\\n\\n# Functions can be passed as an Arguments in Python. \\ndef add(x,y):\\n\\treturn x+y\\ndef sub(x,y):\\n    return x-y\\ndef apply(func,x,y):\\n    return func(x,y)\\n\\t\\tapply(add,4,5)\\n\\t\\tapply(sub,4,5)\\n\\n# Variable number of Arguments\\ndef foo(*args):\\n\\tprint args\\t\\t\\t# It will print the recieved arguments in form of Tuples\\n    \\nll = [1,2,3,4]\\nfoo(*ll) \\t\\t\\t\\t# (1,2,3,4)\\nfoo([1,2,3,4])\\t\\t\\t\\t# ([1,2,3,4],)\\n\\n# Another use of *(asterisk):\\nl=[1,2]\\ndef foo(x,y):\\n\\treturn x+y\\n\\nfoo(l[0],l[1])\\t\\t\\t\\t# Not a good Manner\\nfoo(*l)\\t\\t\\t\\t\\t# elements of list will go one by one\\n\\n\\n# Variable Number of Arguments in Key-Value pair\\ndef foo(**kwargs):\\n    print kwargs\\t\\t\\t# will return {x:1,y:2}\\nfoo(x=1,y=2)\\n\\nd={\\'a\\':1,\\'b\\':2}\\ndef foo(a,b):\\n\\treturn a+b\\t\\nfoo(d[\\'a\\'],d[\\'b\\'])\\t\\t\\t# \\'3\\'  | Values will get added\\nfoo(*d)\\t\\t\\t\\t\\t# \\'ab\\' | keys will get merged\\nfoo(**d)\\t\\t\\t\\t# \\'3\\'  | Values will get added', '_i1': \"# Lambda functions are also known as Anonymous function\\n# One liner function which don't have any definition, \\n# They're just assigned to a variable and that variable will receive the arguments\\n# lambda args: <executablity>\\ng = lambda x, y: x**y\\nprint(g(2,5))\", 'g': <function <lambda> at 0x000002F0A91401F0>, '_i2': \"# Lambda functions are also known as Anonymous function\\n# One liner function which don't have any definition, \\n# They're just assigned to a variable and that variable will receive the arguments\\n# lambda args: <executablity>\\ng = lambda x, y: x**y\\nprint(g(2,5))\", '_i3': '## \\tIt takes one function and an iterator as input and applies the function on each value of the iterator and returns a list of result.\\n\\t\\tmap(funtion_name_to_be_mapped,sequence)\\n\\t\\toutput form--> list []', '_i4': '## \\tIt takes one function and an iterator as input and applies the function on each value of the iterator and returns a list of result.\\n##\\t\\tmap(funtion_name_to_be_mapped,sequence)\\n##\\t\\toutput form--> list []', '_i5': '## \\tIt takes one function and an iterator as input and applies the function on each value of the iterator and returns a list of result.\\n##\\t\\tmap(funtion_name_to_be_mapped,sequence)\\n##\\t\\toutput form--> list []', '_i6': \"print('helo')\", '_i7': \"print('helo')\", '_i8': 'l=[1,2,3,4,5,6,7,8,9]\\ndef square(num):\\n    return num*num\\n\\nprint map(square, l)\\nmap(g, [1,2,3,4], [4,3,2,1])\\n\\nli1 = [1,2,3], li2 = [4,5,6], li3 = [7,8,9]\\nmap(lambda a,b,c: a+b+c, li1, li2, li3)                     # will take same indexed values from each sequence', '_i9': 'l=[1,2,3,4,5,6,7,8,9]\\ndef square(num):\\n    return num*num\\n\\nprint(map(square, l))\\nmap(g, [1,2,3,4], [4,3,2,1])\\n\\nli1 = [1,2,3], li2 = [4,5,6], li3 = [7,8,9]\\nmap(lambda a,b,c: a+b+c, li1, li2, li3)                     # will take same indexed values from each sequence', '_i10': 'l=[1,2,3,4,5,6,7,8,9]\\ndef square(num):\\n    return num*num\\n\\nprint(map(square, l))\\nmap(g, [1,2,3,4], [4,3,2,1])\\n\\nli1 = [1,2,3]; li2 = [4,5,6], li3 = [7,8,9]\\nmap(lambda a,b,c: a+b+c, li1, li2, li3)                     # will take same indexed values from each sequence', '_i11': 'l=[1,2,3,4,5,6,7,8,9]\\ndef square(num):\\n    return num*num\\n\\nprint(map(square, l))\\nmap(g, [1,2,3,4], [4,3,2,1])\\n\\nli1 = [1,2,3]; li2 = [4,5,6]; li3 = [7,8,9]\\nmap(lambda a,b,c: a+b+c, li1, li2, li3)                     # will take same indexed values from each sequence', 'l': [1, 2], 'square': <function square at 0x000002F0A9140790>, 'li1': [1, 2, 3], 'li2': [4, 5, 6], 'li3': [7, 8, 9], '_11': <map object at 0x000002F0A91612B0>, '_i12': 'l=[1,2,3,4,5,6,7,8,9]\\ndef square(num):\\n    return num*num\\n\\nprint(map(square, l))\\nmap(g, [1,2,3,4], [4,3,2,1])\\n\\nli1 = [1,2,3]; li2 = [4,5,6]; li3 = [7,8,9]\\nmap(lambda a,b,c: a+b+c, li1, li2, li3)                     # will take same indexed values from each sequence', '_12': <map object at 0x000002F0A9161400>, '_i13': '\\tIt takes one function and an iterator as an Input and execution goes in this way: Take 2 elements of the sequence and perform operate on them and keeps going on in the same manner.\\n\\t\\tfind the maximum value from the sequence:\\n\\t\\tlst = [12, 32, 1, 87, 9, 5, 43]\\n\\t\\t\\n\\t\\treduce(lambda a, b: a if a>b else b, lst)\\n\\n    If the sequence is empty, then set initial default value as:\\n        reduce(lambda x, y: x+y, [], 1)                                 # will always return 1 if sequnce is empty', '_i15': '\\t\\tfind the maximum value from the sequence:\\n\\t\\tlst = [12, 32, 1, 87, 9, 5, 43]\\n\\t\\t\\n\\t\\treduce(lambda a, b: a if a>b else b, lst)\\n\\n    If the sequence is empty, then set initial default value as:\\n        reduce(lambda x, y: x+y, [], 1)                                 # will always return 1 if sequnce is empty', '_i16': '# find the maximum value from the sequence:\\nlst = [12, 32, 1, 87, 9, 5, 43]\\n\\nreduce(lambda a, b: a if a>b else b, lst)\\n\\n# If the sequence is empty, then set initial default value as:\\nreduce(lambda x, y: x+y, [], 1)                                 # will always return 1 if sequnce is empty', 'lst': [12, 21, 23, 54, 65, 56, 98, 89], '_i17': 'from functools import reduce\\n# find the maximum value from the sequence:\\nlst = [12, 32, 1, 87, 9, 5, 43]\\n\\nreduce(lambda a, b: a if a>b else b, lst)\\n\\n# If the sequence is empty, then set initial default value as:\\nreduce(lambda x, y: x+y, [], 1)                                 # will always return 1 if sequnce is empty', 'reduce': <built-in function reduce>, '_17': 1, '_i18': 'from functools import reduce\\n# find the maximum value from the sequence:\\nlst = [12, 32, 1, 87, 9, 5, 43]\\n\\nprint(reduce(lambda a, b: a if a>b else b, lst))\\n\\n# If the sequence is empty, then set initial default value as:\\nprint(reduce(lambda x, y: x+y, [], 1))                                 # will always return 1 if sequnce is empty', '_i19': 'lst = [12, 21, 23, 54, 65, 56, 98. 89]\\nfilter(lambda a: True if a%2 == 0 else False, lst) -> [12, 54, 56, 98]\\nfilter(lambda a: a%2 == 0 , lst)', '_i20': 'lst = [12, 21, 23, 54, 65, 56, 98, 89]\\nfilter(lambda a: True if a%2 == 0 else False, lst) -> [12, 54, 56, 98]\\nfilter(lambda a: a%2 == 0 , lst)', '_i21': 'lst = [12, 21, 23, 54, 65, 56, 98, 89]\\nfilter(lambda a: True if a%2 == 0 else False, lst) # [12, 54, 56, 98]\\nfilter(lambda a: a%2 == 0 , lst)', '_21': <filter object at 0x000002F0A9148A30>, '_i22': 'def foo():\\t\\n\\treturn 1\\nfoo()\\n# 1\\n\\n\\na=\"This is a global string\"\\ndef foo():\\n\\tprint locals()\\n\\tprint globals()\\t\\t#will print {\\'a\\': \\'Ths is global String\\', \\'__builtins__\\': <module \\'__builtin__\\' (built-in)>, \\'__package__\\': None, \\'__name__\\': \\t\\t\\t\\t\\t\\t\\'__main__\\', \\'foo\\': <function foo at 0xb76a0d14>, \\'__doc__\\': None}\\n\\nfoo()\\t\\t\\t#will print {}\\n\\n\\na=\"This is a global string\"\\ndef foo():\\n\\ta=\"This is a Local string\"\\n\\tprint locals()\\nfoo()\\t\\t\\t#will print This is a local string\\nprint(a)\\t\\t\\t#wll print a as it was before calling the function\\nprint globals()\\t\\t#will print a as it was before caaling the function\\n\\n\\n\\ndef foo(x):\\n\\tprint locals()\\n\\tfoo(1)\\t\\t\\t#will print {\\'x\\':1}\\n\\ndef foo(x,y=0):\\t\\t#function with default parameters\\n\\treturn x+y\\nfoo(1,2)\\nfoo(1)\\n\\ndef foo(x,y):\\n    return x+y\\nfoo(y=2,x=4)\\t\\t#function with Named arguments\\n\\n\\n# Functions can be passed as an Arguments in Python. \\ndef add(x,y):\\n\\treturn x+y\\ndef sub(x,y):\\n    return x-y\\ndef apply(func,x,y):\\n    return func(x,y)\\n\\t\\tapply(add,4,5)\\n\\t\\tapply(sub,4,5)\\n\\n# Variable number of Arguments\\ndef foo(*args):\\n\\tprint args\\t\\t\\t# It will print the recieved arguments in form of Tuples\\n    \\nll = [1,2,3,4]\\nfoo(*ll) \\t\\t\\t\\t# (1,2,3,4)\\nfoo([1,2,3,4])\\t\\t\\t\\t# ([1,2,3,4],)\\n\\n# Another use of *(asterisk):\\nl=[1,2]\\ndef foo(x,y):\\n\\treturn x+y\\n\\nfoo(l[0],l[1])\\t\\t\\t\\t# Not a good Manner\\nfoo(*l)\\t\\t\\t\\t\\t# elements of list will go one by one\\n\\n\\n# Variable Number of Arguments in Key-Value pair\\ndef foo(**kwargs):\\n    print kwargs\\t\\t\\t# will return {x:1,y:2}\\nfoo(x=1,y=2)\\n\\nd={\\'a\\':1,\\'b\\':2}\\ndef foo(a,b):\\n\\treturn a+b\\t\\nfoo(d[\\'a\\'],d[\\'b\\'])\\t\\t\\t# \\'3\\'  | Values will get added\\nfoo(*d)\\t\\t\\t\\t\\t# \\'ab\\' | keys will get merged\\nfoo(**d)\\t\\t\\t\\t# \\'3\\'  | Values will get added', '_i23': 'def foo():\\t\\n\\treturn 1\\nfoo()\\n# 1\\n\\n\\na=\"This is a global string\"\\ndef foo():\\n\\tprint(locals())\\n\\tprint(globals())\\t\\t#will print {\\'a\\': \\'Ths is global String\\', \\'__builtins__\\': <module \\'__builtin__\\' (built-in)>, \\'__package__\\': None, \\'__name__\\': \\t\\t\\t\\t\\t\\t\\'__main__\\', \\'foo\\': <function foo at 0xb76a0d14>, \\'__doc__\\': None}\\n\\nfoo()\\t\\t\\t#will print {}\\n\\n\\na=\"This is a global string\"\\ndef foo():\\n\\ta=\"This is a Local string\"\\n\\tprint locals()\\nfoo()\\t\\t\\t#will print This is a local string\\nprint(a)\\t\\t\\t#wll print a as it was before calling the function\\nprint globals()\\t\\t#will print a as it was before caaling the function\\n\\n\\n\\ndef foo(x):\\n\\tprint locals()\\n\\tfoo(1)\\t\\t\\t#will print {\\'x\\':1}\\n\\ndef foo(x,y=0):\\t\\t#function with default parameters\\n\\treturn x+y\\nfoo(1,2)\\nfoo(1)\\n\\ndef foo(x,y):\\n    return x+y\\nfoo(y=2,x=4)\\t\\t#function with Named arguments\\n\\n\\n# Functions can be passed as an Arguments in Python. \\ndef add(x,y):\\n\\treturn x+y\\ndef sub(x,y):\\n    return x-y\\ndef apply(func,x,y):\\n    return func(x,y)\\n\\t\\tapply(add,4,5)\\n\\t\\tapply(sub,4,5)\\n\\n# Variable number of Arguments\\ndef foo(*args):\\n\\tprint args\\t\\t\\t# It will print the recieved arguments in form of Tuples\\n    \\nll = [1,2,3,4]\\nfoo(*ll) \\t\\t\\t\\t# (1,2,3,4)\\nfoo([1,2,3,4])\\t\\t\\t\\t# ([1,2,3,4],)\\n\\n# Another use of *(asterisk):\\nl=[1,2]\\ndef foo(x,y):\\n\\treturn x+y\\n\\nfoo(l[0],l[1])\\t\\t\\t\\t# Not a good Manner\\nfoo(*l)\\t\\t\\t\\t\\t# elements of list will go one by one\\n\\n\\n# Variable Number of Arguments in Key-Value pair\\ndef foo(**kwargs):\\n    print kwargs\\t\\t\\t# will return {x:1,y:2}\\nfoo(x=1,y=2)\\n\\nd={\\'a\\':1,\\'b\\':2}\\ndef foo(a,b):\\n\\treturn a+b\\t\\nfoo(d[\\'a\\'],d[\\'b\\'])\\t\\t\\t# \\'3\\'  | Values will get added\\nfoo(*d)\\t\\t\\t\\t\\t# \\'ab\\' | keys will get merged\\nfoo(**d)\\t\\t\\t\\t# \\'3\\'  | Values will get added', '_i24': 'def foo():\\t\\n\\treturn 1\\nfoo()\\n# 1\\n\\n\\na=\"This is a global string\"\\ndef foo():\\n\\tprint(locals())\\n\\tprint(globals())\\t\\t#will print {\\'a\\': \\'Ths is global String\\', \\'__builtins__\\': <module \\'__builtin__\\' (built-in)>, \\'__package__\\': None, \\'__name__\\': \\t\\t\\t\\t\\t\\t\\'__main__\\', \\'foo\\': <function foo at 0xb76a0d14>, \\'__doc__\\': None}\\n\\nfoo()\\t\\t\\t#will print {}\\n\\n\\na=\"This is a global string\"\\ndef foo():\\n\\ta=\"This is a Local string\"\\n\\tprint(locals())\\nfoo()\\t\\t\\t#will print This is a local string\\nprint(a)\\t\\t\\t#wll print a as it was before calling the function\\nprint(globals())\\t\\t#will print a as it was before caaling the function\\n\\n\\n\\ndef foo(x):\\n\\tprint(locals())\\n\\tfoo(1)\\t\\t\\t#will print {\\'x\\':1}\\n\\ndef foo(x,y=0):\\t\\t#function with default parameters\\n\\treturn x+y\\nfoo(1,2)\\nfoo(1)\\n\\ndef foo(x,y):\\n    return x+y\\nfoo(y=2,x=4)\\t\\t#function with Named arguments\\n\\n\\n# Functions can be passed as an Arguments in Python. \\ndef add(x,y):\\n\\treturn x+y\\ndef sub(x,y):\\n    return x-y\\ndef apply(func,x,y):\\n    return func(x,y)\\n\\t\\tapply(add,4,5)\\n\\t\\tapply(sub,4,5)\\n\\n# Variable number of Arguments\\ndef foo(*args):\\n\\tprint args\\t\\t\\t# It will print the recieved arguments in form of Tuples\\n    \\nll = [1,2,3,4]\\nfoo(*ll) \\t\\t\\t\\t# (1,2,3,4)\\nfoo([1,2,3,4])\\t\\t\\t\\t# ([1,2,3,4],)\\n\\n# Another use of *(asterisk):\\nl=[1,2]\\ndef foo(x,y):\\n\\treturn x+y\\n\\nfoo(l[0],l[1])\\t\\t\\t\\t# Not a good Manner\\nfoo(*l)\\t\\t\\t\\t\\t# elements of list will go one by one\\n\\n\\n# Variable Number of Arguments in Key-Value pair\\ndef foo(**kwargs):\\n    print kwargs\\t\\t\\t# will return {x:1,y:2}\\nfoo(x=1,y=2)\\n\\nd={\\'a\\':1,\\'b\\':2}\\ndef foo(a,b):\\n\\treturn a+b\\t\\nfoo(d[\\'a\\'],d[\\'b\\'])\\t\\t\\t# \\'3\\'  | Values will get added\\nfoo(*d)\\t\\t\\t\\t\\t# \\'ab\\' | keys will get merged\\nfoo(**d)\\t\\t\\t\\t# \\'3\\'  | Values will get added', '_i25': 'def foo():\\t\\n\\treturn 1\\nfoo()\\n# 1\\n\\n\\na=\"This is a global string\"\\ndef foo():\\n\\tprint(locals())\\n\\tprint(globals())\\t\\t#will print {\\'a\\': \\'Ths is global String\\', \\'__builtins__\\': <module \\'__builtin__\\' (built-in)>, \\'__package__\\': None, \\'__name__\\': \\t\\t\\t\\t\\t\\t\\'__main__\\', \\'foo\\': <function foo at 0xb76a0d14>, \\'__doc__\\': None}\\n\\nfoo()\\t\\t\\t#will print {}\\n\\n\\na=\"This is a global string\"\\ndef foo():\\n\\ta=\"This is a Local string\"\\n\\tprint(locals())\\nfoo()\\t\\t\\t#will print This is a local string\\nprint(a)\\t\\t\\t#wll print a as it was before calling the function\\nprint(globals())\\t\\t#will print a as it was before caaling the function\\n\\n\\n\\ndef foo(x):\\n\\tprint(locals())\\n\\tfoo(1)\\t\\t\\t#will print {\\'x\\':1}\\n\\ndef foo(x,y=0):\\t\\t#function with default parameters\\n\\treturn x+y\\nfoo(1,2)\\nfoo(1)\\n\\ndef foo(x,y):\\n    return x+y\\nfoo(y=2,x=4)\\t\\t#function with Named arguments\\n\\n\\n# Functions can be passed as an Arguments in Python. \\ndef add(x,y):\\n\\treturn x+y\\ndef sub(x,y):\\n    return x-y\\ndef apply(func,x,y):\\n    return func(x,y)\\napply(add,4,5)\\napply(sub,4,5)\\n\\n# Variable number of Arguments\\ndef foo(*args):\\n\\tprint(args)\\t\\t\\t# It will print the recieved arguments in form of Tuples\\n    \\nll = [1,2,3,4]\\nfoo(*ll) \\t\\t\\t\\t# (1,2,3,4)\\nfoo([1,2,3,4])\\t\\t\\t\\t# ([1,2,3,4],)\\n\\n# Another use of *(asterisk):\\nl=[1,2]\\ndef foo(x,y):\\n\\treturn x+y\\n\\nfoo(l[0],l[1])\\t\\t\\t\\t# Not a good Manner\\nfoo(*l)\\t\\t\\t\\t\\t# elements of list will go one by one\\n\\n\\n# Variable Number of Arguments in Key-Value pair\\ndef foo(**kwargs):\\n    print kwargs\\t\\t\\t# will return {x:1,y:2}\\nfoo(x=1,y=2)\\n\\nd={\\'a\\':1,\\'b\\':2}\\ndef foo(a,b):\\n\\treturn a+b\\t\\nfoo(d[\\'a\\'],d[\\'b\\'])\\t\\t\\t# \\'3\\'  | Values will get added\\nfoo(*d)\\t\\t\\t\\t\\t# \\'ab\\' | keys will get merged\\nfoo(**d)\\t\\t\\t\\t# \\'3\\'  | Values will get added', '_i26': 'def foo():\\t\\n\\treturn 1\\nfoo()\\n# 1\\n\\n\\na=\"This is a global string\"\\ndef foo():\\n\\tprint(locals())\\n\\tprint(globals())\\t\\t#will print {\\'a\\': \\'Ths is global String\\', \\'__builtins__\\': <module \\'__builtin__\\' (built-in)>, \\'__package__\\': None, \\'__name__\\': \\t\\t\\t\\t\\t\\t\\'__main__\\', \\'foo\\': <function foo at 0xb76a0d14>, \\'__doc__\\': None}\\n\\nfoo()\\t\\t\\t#will print {}\\n\\n\\na=\"This is a global string\"\\ndef foo():\\n\\ta=\"This is a Local string\"\\n\\tprint(locals())\\nfoo()\\t\\t\\t#will print This is a local string\\nprint(a)\\t\\t\\t#wll print a as it was before calling the function\\nprint(globals())\\t\\t#will print a as it was before caaling the function\\n\\n\\n\\ndef foo(x):\\n\\tprint(locals())\\n\\tfoo(1)\\t\\t\\t#will print {\\'x\\':1}\\n\\ndef foo(x,y=0):\\t\\t#function with default parameters\\n\\treturn x+y\\nfoo(1,2)\\nfoo(1)\\n\\ndef foo(x,y):\\n    return x+y\\nfoo(y=2,x=4)\\t\\t#function with Named arguments\\n\\n\\n# Functions can be passed as an Arguments in Python. \\ndef add(x,y):\\n\\treturn x+y\\ndef sub(x,y):\\n    return x-y\\ndef apply(func,x,y):\\n    return func(x,y)\\napply(add,4,5)\\napply(sub,4,5)\\n\\n# Variable number of Arguments\\ndef foo(*args):\\n\\tprint(args)\\t\\t\\t# It will print the recieved arguments in form of Tuples\\n    \\nll = [1,2,3,4]\\nfoo(*ll) \\t\\t\\t\\t# (1,2,3,4)\\nfoo([1,2,3,4])\\t\\t\\t\\t# ([1,2,3,4],)\\n\\n# Another use of *(asterisk):\\nl=[1,2]\\ndef foo(x,y):\\n\\treturn x+y\\n\\nfoo(l[0],l[1])\\t\\t\\t\\t# Not a good Manner\\nfoo(*l)\\t\\t\\t\\t\\t# elements of list will go one by one\\n\\n\\n# Variable Number of Arguments in Key-Value pair\\ndef foo(**kwargs):\\n    print(kwargs)\\t\\t\\t# will return {x:1,y:2}\\nfoo(x=1,y=2)\\n\\nd={\\'a\\':1,\\'b\\':2}\\ndef foo(a,b):\\n\\treturn a+b\\t\\nfoo(d[\\'a\\'],d[\\'b\\'])\\t\\t\\t# \\'3\\'  | Values will get added\\nfoo(*d)\\t\\t\\t\\t\\t# \\'ab\\' | keys will get merged\\nfoo(**d)\\t\\t\\t\\t# \\'3\\'  | Values will get added', 'foo': <function foo at 0x000002F0A91404C0>, 'a': 'This is a global string', 'add': <function add at 0x000002F0A9221430>, 'sub': <function sub at 0x000002F0A9221820>, 'apply': <function apply at 0x000002F0A92218B0>, 'll': [1, 2, 3, 4], 'd': {'a': 1, 'b': 2}, '_26': 3, '_i27': 'def foo():\\t\\n\\treturn 1\\nfoo()\\n# 1\\n\\n\\na=\"This is a global string\"\\ndef foo():\\n    print(locals())\\n    print(globals())        # will print {\\'a\\': \\'Ths is global String\\', \\'__builtins__\\': <module \\'__builtin__\\' (built-in)>, \\'__package__\\': None, \\'__name__\\': \\t\\t\\t\\t\\t\\t\\'__main__\\', \\'foo\\': <function foo at 0xb76a0d14>, \\'__doc__\\': None}\\n\\nfoo()                       # will print {}\\n\\n\\na=\"This is a global string\"\\ndef foo():\\n    a=\"This is a Local string\"\\n    print(locals())\\nfoo()                        # will print This is a local string\\nprint(a)                     # wll print a as it was before calling the function\\nprint(globals())             # will print a as it was before caaling the function\\n\\n\\n\\ndef foo(x):\\n\\tprint(locals())\\n\\tfoo(1)                   # will print {\\'x\\':1}\\n\\ndef foo(x,y=0):\\t             # function with default parameters\\n\\treturn x+y\\nfoo(1,2)\\nfoo(1)\\n\\ndef foo(x,y):\\n    return x+y\\nfoo(y=2,x=4)                  # function with Named arguments\\n\\n\\n# Functions can be passed as an Arguments in Python. \\ndef add(x,y):\\n\\treturn x+y\\ndef sub(x,y):\\n    return x-y\\ndef apply(func,x,y):\\n    return func(x,y)\\napply(add,4,5)\\napply(sub,4,5)\\n\\n# Variable number of Arguments\\ndef foo(*args):\\n\\tprint(args)\\t\\t\\t# It will print the recieved arguments in form of Tuples\\n    \\nll = [1,2,3,4]\\nfoo(*ll) \\t\\t\\t\\t# (1,2,3,4)\\nfoo([1,2,3,4])\\t\\t\\t\\t# ([1,2,3,4],)\\n\\n# Another use of *(asterisk):\\nl=[1,2]\\ndef foo(x,y):\\n\\treturn x+y\\n\\nfoo(l[0],l[1])\\t\\t\\t\\t# Not a good Manner\\nfoo(*l)\\t\\t\\t\\t\\t# elements of list will go one by one\\n\\n\\n# Variable Number of Arguments in Key-Value pair\\ndef foo(**kwargs):\\n    print(kwargs)\\t\\t\\t# will return {x:1,y:2}\\nfoo(x=1,y=2)\\n\\nd={\\'a\\':1,\\'b\\':2}\\ndef foo(a,b):\\n\\treturn a+b\\t\\nfoo(d[\\'a\\'],d[\\'b\\'])\\t\\t\\t# \\'3\\'  | Values will get added\\nfoo(*d)\\t\\t\\t\\t\\t# \\'ab\\' | keys will get merged\\nfoo(**d)\\t\\t\\t\\t# \\'3\\'  | Values will get added'}\n",
      "(1, 2, 3, 4)\n",
      "([1, 2, 3, 4],)\n",
      "{'x': 1, 'y': 2}\n"
     ]
    },
    {
     "data": {
      "text/plain": [
       "3"
      ]
     },
     "execution_count": 27,
     "metadata": {},
     "output_type": "execute_result"
    }
   ],
   "source": [
    "def foo():\t\n",
    "\treturn 1\n",
    "foo()\n",
    "# 1\n",
    "\n",
    "\n",
    "a=\"This is a global string\"\n",
    "def foo():\n",
    "    print(locals())\n",
    "    print(globals())        # will print {'a': 'Ths is global String', '__builtins__': <module '__builtin__' (built-in)>, '__package__': None, '__name__': \t\t\t\t\t\t'__main__', 'foo': <function foo at 0xb76a0d14>, '__doc__': None}\n",
    "\n",
    "foo()                       # will print {}\n",
    "\n",
    "\n",
    "a=\"This is a global string\"\n",
    "def foo():\n",
    "    a=\"This is a Local string\"\n",
    "    print(locals())\n",
    "foo()                        # will print This is a local string\n",
    "print(a)                     # wll print a as it was before calling the function\n",
    "print(globals())             # will print a as it was before caaling the function\n",
    "\n",
    "\n",
    "\n",
    "def foo(x):\n",
    "\tprint(locals())\n",
    "\tfoo(1)                   # will print {'x':1}\n",
    "\n",
    "def foo(x,y=0):\t             # function with default parameters\n",
    "\treturn x+y\n",
    "foo(1,2)\n",
    "foo(1)\n",
    "\n",
    "def foo(x,y):\n",
    "    return x+y\n",
    "foo(y=2,x=4)                  # function with Named arguments\n",
    "\n",
    "\n",
    "# Functions can be passed as an Arguments in Python. \n",
    "def add(x,y):\n",
    "\treturn x+y\n",
    "def sub(x,y):\n",
    "    return x-y\n",
    "def apply(func,x,y):\n",
    "    return func(x,y)\n",
    "apply(add,4,5)\n",
    "apply(sub,4,5)\n",
    "\n",
    "# Variable number of Arguments\n",
    "def foo(*args):\n",
    "\tprint(args)\t\t\t# It will print the recieved arguments in form of Tuples\n",
    "    \n",
    "ll = [1,2,3,4]\n",
    "foo(*ll) \t\t\t\t# (1,2,3,4)\n",
    "foo([1,2,3,4])\t\t\t\t# ([1,2,3,4],)\n",
    "\n",
    "# Another use of *(asterisk):\n",
    "l=[1,2]\n",
    "def foo(x,y):\n",
    "\treturn x+y\n",
    "\n",
    "foo(l[0],l[1])\t\t\t\t# Not a good Manner\n",
    "foo(*l)\t\t\t\t\t# elements of list will go one by one\n",
    "\n",
    "\n",
    "# Variable Number of Arguments in Key-Value pair\n",
    "def foo(**kwargs):\n",
    "    print(kwargs)\t\t\t# will return {x:1,y:2}\n",
    "foo(x=1,y=2)\n",
    "\n",
    "d={'a':1,'b':2}\n",
    "def foo(a,b):\n",
    "\treturn a+b\t\n",
    "foo(d['a'],d['b'])\t\t\t# '3'  | Values will get added\n",
    "foo(*d)\t\t\t\t\t# 'ab' | keys will get merged\n",
    "foo(**d)\t\t\t\t# '3'  | Values will get added"
   ]
  },
  {
   "cell_type": "markdown",
   "metadata": {},
   "source": [
    "# ITERATORS"
   ]
  },
  {
   "cell_type": "markdown",
   "metadata": {},
   "source": [
    "Iterators have the special property to keep the one value @once. \n",
    "\t\t\t\n",
    "iter(sequence)\n",
    "number='123456789'\n",
    "n=iter(number)\n",
    "n.next(),n.next()..... after reaching out the last element, It will throw an StopIteration Exception.\n",
    "We don’t get StopIteration error with for loop, because for loop automatically catches the exception and stops calling next() on iterable.\n",
    "String objects, List objects supports iteration but it can't directly iterate over it as we are able to do with generators\n",
    "To check, what all data type supports Iteration, I can check with:\n",
    "        \n",
    "from collections import Iterable\n",
    "isinstance('Hey, I am a string', Iterable)                  # returns Bool\n",
    "\n",
    "\n",
    "If I want to check whether the file is having syntax file or not:\n",
    "We can use the py_compile site package. \n",
    "\n",
    "\t\tpython -m py_compile \"filename\"\n",
    "\t\n",
    "It will give you what syntax error you have and in which line"
   ]
  },
  {
   "cell_type": "markdown",
   "metadata": {},
   "source": [
    "# DECORATORS"
   ]
  },
  {
   "cell_type": "markdown",
   "metadata": {},
   "source": [
    "A decorator is just a callable that takes a function as an Argument and return a replacement function. These are simply wrappers to existing functions."
   ]
  },
  {
   "cell_type": "code",
   "execution_count": 32,
   "metadata": {},
   "outputs": [
    {
     "name": "stdout",
     "output_type": "stream",
     "text": [
      "Printing from parent function\n",
      "second child\n"
     ]
    }
   ],
   "source": [
    "def parent(number):\n",
    "    print(\"Printing from parent function\")\n",
    "\n",
    "    def first():\n",
    "        print(\"first child\")\n",
    "    def second():\n",
    "        print(\"second child\")\n",
    "    def third():\n",
    "        print(\"third child\")\n",
    "\n",
    "    try:\n",
    "        assert number == 10\n",
    "        return first()\n",
    "    except AssertionError:\n",
    "        return second()\n",
    "\n",
    "parent(18)"
   ]
  },
  {
   "cell_type": "code",
   "execution_count": 34,
   "metadata": {},
   "outputs": [
    {
     "name": "stdout",
     "output_type": "stream",
     "text": [
      "Something is happening before some_function() is called\n",
      "Wwheee!!\n",
      "Something is happening after some_function() is called\n"
     ]
    }
   ],
   "source": [
    "def my_decorator(some_func):\n",
    "    def wrapper():\n",
    "        print(\"Something is happening before some_function() is called\")\n",
    "        some_func()\n",
    "        print(\"Something is happening after some_function() is called\")\n",
    "\n",
    "    return wrapper\n",
    "\n",
    "def just_some_function():\n",
    "    print(\"Wwheee!!\")\n",
    "\n",
    "\n",
    "just_some_function = my_decorator(just_some_function)()\n",
    "#just_some_function()"
   ]
  },
  {
   "cell_type": "code",
   "execution_count": 36,
   "metadata": {},
   "outputs": [
    {
     "name": "stdout",
     "output_type": "stream",
     "text": [
      "Something is happening before some_function() is called\n",
      "Wwheee!!\n",
      "Something is happening after some_function() is called\n",
      "10\n"
     ]
    }
   ],
   "source": [
    "def my_decorator(some_func):\n",
    "    def wrapper():\n",
    "        print(\"Something is happening before some_function() is called\")\n",
    "        some_func()\n",
    "        print(\"Something is happening after some_function() is called\")\n",
    "\n",
    "    return wrapper\n",
    "\n",
    "@my_decorator\n",
    "def just_some_function():\n",
    "    print(\"Wwheee!!\")\n",
    "\n",
    "just_some_function()\n",
    "\n",
    "\n",
    "from time import sleep\n",
    "\n",
    "def sleep_decorator(function):\n",
    "    def wrapper(*args, **kwargs):\n",
    "        sleep(2)\n",
    "        return function(*args, **kwargs)\n",
    "    return wrapper\n",
    "\n",
    "@sleep_decorator\n",
    "def print_number(num):\n",
    "    print(num)\n",
    "\n",
    "print_number(10)"
   ]
  },
  {
   "cell_type": "markdown",
   "metadata": {},
   "source": [
    "# GENERATOR"
   ]
  },
  {
   "cell_type": "markdown",
   "metadata": {},
   "source": [
    "Normal functions returns value only single time; But what if I want to get the next value and to continue over the whole return .... There I will use yield ... by which \t\twe can continue our looping from where we left.\n",
    "Generator is a function that returns an object on which we can perform next() operation\n",
    "Generators are a tool for creating iterators.They use to YIELD the data whenever they want to return the data\n",
    "Each time the next() is called, Generator resumes from where it left-off\n",
    "When a generator function is compiled they become an object that support an iteration protocol.\n",
    "The generator functions can be suspended and this feature is known as state suspension.\n",
    "\n",
    "\n",
    "With generators, __iter__() and next() method got created automatically;\n",
    "If In a method there is a yield keyword, Then It will automatically be converted into generators.\n",
    "\n",
    "We should have the ability to create the function which can yield(giving) the series of value instead of simply returning the single value\n",
    "When a function is called, all the work done by function and stored in local variables is lost, A new call to the function creates \n",
    "everything from the scratch.\n",
    "return implies that the function is returning control of execution to the point where the function was called.\n",
    "\"Yield,\" however, implies that the transfer of control is temporary and voluntary, and our function expects to regain it in the future.\n",
    "Basically\n",
    "    \"When we use return, The control goes to the calling function and all the work done by the function goes lost,\n",
    "    Now If I want to regain it again in the future, Will I be able to regain it? .... NO!!!\"\n",
    "So, Better to use YIELD <GENERATOR>\n",
    "\n",
    "    Functions that have the ability to do this, Will be called as Generators\n",
    "\n",
    "Generators are like normal functions but whenever they need to generate the value, They dont return but yield them.\n",
    "    One value is generated from the generator, To get the next generated value, We use __next__() method"
   ]
  },
  {
   "cell_type": "code",
   "execution_count": 41,
   "metadata": {},
   "outputs": [
    {
     "data": {
      "text/plain": [
       "<method-wrapper '__next__' of generator object at 0x000002F0AB27D890>"
      ]
     },
     "execution_count": 41,
     "metadata": {},
     "output_type": "execute_result"
    }
   ],
   "source": [
    "def foo():\n",
    "    print(\"I am in First Yield\")\n",
    "    yield 1\n",
    "    print(\"I am in Second Yield\")\n",
    "    yield 2\n",
    "    print(\"I am in Third Yield\")\n",
    "    yield 3\n",
    "\n",
    "    o=foo()\n",
    "    print(o.next())\t\t\t#It will go to line 1 and start execute untill the first yield is reached\n",
    "    print(o.next())\t\t\t#It will go to the immediate next line of the yield where it left; Won't start from line 1 but from 3\n",
    "    print(o.next())\t\t\t#It will go the line where the previous yield was left off.\n",
    "\n",
    "# When all the values are iterated, stopIteration happened\n",
    "\n",
    "l=[1,2,3,4,5,6,7,8,9,0,4,6,7,3]\n",
    "def foo(seq):\n",
    "    for item in seq:\n",
    "        yield item\n",
    "\n",
    "elem=foo(l)\n",
    "elem.__next__"
   ]
  },
  {
   "cell_type": "markdown",
   "metadata": {},
   "source": [
    "# CLASS"
   ]
  },
  {
   "cell_type": "markdown",
   "metadata": {},
   "source": [
    "object.attribute\t\t\t\t\t\t\t\t#[readable and writable also]\n",
    "Attributes of an objects are readable/writable and deletable also:\n",
    "\n",
    "object.attribute=value\n",
    "del object.attribute\n",
    "\n",
    "class MyClass:\n",
    "    \"\"\"A simple example class\"\"\"\n",
    "    i = 12345\n",
    "    def f(self):\n",
    "        return 'hello world'\n",
    "Here i and f are the attributes of the class and can be accessed as MyClass.i and MyClass.f\n",
    "\n",
    "If there is a __init__() defined then we've to use the self keyword mandataroly to access that varaible."
   ]
  },
  {
   "cell_type": "code",
   "execution_count": 44,
   "metadata": {},
   "outputs": [
    {
     "name": "stdout",
     "output_type": "stream",
     "text": [
      "234\n",
      "123\n",
      "123\n"
     ]
    },
    {
     "data": {
      "text/plain": [
       "(234, 123, 123)"
      ]
     },
     "execution_count": 44,
     "metadata": {},
     "output_type": "execute_result"
    }
   ],
   "source": [
    "class A(object):\n",
    "    i,j=11,21\n",
    "    def __init__(self):\n",
    "        self.i=10\n",
    "        self.j=20\n",
    "    def f(self):\n",
    "        print(A.i)                               #11\n",
    "        print(self.j)                            #20\n",
    "\n",
    "class A(object):\n",
    "    d = 123\n",
    "    def __init__(self, a):\n",
    "        self.a = a\n",
    "        print(self.a)\n",
    "        print(A.d)\n",
    "        print(self.d)\n",
    "\n",
    "obj = A(234)\n",
    "234, 123, 123"
   ]
  },
  {
   "cell_type": "code",
   "execution_count": 46,
   "metadata": {},
   "outputs": [
    {
     "name": "stdout",
     "output_type": "stream",
     "text": [
      "234\n",
      "123\n",
      "456\n"
     ]
    }
   ],
   "source": [
    "class A(object):\n",
    "    d = 123\n",
    "    def __init__(self, a):\n",
    "        self.a = a\n",
    "        print(self.a)\n",
    "        self.d = 456\n",
    "        print(A.d)\n",
    "        print(self.d)\n",
    "obj = A(234)"
   ]
  },
  {
   "cell_type": "code",
   "execution_count": 47,
   "metadata": {},
   "outputs": [
    {
     "name": "stdout",
     "output_type": "stream",
     "text": [
      "234\n",
      "456\n",
      "456\n"
     ]
    }
   ],
   "source": [
    "class A(object):\n",
    "    d = 123\n",
    "    def __init__(self, a):\n",
    "        self.a = a\n",
    "        print(self.a)\n",
    "        A.d = 456\n",
    "        print(A.d)\n",
    "        print(self.d)\n",
    "\n",
    "obj = A(234)"
   ]
  },
  {
   "cell_type": "markdown",
   "metadata": {},
   "source": [
    "    obj_name=class_name()\n",
    "\n",
    "\tA class also have the magic method named as: __init__(self,arguments)\n",
    "\tWhile instantiating a class(@time of creation of object), If we pass the arguments as:\n",
    "\t\t\n",
    "    obj_name=class_name(arg1,arg2,...)\n",
    "\n",
    "\tThey will always be recieved by __init__ method."
   ]
  },
  {
   "cell_type": "code",
   "execution_count": 61,
   "metadata": {},
   "outputs": [
    {
     "name": "stdout",
     "output_type": "stream",
     "text": [
      "1\n",
      "2\n"
     ]
    }
   ],
   "source": [
    "class A(object):\n",
    "    def __init__(self,x,y):\n",
    "        self.x=x\n",
    "        self.y=y\n",
    "\n",
    "t=A(1,2)\n",
    "print(t.x)\t\t\t\t#1\n",
    "print(t.y)\t\t\t\t#2\n"
   ]
  },
  {
   "cell_type": "markdown",
   "metadata": {},
   "source": [
    "Object is passed as a self argument to the function and self is used to bind all the class things to that particular Object Instance.\n",
    "One thing, Why self is used in every method of the class:\n",
    "Because, When we say x=A(), Here ,,, Object is passed as an argument to the function.\n",
    "Its is like \n",
    "\n",
    "    x.f()==MyClass.f(x)\n",
    "\n",
    "self is the object_name that is passed to function."
   ]
  },
  {
   "cell_type": "code",
   "execution_count": 63,
   "metadata": {},
   "outputs": [
    {
     "name": "stdout",
     "output_type": "stream",
     "text": [
      "22\n",
      "Talat\n",
      "TP\n"
     ]
    }
   ],
   "source": [
    "class A():\n",
    "    i=12345\t\t\t\t\t\t#shared by all instances of the class\n",
    "    def __init__(self,name):\n",
    "        self.name=name\t\t\t\t#shared by specific instance\n",
    "\n",
    "x=A(\"Talat\")\n",
    "x.i\t\t\t\t\t\t\t\t#12345\n",
    "\n",
    "\n",
    "class A():\n",
    "    name1=\"Python\"\n",
    "    def __init__(self,name,age):\n",
    "        self.name=name\n",
    "        self.age=age\n",
    "        self.name1=\"TP\"\n",
    "\n",
    "x=A(\"Talat\",22)\t\t\t\t\t#Create the instance of class A\n",
    "print(x.age)\t\t\t\t\t\t#22\n",
    "print(x.name)\t\t\t\t\t#\"Talat\"\t\n",
    "print(x.name1)\t\t\t\t\t#\"TP\""
   ]
  },
  {
   "cell_type": "markdown",
   "metadata": {},
   "source": [
    "If self with name1 was not given, then In lack of self keyword, name1 will not engaged with x object and will find to the upper most class. \n",
    "And will take the name1 as \"Python\".\n",
    "\n",
    "If I want to derive a baseclass into derivedclass i.e. Inheritance Concept. The syntax for Inheritance is as follows:\n",
    "\n",
    "    class derived_class(object,base_class):\n",
    "        //statements\n",
    "\n",
    "If the class is defined in another module, Then also it can be inherited as:\n",
    "\n",
    "class derived_class(object,module_name.base_class):\n",
    "    //statements\n",
    "\n",
    "\n",
    "If some attribute is not found in the class<derived>; Then It'll move forward to the BaseClass in searching of that requested Attribute and \n",
    "Search for it goes on untill it finds the requested attribute.\n",
    "\n",
    "    current class--> parent class--> grand parent class--> Object class(Upper Most Class)\n",
    "\n",
    "We can check whether the object is instance of the class or not as : isinstance(obj,class)\n",
    "We can check whether the derived_class is subclass of base_class or not as: issubclass(derived_class,base_class)"
   ]
  },
  {
   "cell_type": "markdown",
   "metadata": {},
   "source": [
    "# INSTANCE Vs Class Vs Static"
   ]
  },
  {
   "cell_type": "code",
   "execution_count": 68,
   "metadata": {},
   "outputs": [
    {
     "name": "stdout",
     "output_type": "stream",
     "text": [
      "executing foo(<__main__.A object at 0x000002F0AB4B9D30>,1)\n",
      "executing class_foo(<class '__main__.A'>,1)\n",
      "executing class_foo(<class '__main__.A'>,1)\n",
      "executing static_foo(1)\n",
      "executing static_foo(1)\n"
     ]
    },
    {
     "ename": "TypeError",
     "evalue": "foo() missing 1 required positional argument: 'x'",
     "output_type": "error",
     "traceback": [
      "\u001b[1;31m---------------------------------------------------------------------------\u001b[0m",
      "\u001b[1;31mTypeError\u001b[0m                                 Traceback (most recent call last)",
      "\u001b[1;32m<ipython-input-68-b4c070f481ba>\u001b[0m in \u001b[0;36m<module>\u001b[1;34m\u001b[0m\n\u001b[0;32m     18\u001b[0m \u001b[0ma\u001b[0m\u001b[1;33m.\u001b[0m\u001b[0mstatic_foo\u001b[0m\u001b[1;33m(\u001b[0m\u001b[1;36m1\u001b[0m\u001b[1;33m)\u001b[0m                 \u001b[1;31m# works fine\u001b[0m\u001b[1;33m\u001b[0m\u001b[1;33m\u001b[0m\u001b[0m\n\u001b[0;32m     19\u001b[0m \u001b[0mA\u001b[0m\u001b[1;33m.\u001b[0m\u001b[0mstatic_foo\u001b[0m\u001b[1;33m(\u001b[0m\u001b[1;36m1\u001b[0m\u001b[1;33m)\u001b[0m                 \u001b[1;31m# works fine\u001b[0m\u001b[1;33m\u001b[0m\u001b[1;33m\u001b[0m\u001b[0m\n\u001b[1;32m---> 20\u001b[1;33m \u001b[0mA\u001b[0m\u001b[1;33m.\u001b[0m\u001b[0mfoo\u001b[0m\u001b[1;33m(\u001b[0m\u001b[1;36m1\u001b[0m\u001b[1;33m)\u001b[0m                        \u001b[1;31m# doesn't work fine\u001b[0m\u001b[1;33m\u001b[0m\u001b[1;33m\u001b[0m\u001b[0m\n\u001b[0m",
      "\u001b[1;31mTypeError\u001b[0m: foo() missing 1 required positional argument: 'x'"
     ]
    }
   ],
   "source": [
    "class A(object):\n",
    "    def foo(self,x):\n",
    "        print(\"executing foo(%s,%s)\"%(self,x))\n",
    "\n",
    "    @classmethod\n",
    "    def class_foo(cls,x):\n",
    "        print(\"executing class_foo(%s,%s)\"%(cls,x))\n",
    "\n",
    "    @staticmethod\n",
    "    def static_foo(x):\n",
    "        print(\"executing static_foo(%s)\"%x)\n",
    "\n",
    "a=A()\n",
    "\n",
    "a.foo(1)\t\t\t# works fine\n",
    "a.class_foo(1)\t\t\t# works fine\n",
    "A.class_foo(1)\t\t\t# works fine\n",
    "a.static_foo(1)\t\t\t# works fine\n",
    "A.static_foo(1)\t\t\t# works fine\n",
    "A.foo(1)\t\t\t# doesn't work fine"
   ]
  },
  {
   "cell_type": "markdown",
   "metadata": {},
   "source": [
    "Instance/Normal methods - object of the class will be send as a first argument implicitely"
   ]
  },
  {
   "cell_type": "code",
   "execution_count": 69,
   "metadata": {},
   "outputs": [
    {
     "data": {
      "text/plain": [
       "<bound method A.foo of <__main__.A object at 0x000002F0AB4B9190>>"
      ]
     },
     "execution_count": 69,
     "metadata": {},
     "output_type": "execute_result"
    }
   ],
   "source": [
    "class A(object):\n",
    "    def foo(self):\n",
    "        pass\n",
    "\n",
    "A.foo                              #<unbound method A.foo>\n",
    "A().foo                            # <bound method A.foo of <__main__.A object at 0x7fe08567b690>>\n"
   ]
  },
  {
   "cell_type": "markdown",
   "metadata": {},
   "source": [
    "Class methods - class name will be send as a first argument implicitly, not bound to an object but to a class."
   ]
  },
  {
   "cell_type": "code",
   "execution_count": 70,
   "metadata": {},
   "outputs": [
    {
     "data": {
      "text/plain": [
       "<bound method A.foo of <class '__main__.A'>>"
      ]
     },
     "execution_count": 70,
     "metadata": {},
     "output_type": "execute_result"
    }
   ],
   "source": [
    "class A(object):\n",
    "    @classmethod\n",
    "    def foo(cls):\n",
    "        pass\n",
    "\n",
    "A.foo                              # <bound method type.foo of <class '__main__.A'>>\n",
    "A().foo                            # <bound method type.foo of <class '__main__.A'>>"
   ]
  },
  {
   "cell_type": "markdown",
   "metadata": {},
   "source": [
    "Static methods - Neither object nor class will be send as argument."
   ]
  },
  {
   "cell_type": "code",
   "execution_count": 72,
   "metadata": {},
   "outputs": [
    {
     "data": {
      "text/plain": [
       "<function __main__.A.foo()>"
      ]
     },
     "execution_count": 72,
     "metadata": {},
     "output_type": "execute_result"
    }
   ],
   "source": [
    "class A(object):\n",
    "    @staticmethod\n",
    "    def foo():\n",
    "        pass\n",
    "A.foo                            # <function __main__.foo> \n",
    "A().foo                          # <function __main__.foo>"
   ]
  },
  {
   "cell_type": "markdown",
   "metadata": {},
   "source": [
    "static methods are methods that belongs to a class but doesn't use the object itself. Static methods can be overwritten in subclasses."
   ]
  },
  {
   "cell_type": "code",
   "execution_count": 76,
   "metadata": {},
   "outputs": [
    {
     "name": "stdout",
     "output_type": "stream",
     "text": [
      "False\n",
      "True\n",
      "True\n"
     ]
    }
   ],
   "source": [
    "class Pizza(object):\n",
    "    @staticmethod\n",
    "    def mix_ingredients(x, y):\n",
    "        return x + y\n",
    "\n",
    "    def cook(self):\n",
    "        return self.mix_ingredients(self.cheese, self.vegetables)\n",
    "\n",
    "print(Pizza().cook is Pizza().cook)\n",
    "print(Pizza().mix_ingredients is Pizza.mix_ingredients)\n",
    "print(Pizza().mix_ingredients is Pizza().mix_ingredients)"
   ]
  },
  {
   "cell_type": "markdown",
   "metadata": {},
   "source": [
    "Abstract methods - A method defined in base class but may not provide any implementation, the simplest way to write an abstract method in Python is:"
   ]
  },
  {
   "cell_type": "code",
   "execution_count": 77,
   "metadata": {},
   "outputs": [],
   "source": [
    "class Pizza(object):\n",
    "    def get_radius(self):\n",
    "        raise NotImplementedError\n",
    "\n",
    "# Any class inheriting from Pizza should implement and override the get_radius method, otherwise an exception would be raised\n",
    "# In order to make it restrict, we have abc module which ensures that any abstract_method must be implemented in child class.\n",
    "\n",
    "import abc\n",
    "\n",
    "class A(object):\n",
    "    __metaclass__ = abc.ABCMeta\n",
    "    @abc.abstractmethod\n",
    "    def get_radius(self):\n",
    "        print(\"Voila\")\n",
    "\n",
    "class B(A):\n",
    "    def get_radius(self):\n",
    "        print(\"I am in class B\")"
   ]
  },
  {
   "cell_type": "markdown",
   "metadata": {},
   "source": [
    "No classmethod/staticmethod decorator can be applied on top of abstract method in base class (True for 2.x but not for 3.x)\n",
    "But abstract methods can be implemented by regular/class or static method."
   ]
  },
  {
   "cell_type": "markdown",
   "metadata": {},
   "source": [
    "# SUPER"
   ]
  },
  {
   "cell_type": "markdown",
   "metadata": {},
   "source": [
    "Super is a keyword that is used to make a call to the super class method's along with current class method:\n",
    "suppose there is a class that is been inherited by child class and both of them have the __init__() methods, So without using the super keyword we can;t \n",
    "call the parent class's __init__(), we need to put super keyword in child class that while initializing the current class; the parent class of it also \n",
    "needs to be initialized.\n",
    "It's more like How can I call the method of parent class if both child and parent class has the same method name\n",
    "\n",
    "NOTE: \"super() argument 1 must be type, not classobj - If baseclass doesn't have Object class inherited\"\n",
    "    e.g."
   ]
  },
  {
   "cell_type": "code",
   "execution_count": 80,
   "metadata": {},
   "outputs": [],
   "source": [
    "    class A(object):\n",
    "        def __init__(self, a):\n",
    "            self.a = a\n",
    "            print(\"Class A's constructor\")\n",
    "        def foo(self):\n",
    "            print(\"I'm in class A\")\n",
    "        def fo1(self):\n",
    "            print(\"Class A\")\n",
    "\n",
    "    class C(A):\n",
    "        def __init__(self, a):\n",
    "            self.a = a\n",
    "            print(\"Class C's constructor\")\n",
    "            \n",
    "            \n",
    "            \n",
    "            \n",
    "            \n",
    "            \n",
    "            \n",
    "            \n",
    "            \n",
    "            \n",
    "            \n",
    "            \n",
    "            \n",
    "            \n",
    "            \n",
    "            \n",
    "            \n",
    "            \n",
    "            \n",
    "            \n",
    "            \n",
    "            \n",
    "            \n",
    "            \n",
    "            \n",
    "            \n",
    "            \n",
    "            \n",
    "            \n",
    "            \n",
    "            super(C, self).__init__(self.a)\n",
    "        def foo(self):\n",
    "            print(\"I'm in class C\")\n",
    "\n",
    "\n",
    "    class A(object):\n",
    "        #def __init__(self):\n",
    "        #    print \"contructor of class A\"\n",
    "        #    super(A, self).__init__()\n",
    "        def foo(self, a=5, b=10):\n",
    "            print(a+b)\n",
    "    class B(A):\n",
    "        def __init__(self):\n",
    "            print(\"constructor of class B\")\n",
    "            super(B, self).foo()\n",
    "    class C(A):\n",
    "        #def __init__(self):\n",
    "        #   print \"Consructor for class C\"\n",
    "        #   super(C, self).__init__()\n",
    "        def __str__(self):\n",
    "            print(\"This is an object of class C\")\n",
    "        def __call__(self, a, b):\n",
    "            self.a = a\n",
    "            self.b = b\n",
    "        def foo(self):\n",
    "            super(C, self).foo(self.a, self.b)"
   ]
  },
  {
   "cell_type": "markdown",
   "metadata": {},
   "source": [
    "We can check the mro for the class; as \n",
    "        class_name.mro()"
   ]
  },
  {
   "cell_type": "markdown",
   "metadata": {},
   "source": [
    "When an object is created for a class C; then it'll also call the constructor method of parent class i.e. of class A\n",
    "    obj = C(10)\n",
    "o/p will be \"Class C's constructor\" and then \"Class B's constructor\"\n",
    "Whatever method we'll call in super method's line then it'll be called"
   ]
  },
  {
   "cell_type": "code",
   "execution_count": 82,
   "metadata": {},
   "outputs": [
    {
     "name": "stdout",
     "output_type": "stream",
     "text": [
      "22\n",
      "Python\n",
      "True\n"
     ]
    }
   ],
   "source": [
    "class B(object):\n",
    "    name=\"Python\"\n",
    "\n",
    "class A(B):\n",
    "    def __init__(self,name,age):\n",
    "        #self.name=name\n",
    "        self.age=age\n",
    "\n",
    "x=A(\"Talat\",22)\n",
    "print(x.age)\t\t\t\t\t\t\t\t\t#22\n",
    "print(x.name)\t\t\t\t\t\t\t\t#Python\n",
    "print(issubclass(A,object))"
   ]
  },
  {
   "cell_type": "markdown",
   "metadata": {},
   "source": [
    "If there is another class that has the same attribute as name, Then which name to call, which class will be looking first,\n",
    "\n",
    "    So It will be taken according to: \t\n",
    "                                        parameter list of the class\n",
    "                                        class derived_class(base_class1,base_class2,base_class3)\n",
    "    First it will find in itself, then base_class1, base_class2, base_class3 and so on...\n",
    "\n",
    "\n",
    "Look at the example:\n"
   ]
  },
  {
   "cell_type": "code",
   "execution_count": 85,
   "metadata": {
    "scrolled": true
   },
   "outputs": [
    {
     "name": "stdout",
     "output_type": "stream",
     "text": [
      "20\n",
      "20\n",
      "10\n"
     ]
    }
   ],
   "source": [
    "class Employee:\n",
    "    pass\n",
    "\n",
    "john = Employee() # Create an empty employee record\n",
    "\n",
    "# Fill the fields of the record\n",
    "john.name = 'John Doe'\n",
    "john.dept = 'computer lab'\n",
    "john.salary = 1000\n",
    "\n",
    "class A():\n",
    "    def foo(self):\n",
    "        b=20\n",
    "        print(b)\n",
    "\n",
    "a=A()\n",
    "a.foo()\t\t\t\t\t#20\n",
    "hasattr(a,'b')\t\t\t#False\n",
    "\n",
    "class A():\n",
    "    b=10\n",
    "    def foo(self):\n",
    "        b=20\n",
    "        print(b)\n",
    "        print(self.b)\n",
    "\n",
    "a=A()\n",
    "a.foo()\t\t\t\t\t#10 \\n 20\n",
    "hasattr(a,'b')\t\t\t#True\n",
    "\n",
    "class Person(object):\n",
    "    \"\"\"\n",
    "    Returns a ```Person``` object with given name.\n",
    "    \"\"\"\n",
    "    def __init__(self, name):\n",
    "        self.name = name\n",
    "    def get_details(self):\n",
    "        \"Returns a string containing name of the person\"\n",
    "        return self.name\n",
    "class Student(Person):\n",
    "    \"\"\"\n",
    "    Returns a ```Student``` object, takes 3 arguments, name, branch, year.\n",
    "    \"\"\"\n",
    "    def __init__(self, name, branch, year):\n",
    "        Person.__init__(self, name)\n",
    "        self.branch = branch\n",
    "        self.year = year\n",
    "    def get_details(self):\n",
    "        \"Returns a string containing student's details.\"\n",
    "        return \"%s studies %s and is in %s year.\" % (self.name, self.branch, self.year)\n",
    "\n",
    "class Teacher(Person):\n",
    "    \"\"\"\n",
    "    Returns a ```Teacher``` object, takes a list of strings (list of papers) as\n",
    "    argument.\n",
    "    \"\"\"\n",
    "    def __init__(self, name, papers):\n",
    "        Person.__init__(self, name)\n",
    "        self.papers = papers\n",
    "    def get_details(self):\n",
    "        return \"%s teaches %s\" % (self.name, ','.join(self.papers))"
   ]
  },
  {
   "cell_type": "markdown",
   "metadata": {},
   "source": [
    "Python doesn't support method overloading, Although we can have same name of methods in a class but only the last defined method will be considered while calling via class object."
   ]
  },
  {
   "cell_type": "markdown",
   "metadata": {},
   "source": [
    "__call__():\n",
    "    Call method is used to make the object as a Callable; Like when an Object is created; It goes to __init__ method; But what if I need to \n",
    "    modify the content of arguments, In this case I need to create another object; So, In this case; I can make the Object as callable say:\n",
    "    a=A(1, 2, 3)                            #It goes to __init__() method and instantiate the object\n",
    "    a(1,2,3)                                #I can't do if I havn't make the Object as callable\n",
    "\n",
    "    For Example:\n"
   ]
  },
  {
   "cell_type": "code",
   "execution_count": 88,
   "metadata": {},
   "outputs": [
    {
     "name": "stdout",
     "output_type": "stream",
     "text": [
      "Hello; Talat Parwez\n"
     ]
    }
   ],
   "source": [
    "class A(object):\n",
    "    def __init__(self,a,b,c):\n",
    "        self.a=a\n",
    "        self.b=b\n",
    "        self.c=c\n",
    "    def __call__(self,a,b,c):\n",
    "        self.a=a\n",
    "        self.b=b\n",
    "        self.c=c\n",
    "        print(\"Hello; Talat Parwez\")\n",
    "\n",
    "a=A(1,2,3)                         #Will Instantiate the object\n",
    "a(1,2,3)                                #Will go to the __call__() method as Now our Object is callable"
   ]
  },
  {
   "cell_type": "markdown",
   "metadata": {},
   "source": [
    "In case of multiple parents having the same method and you want to call method of specific parent, then it can be achieved by:"
   ]
  },
  {
   "cell_type": "code",
   "execution_count": 89,
   "metadata": {},
   "outputs": [],
   "source": [
    "class Parent1(object):\n",
    "     def foo(self):\n",
    "         print(\"I am a method from Parent1 class\")\n",
    "\n",
    "class Parent2(object):\n",
    "    def foo(self):\n",
    "        print(\"I am a method from Parent2 class\")\n",
    "\n",
    "class Child(Parent1, Parent2):\n",
    "    def foo(self):\n",
    "        print(\"I am a method from child class\")\n",
    "        super(Child, self).foo()\n",
    "        Parent1.foo(self)\n",
    "        Parent2.foo(self)"
   ]
  },
  {
   "cell_type": "raw",
   "metadata": {},
   "source": [
    "If there's an object and want to know the elements associated with this object the We can use,\n",
    "    # dir(obj)\n",
    "    # vars(obj)\n",
    "    # inpect.getmembers(obj)\n",
    "    # obj.__dict__\n",
    "    # from pprint import pprint \n",
    "    # pprin(dir(obj)), pprint(vars(obj))"
   ]
  },
  {
   "cell_type": "markdown",
   "metadata": {},
   "source": [
    "# MRO"
   ]
  },
  {
   "cell_type": "markdown",
   "metadata": {},
   "source": [
    "Method resolution order\n",
    "    class A:\n",
    "        pass\n",
    "\n",
    "    class B:\n",
    "        pass\n",
    "\n",
    "    class C(A, B):\n",
    "        pass\n",
    "\n",
    "C instances will use the old method resolution order  algorithm because none of the classes are derived from python object root class.\n",
    "\n",
    "Now, MRO will follow new algorithm mechanism\n",
    "    class A(object):\n",
    "        pass\n",
    "\n",
    "    class B(object):\n",
    "        pass\n",
    "\n",
    "    class A:\n",
    "        def who_am_i(self):\n",
    "            print \"A\"\n",
    "\n",
    "\n",
    "How classes are followed:\n",
    "    class B(A):\n",
    "        def who_am_i(self):\n",
    "            print \"B\"\n",
    "\n",
    "    class C(A):\n",
    "        def who_am_i(self):\n",
    "            print \"C\"\n",
    "\n",
    "    class D(B, C):\n",
    "        def who_am_i(self):\n",
    "            print \"D\"\n",
    "\n",
    "D --> B --> A --> C --> object\n",
    "\n",
    "    class A1(object):\n",
    "        def who_am_i(self):\n",
    "            print \"A1\"\n",
    "\n",
    "    class A2(object):\n",
    "        def who_am_i(self):\n",
    "            print \"A2\"\n",
    "\n",
    "    class A3():\n",
    "        def who_am_i(self):\n",
    "            print \"A3\"\n",
    "\n",
    "    class B(A1, A2):\n",
    "        def who_am_i(self):\n",
    "            print \"B\"\n",
    "\n",
    "    class C(A3):\n",
    "        def who_am_i(self):\n",
    "            print \"C\"\n",
    "\n",
    "    class D(B, C):\n",
    "        def who_am_i(self):\n",
    "            print \"D\"\n",
    "\n",
    "D --> B --> A1 --> A2 --> C --> A3,\n",
    "but if C inherits from  A2, then it MRO would work like this:\n",
    "D --> B --> A1 --> C --> A2 --> Object\n",
    "\n",
    "New type classes are the ones which inherits from object root class, and only difference is: Each time a class is found in built search path, Python asked the question - Is it a good head and if not - it removes the class from the final search path.\n",
    "As class is said as a good head if there's no other class in tail of the search path which inherits from it - If some class appeare two or more times before the child class in search path, then remove the first occurance of the parent classes."
   ]
  },
  {
   "cell_type": "markdown",
   "metadata": {},
   "source": [
    "# REDUCE"
   ]
  },
  {
   "cell_type": "markdown",
   "metadata": {},
   "source": [
    "# GETATTR/SETATTR"
   ]
  },
  {
   "cell_type": "markdown",
   "metadata": {},
   "source": [
    "   getattr(li, \"pop\") is the same as calling li.pop,   a way to add functionality (plug-in) dynamically in your application"
   ]
  },
  {
   "cell_type": "code",
   "execution_count": 91,
   "metadata": {},
   "outputs": [
    {
     "name": "stdout",
     "output_type": "stream",
     "text": [
      "__abs__ <method-wrapper '__abs__' of int object at 0x000002F0ABBFED30> True\n",
      "__add__ <method-wrapper '__add__' of int object at 0x000002F0ABBFED30> True\n",
      "__and__ <method-wrapper '__and__' of int object at 0x000002F0ABBFED30> True\n",
      "__bool__ <method-wrapper '__bool__' of int object at 0x000002F0ABBFED30> True\n",
      "__ceil__ <built-in method __ceil__ of int object at 0x000002F0ABBFED30> True\n",
      "__class__ <class 'int'> True\n",
      "__delattr__ <method-wrapper '__delattr__' of int object at 0x000002F0ABBFED30> True\n",
      "__dir__ <built-in method __dir__ of int object at 0x000002F0ABBFED30> True\n",
      "__divmod__ <method-wrapper '__divmod__' of int object at 0x000002F0ABBFED30> True\n",
      "__doc__ int([x]) -> integer\n",
      "int(x, base=10) -> integer\n",
      "\n",
      "Convert a number or string to an integer, or return 0 if no arguments\n",
      "are given.  If x is a number, return x.__int__().  For floating point\n",
      "numbers, this truncates towards zero.\n",
      "\n",
      "If x is not a number or if base is given, then x must be a string,\n",
      "bytes, or bytearray instance representing an integer literal in the\n",
      "given base.  The literal can be preceded by '+' or '-' and be surrounded\n",
      "by whitespace.  The base defaults to 10.  Valid bases are 0 and 2-36.\n",
      "Base 0 means to interpret the base from the string as an integer literal.\n",
      ">>> int('0b100', base=0)\n",
      "4 False\n",
      "__eq__ <method-wrapper '__eq__' of int object at 0x000002F0ABBFED30> True\n",
      "__float__ <method-wrapper '__float__' of int object at 0x000002F0ABBFED30> True\n",
      "__floor__ <built-in method __floor__ of int object at 0x000002F0ABBFED30> True\n",
      "__floordiv__ <method-wrapper '__floordiv__' of int object at 0x000002F0ABBFED30> True\n",
      "__format__ <built-in method __format__ of int object at 0x000002F0ABBFED30> True\n",
      "__ge__ <method-wrapper '__ge__' of int object at 0x000002F0ABBFED30> True\n",
      "__getattribute__ <method-wrapper '__getattribute__' of int object at 0x000002F0ABBFED30> True\n",
      "__getnewargs__ <built-in method __getnewargs__ of int object at 0x000002F0ABBFED30> True\n",
      "__gt__ <method-wrapper '__gt__' of int object at 0x000002F0ABBFED30> True\n",
      "__hash__ <method-wrapper '__hash__' of int object at 0x000002F0ABBFED30> True\n",
      "__index__ <method-wrapper '__index__' of int object at 0x000002F0ABBFED30> True\n",
      "__init__ <method-wrapper '__init__' of int object at 0x000002F0ABBFED30> True\n",
      "__init_subclass__ <built-in method __init_subclass__ of type object at 0x00007FFCFCC98D10> True\n",
      "__int__ <method-wrapper '__int__' of int object at 0x000002F0ABBFED30> True\n",
      "__invert__ <method-wrapper '__invert__' of int object at 0x000002F0ABBFED30> True\n",
      "__le__ <method-wrapper '__le__' of int object at 0x000002F0ABBFED30> True\n",
      "__lshift__ <method-wrapper '__lshift__' of int object at 0x000002F0ABBFED30> True\n",
      "__lt__ <method-wrapper '__lt__' of int object at 0x000002F0ABBFED30> True\n",
      "__mod__ <method-wrapper '__mod__' of int object at 0x000002F0ABBFED30> True\n",
      "__mul__ <method-wrapper '__mul__' of int object at 0x000002F0ABBFED30> True\n",
      "__ne__ <method-wrapper '__ne__' of int object at 0x000002F0ABBFED30> True\n",
      "__neg__ <method-wrapper '__neg__' of int object at 0x000002F0ABBFED30> True\n",
      "__new__ <built-in method __new__ of type object at 0x00007FFCFCC98D10> True\n",
      "__or__ <method-wrapper '__or__' of int object at 0x000002F0ABBFED30> True\n",
      "__pos__ <method-wrapper '__pos__' of int object at 0x000002F0ABBFED30> True\n",
      "__pow__ <method-wrapper '__pow__' of int object at 0x000002F0ABBFED30> True\n",
      "__radd__ <method-wrapper '__radd__' of int object at 0x000002F0ABBFED30> True\n",
      "__rand__ <method-wrapper '__rand__' of int object at 0x000002F0ABBFED30> True\n",
      "__rdivmod__ <method-wrapper '__rdivmod__' of int object at 0x000002F0ABBFED30> True\n",
      "__reduce__ <built-in method __reduce__ of int object at 0x000002F0ABBFED30> True\n",
      "__reduce_ex__ <built-in method __reduce_ex__ of int object at 0x000002F0ABBFED30> True\n",
      "__repr__ <method-wrapper '__repr__' of int object at 0x000002F0ABBFED30> True\n",
      "__rfloordiv__ <method-wrapper '__rfloordiv__' of int object at 0x000002F0ABBFED30> True\n",
      "__rlshift__ <method-wrapper '__rlshift__' of int object at 0x000002F0ABBFED30> True\n",
      "__rmod__ <method-wrapper '__rmod__' of int object at 0x000002F0ABBFED30> True\n",
      "__rmul__ <method-wrapper '__rmul__' of int object at 0x000002F0ABBFED30> True\n",
      "__ror__ <method-wrapper '__ror__' of int object at 0x000002F0ABBFED30> True\n",
      "__round__ <built-in method __round__ of int object at 0x000002F0ABBFED30> True\n",
      "__rpow__ <method-wrapper '__rpow__' of int object at 0x000002F0ABBFED30> True\n",
      "__rrshift__ <method-wrapper '__rrshift__' of int object at 0x000002F0ABBFED30> True\n",
      "__rshift__ <method-wrapper '__rshift__' of int object at 0x000002F0ABBFED30> True\n",
      "__rsub__ <method-wrapper '__rsub__' of int object at 0x000002F0ABBFED30> True\n",
      "__rtruediv__ <method-wrapper '__rtruediv__' of int object at 0x000002F0ABBFED30> True\n",
      "__rxor__ <method-wrapper '__rxor__' of int object at 0x000002F0ABBFED30> True\n",
      "__setattr__ <method-wrapper '__setattr__' of int object at 0x000002F0ABBFED30> True\n",
      "__sizeof__ <built-in method __sizeof__ of int object at 0x000002F0ABBFED30> True\n",
      "__str__ <method-wrapper '__str__' of int object at 0x000002F0ABBFED30> True\n",
      "__sub__ <method-wrapper '__sub__' of int object at 0x000002F0ABBFED30> True\n",
      "__subclasshook__ <built-in method __subclasshook__ of type object at 0x00007FFCFCC98D10> True\n",
      "__truediv__ <method-wrapper '__truediv__' of int object at 0x000002F0ABBFED30> True\n",
      "__trunc__ <built-in method __trunc__ of int object at 0x000002F0ABBFED30> True\n",
      "__xor__ <method-wrapper '__xor__' of int object at 0x000002F0ABBFED30> True\n",
      "as_integer_ratio <built-in method as_integer_ratio of int object at 0x000002F0ABBFED30> True\n",
      "bit_length <built-in method bit_length of int object at 0x000002F0ABBFED30> True\n",
      "conjugate <built-in method conjugate of int object at 0x000002F0ABBFED30> True\n",
      "denominator 1 False\n",
      "from_bytes <built-in method from_bytes of type object at 0x00007FFCFCC98D10> True\n",
      "imag 0 False\n",
      "numerator 1000 False\n",
      "real 1000 False\n",
      "to_bytes <built-in method to_bytes of int object at 0x000002F0ABBFED30> True\n"
     ]
    }
   ],
   "source": [
    "class A():\n",
    "    name = \"Talat\"\n",
    "\n",
    "getattr(A, \"name\")                                    # attribute value will be returned\n",
    "getattr(A, \"age\", 123)                              #  default value will be returned if \"age\" isn't an attribute of A\n",
    "\n",
    "def get_item():\n",
    "    return \"123\"\n",
    "\n",
    "li = [1,2,3,4]\n",
    "\n",
    "getattr(li, \"get_item\", get_item())         # dynamically adding get_item() functionality to python lists\n",
    "\n",
    "class A():\n",
    "    name = \"Talat\"\n",
    "    def my_name(self, surname):\n",
    "        return self.name + surname\n",
    "\n",
    "getattr(A(), \"my_name\")(\"Parwez\")\n",
    "\n",
    "class A():                     \n",
    "    name = \"Talat\"\n",
    "    @classmethod\n",
    "    def my_name(cls, surname):\n",
    "        return cls.name + \" \" + surname\n",
    "\n",
    "getattr(A(), \"my_name\")(\"Parwez\")\n",
    "getattr(A, \"my_name\")(\"Parwez\")\n",
    "\n",
    "obj = 1000\n",
    "for attr_name in dir(obj):\n",
    "    attr_value = getattr(obj, attr_name)\n",
    "    print(attr_name, attr_value, callable(attr_value))"
   ]
  },
  {
   "cell_type": "markdown",
   "metadata": {},
   "source": [
    "Similar to getattr there is setattr which allows you to set an attribute of an object having its name"
   ]
  },
  {
   "cell_type": "code",
   "execution_count": 92,
   "metadata": {},
   "outputs": [],
   "source": [
    "class A():\n",
    "    name = \"Talat\"\n",
    "\n",
    "getattr(A, \"name\")                                     # Talat\n",
    "getattr(A(), \"name\")                                   # Talat\n",
    "setattr(A, \"name\", \"Parwez\")                   # A.name --> Parwez, A().name --> Parwez\n",
    "setattr(A(), \"name\", \"Parwez\")                # A.name --> Talat, A().name --> Talat\n",
    "dd = A()\n",
    "setattr(dd, \"name\", \"Parwez\")               # A.name --> Talat, A().name --> Talat, dd.name --> Parwez"
   ]
  },
  {
   "cell_type": "markdown",
   "metadata": {},
   "source": [
    "# MAGIC METHODS"
   ]
  },
  {
   "cell_type": "markdown",
   "metadata": {},
   "source": [
    "class A():\n",
    "    name = \"Talat\"\n",
    "\n",
    "getattr(A, \"name\")                                     # Talat\n",
    "getattr(A(), \"name\")                                   # Talat\n",
    "setattr(A, \"name\", \"Parwez\")                   # A.name --> Parwez, A().name --> Parwez\n",
    "setattr(A(), \"name\", \"Parwez\")                # A.name --> Talat, A().name --> Talat\n",
    "dd = A()\n",
    "setattr(dd, \"name\", \"Parwez\")               # A.name --> Talat, A().name --> Talat, dd.name --> Parwez"
   ]
  },
  {
   "cell_type": "markdown",
   "metadata": {},
   "source": [
    "repr(x) calls x.__repr__() : a representation of x . eval will usually convert the result of this function back to the original object.\n",
    "str(x) calls x.__str__() : a human-readable string that describes the object.\n",
    "difference between this and repr(object) is that str(object) does not always attempt to return a string that is acceptable to eval()\n",
    "\n",
    "These are those methods which can be used as built-in methods and listed as follows:\n",
    "    __eq__,__ne__, __gt__, __le__, __ge__, __pos__(self), __neg__(self), __abs__(self), __invert__(self) [NOT operator], __round__(self, n),\n",
    "    __floor__(self), __ceil__(self), __trunc__(self), __add__(self, other), __sub__(self, other), __mul__(self, other), __floordiv(self, other), __div__(self,\n",
    "other), __truediv__(self, other), __mod__(self, other), __divmod__(self, other), __pow__(self, other), __and__(self, other), __or__(sel, other), __xor__(self, other), __int__(self)\n",
    "\n",
    "Some magic methods are also available for representation of Class \n",
    "    __str__(self), __repr__(self), __unicode__(self), __format__(self), __hash__(self), __nonzero__(self), __dir__(self), __sizeof__(self)\n",
    "\n",
    "    __str__() defines behaviour when str() is called on the instance of the class\n",
    "    __repr__() defines behaviour when str() is called on the instance of the class\n",
    "            The difference between them is intended audience; __repr__() machine readable and __str__() is human readable\n",
    "    __unicode__() same as __str__ but return a unicode string\n",
    "    __hash__(self), dir(), __getattr__(self, name), __setattr__(self, name, value), __delattr__(self, name), __getattribute__()\n",
    "    __len__(self), __getitem__(self, key), __setitem__(self, key, value), __delitem__(self, key), __iter__(self), __reversed__(self)\n",
    "    __copy__(self)==shallow copy, __deepcopy__(self, dict)"
   ]
  },
  {
   "cell_type": "code",
   "execution_count": 96,
   "metadata": {},
   "outputs": [],
   "source": [
    "class FunctionalTests(object):\n",
    "    def __init__(self, *values):\n",
    "        if values is None:\n",
    "            self.values = []\n",
    "            print(\"It recieved nothing \",self.values)\n",
    "        else:\n",
    "            self.values = values\n",
    "            print(\"It recieved some values i.e.\", self.values)\n",
    "\n",
    "    def __len__(self):\n",
    "        print(\"The total number of items recieved are: \", len(self.values))\n",
    "\n",
    "    def __getitem__(self, key):\n",
    "        try:\n",
    "            print(\"The item you're looking for is: \", self.values[key])\n",
    "        except IndexError as e:\n",
    "            print(\"You've given Index more than the length of Sequence\")"
   ]
  },
  {
   "cell_type": "markdown",
   "metadata": {},
   "source": [
    "For immutable objects, there's no need of for copying because the data will never change.Python uses the same data and Ids are always the same."
   ]
  },
  {
   "cell_type": "markdown",
   "metadata": {},
   "source": [
    "# MODULES"
   ]
  },
  {
   "cell_type": "markdown",
   "metadata": {},
   "source": [
    "import python_file_name [without extension]\n",
    "from python_file_name import fn1, fn2, fn3\n",
    "\n",
    "We can have many submodules inside a module. A directory, with a __init__.py can also be used as a module and all\n",
    ".py files inside it become submodules.\n",
    "\n",
    "If __init__.py file has __all__, and __init__.py contains the following;\n",
    "from module import fn1\n",
    "__all__ = [fn1]\n",
    "\n",
    "\n",
    "then only the methods listed in list[i.e. fn1] will be imported when I'll do \n",
    "from mymodule import *"
   ]
  },
  {
   "cell_type": "markdown",
   "metadata": {},
   "source": [
    "# Pickle Module"
   ]
  },
  {
   "cell_type": "markdown",
   "metadata": {},
   "source": [
    "\n",
    "We can store any plain python object in a file and can get back it later.\n"
   ]
  },
  {
   "cell_type": "code",
   "execution_count": 100,
   "metadata": {},
   "outputs": [
    {
     "name": "stdout",
     "output_type": "stream",
     "text": [
      "[1, 2, 3, 4]\n"
     ]
    }
   ],
   "source": [
    "import pickle\n",
    "l=[1,2,3,4]\t\t\t\t#A list is defined\n",
    "f=open(\"ll\",'wb')\t\t\t#A file is opened in a write binary mode\n",
    "pickle.dump(l,f)\t\t\t#It will store the \"l\" object to \"f\".\n",
    "f.close()\t\t\t\t#Close the file\t\n",
    "del l\t\t\t\t\t#del the \"l\" object, now you won't be able to access l.\n",
    "f=open('ll','rb')\t\t\t#again open the file but in read binary mode\n",
    "result=pickle.load(f)\t\t\t#load the content whatever is stored in f, as you did stored the l to f so l will come to result\n",
    "print(result)\t\t\t\t#[1,2,3,4]"
   ]
  },
  {
   "cell_type": "markdown",
   "metadata": {},
   "source": [
    "# SYS Module"
   ]
  },
  {
   "cell_type": "raw",
   "metadata": {},
   "source": [
    "Access to some variable used or maintained by Interpreter and to that function that interacts strongly with Interpreter.sys.argv contains all\n",
    "\t\t   command line interpreters.\n",
    "\n",
    "For Example:\n",
    "        This one is used to get the command line arguments and command line arguments are those arguments when we give at the run time as:\n",
    "        python \"file_name\" arg1, arg2, arg3, ...\n",
    "                __future__ is used to get the functionallity of those functions that are not already present in your python; So with the application of\n",
    "                __future__ we can import future functions"
   ]
  },
  {
   "cell_type": "code",
   "execution_count": 102,
   "metadata": {},
   "outputs": [
    {
     "name": "stdout",
     "output_type": "stream",
     "text": [
      "['C:\\\\Users\\\\talat\\\\AppData\\\\Local\\\\Programs\\\\Python\\\\Python38\\\\lib\\\\site-packages\\\\ipykernel_launcher.py', '-f', 'C:\\\\Users\\\\talat\\\\AppData\\\\Roaming\\\\jupyter\\\\runtime\\\\kernel-95bffd6f-3b34-4a0c-9776-ad02e4cb3da9.json'] 3\n"
     ]
    }
   ],
   "source": [
    "from __future__ import print_function\n",
    "import sys\n",
    "print(sys.argv, len(sys.argv))\n",
    "\n",
    "# Now from the command prompt give the argumenmts as:\n",
    "# python \"file_name\" Hello\n",
    "# python \"file_name\" Hello Talat Parwez\n",
    "# python \"file_name\" Hello \"Talat\" Parwez\n",
    "# python \"file_name\" \"Hello\" Talat \"Parwez\""
   ]
  },
  {
   "cell_type": "markdown",
   "metadata": {},
   "source": [
    "# OS Module"
   ]
  },
  {
   "cell_type": "markdown",
   "metadata": {},
   "source": [
    "To perform all the operating system related utilities; we use OS module\n",
    "To check whether a particular path exists in System or not; We can use:\n",
    "        os.path.exists('/stalat/Instances/LA/') --> True if exists\n",
    "\n",
    "\n",
    "__file__ will tell you the name of the file which is currently being executed.\n",
    "\n",
    "SQLite is included in Python, so you won’t need to install anything else to support your database."
   ]
  },
  {
   "cell_type": "raw",
   "metadata": {},
   "source": [
    "_ —> last printed statement on interpreter\n",
    "_ —> Ignore the values while Un-Packing, a, _, _, d = (1, 2, 3, 4)\n",
    "_function_name() —> will make it private, and when calling via:\n",
    "\n",
    "from <module_name> import *, \n",
    "All the methods and variables will not be imported which have _ as prefix, But they can be imported If called via <module_name>._<method_name>"
   ]
  },
  {
   "cell_type": "code",
   "execution_count": 107,
   "metadata": {},
   "outputs": [],
   "source": [
    "def foo():\n",
    "  print(\"hello\")\n",
    "\n",
    "def _foo1():\n",
    "  print(\"Hi\")\n",
    "\n",
    "# from <module_name> import * —>                  _foo1() won’t be accessible\n",
    "# import <module_name> —>                         <module_name>._foo1() will be accessible\n",
    "\n",
    "class ClassName:\n",
    "  def foo(self):\n",
    "    print(\"foo\")\n",
    "\n",
    "  def _foo1(self):\n",
    "    print(\"foo1\")\n",
    "\n",
    "  def __foo2(self):\n",
    "    print(\"foo2\")\n"
   ]
  },
  {
   "cell_type": "markdown",
   "metadata": {},
   "source": [
    "from module_name import class_name —> foo()/_foo1() are accessible but __foo2() won’t be accessible even by importing it."
   ]
  },
  {
   "cell_type": "markdown",
   "metadata": {},
   "source": [
    "# Property"
   ]
  },
  {
   "cell_type": "markdown",
   "metadata": {},
   "source": [
    "# Collections"
   ]
  },
  {
   "cell_type": "raw",
   "metadata": {},
   "source": [
    "<COUNTER>\n",
    "from collections import Counter\n",
    "lst = [1,2, 2, 2, 2, 2, 2, 1, 1, 1, 1, 'a', 'a', 'c', 'a', 'c', 'c', 'c', 'b']\n",
    "dd = Counter(lst)\n",
    "Counter({1: 5, 2: 6, 'a': 3, 'b': 1, 'c': 4})\t\t\t# Applicable on strings as well\n",
    "dd.most_common() \t\t\t\t\t\t# Counter({1: 5, 2: 6, 'a': 3, 'b': 1, 'c': 4})\n"
   ]
  },
  {
   "cell_type": "raw",
   "metadata": {},
   "source": [
    "<DEFAULT_DICT>\n",
    "from collections import defaultdict\t\t\t\t# If values aren’t assigned to keys then, default value is set\n",
    "d = defaultdict(lambda: 0)\n",
    "d[‘one’]\t\t\t\t\t\t\t# 0\n",
    "d[’two’]\t\t\t\t\t\t\t# 0\n"
   ]
  },
  {
   "cell_type": "raw",
   "metadata": {},
   "source": [
    "<ORDERED_DICTIONARY>\n",
    "Normal dictionary doesn’t retain the order but Ordered dictionary does.\n",
    "from collections import OrderedDict\n",
    "d = OrderedDict()\n",
    "d[1] = ‘a’\n",
    "d[2] = ‘b’\n",
    "d[3] = ‘c’\n",
    "d[4] = ‘d’"
   ]
  },
  {
   "cell_type": "raw",
   "metadata": {},
   "source": [
    "<NAMED_TUPLE>:\n",
    "from collections import named tuple\n",
    "Dog = namedtuple(‘Dog’, ‘age breed name’)\n",
    "sam = Dog(age=2, breed=‘lab’, name=‘samy’)\n",
    "sam.age, sam.breed, sam.name\t\t\t\t\t# So here, we can call age as sam[0] and sam.age as well"
   ]
  },
  {
   "cell_type": "markdown",
   "metadata": {},
   "source": [
    "# Shallow Vs. Deep copy"
   ]
  },
  {
   "cell_type": "markdown",
   "metadata": {},
   "source": [
    "Assignment statements in python don't copy objects, but they create bindings between a target and an object\n",
    "With shallow_copy, the ID of outer element is changed only,\n",
    "    If we change some outer indexed value, then it won't be reflected in copied item.\n",
    "    If we change values in inner indexed item, then it'll be reflected in copied item.\n",
    "With deepcopy, the ID of inner elements are changed as well along with outer elements\n",
    "    ** any changes made to a copy of object don't reflect in another object. \n",
    "    If we change some outer indexed value, then it won't be reflected in copied item\n",
    "    If we change vallues in inner indexed item, then it won't be reflected in copied item.\n",
    "\n",
    "FYR: [1,2,3, [4,5,6]] - (1,2,3) are outer indexed items and (4,5,6) are inner indexed items"
   ]
  },
  {
   "cell_type": "markdown",
   "metadata": {},
   "source": [
    "# Time-it Module"
   ]
  },
  {
   "cell_type": "code",
   "execution_count": 113,
   "metadata": {},
   "outputs": [
    {
     "data": {
      "text/plain": [
       "0.0008816999998089159"
      ]
     },
     "execution_count": 113,
     "metadata": {},
     "output_type": "execute_result"
    }
   ],
   "source": [
    "import timeit\t\t\t\t\t\t\t\t\t# this will give the time taken in execution of any LOC\n",
    "timeit.timeit('\"-\".join(str(n) for n in range(10))', number = 20)\t\t# here 20 is the number of times this LOC will get executed\n",
    " \n",
    "# code snippet to be executed only once\n",
    "mysetup = \"from math import sqrt\"\n",
    " \n",
    "# code snippet whose execution time is to be measured\n",
    "mycode = '''\n",
    "def example():\n",
    "    mylist = []\n",
    "    for x in range(100):\n",
    "        mylist.append(sqrt(x))\n",
    "'''\n",
    " \n",
    "\t# timeit statement\n",
    "timeit.timeit(setup = mysetup, stmt = mycode, number = 10000)\n",
    "#timeit.repeat(stmt=cc, repeat=3, setup='pass', number = 1000000)\t\t# returns list"
   ]
  },
  {
   "cell_type": "markdown",
   "metadata": {},
   "source": [
    "# REGULAR EXPRESSIONS"
   ]
  },
  {
   "cell_type": "markdown",
   "metadata": {},
   "source": [
    "\tThere are two ways to accomplish pattern matching - \n",
    "\t- Searching (search()): looking for a pattern match in any part of the string\n",
    "\t- Matching (match()): match a pattern to an entire string (find all words having first letter as alphanumeric, second as an integer)\n",
    "\timport re\n",
    "\tmatch = re.search(“Talat”, “Talat Parwez”)\t\t\t\t# SRE match object If found else None\n",
    "\tmatch.start()\t\t\t\t\t\t\t\t# 0\n",
    "\tmatch.end()\t\t\t\t\t\t\t\t# 5\n",
    "\tre.findall(‘match’, “Here is a match, here is another match”)\t\t# [‘match’, ‘match’]\n",
    "\t\n",
    "\tare five ways to express repetition in pattern:\n",
    "\ttimeit.repeat(stmt=cc, repeat=3, setup='pass', number = 1000000)\t\t# returns list\n",
    "\t* A pattern followed by meta character * is repeated zero or more times.\n",
    "\t* Replace the * with + and pattern must appear atleast once.\n",
    "\t* Using ? means the pattern zero or more times.\n",
    "\t* For a specific number of occurrences, use {m} after the pattern, where m is replaced with the number of times the pattern should repeat.\n",
    "\t* Use {m, n} where m is the minimum number of repetitions and n is the maximum. Leaving out n (m{, }) means the value appears at least m times, with no maximum.\n",
    "\n",
    "\t[\n",
    "\t\t’sd*’, \t\t\t\t# s followed by zero or more d’s\n",
    "\t\t‘sd+’, \t\t\t\t# s followed by one or more d’s\n",
    "\t\t‘sd?’, \t\t\t\t# s followed by zero or one d\n",
    "\t\t‘sd{3}’,\t\t\t# s followed by three d’s\n",
    "\t\t‘sd{2,3}’,\t\t\t# s followed by two to three d’s\n",
    "\t]\n",
    "\n",
    "\t[\n",
    "\t\t‘[sd]’,\t\t\t\t# either s or d\n",
    "\t\t’s[sd]+’,\t\t\t# s followed by one or more s or d\n",
    "\t],\t\t\t\t\n",
    "\t\n",
    "\n",
    "\t[^]\t\t\t\t\t# ^ is used for exclusion\n",
    "\t[\n",
    "\t\t[^!.?],\t\t\t\t# check for matches that are not a !, ., ?.\n",
    "\t]\n",
    "\n",
    "\t[a-f]\t\t\t\t\t# would return matches with any instance of letters between a and f\n",
    "\t[\n",
    "\t\t‘[a-z]+’,\t\t\t# sequences of lower case letters\n",
    "\t\t‘[A-Z]+’,\t\t\t# sequences of upper case letters\n",
    "\t\t‘[a-zA-Z]+’,\t\t\t# sequences of lower or upper case letters\n",
    "\t\t‘[A-Z][a-z]+’,\t\t\t# one upper case letter followed by lower case letters\n",
    "\t]\n",
    "\n",
    "\tInstead of putting [0-9], [A-Z], these special characters can be used to achieve the same.\n",
    "\t\\d\t\t\t\t\t# a digit\n",
    "\t\\D \t\t\t\t\t# a non-digit\n",
    "\t\\s\t\t\t\t\t# whitespace\n",
    "\t\\S\t\t\t\t\t# non whitespace\n",
    "\t\\w\t\t\t\t\t# alphanumeric\n",
    "\t\\W\t\t\t\t\t# non-alphanumeric\n",
    "\t\\b and \\B \t\t\t\t# pertain to word boundary matches\n",
    "\n",
    "\t\n",
    "\tliteral\t\t\t\tMatch literal string value 'literal'\t\t\tfoo\n",
    "\tre1|re2\t\t\t\tMatch regular expressions re1 or re2\t\t\tfoo|bar\n",
    "\t.\t\t\t\tMatch any character (except \\n)\t\t\t\tb.b\n",
    "\t^\t\t\t\tMatch start of string\t\t\t\t\t^Dear\n",
    "\t$\t\t\t\tMatch end of string\t\t\t\t\t/bin/*sh$\n",
    "\t*\t\t\t\tMatch 0 or more occurances of preceding regex\t\t[A-Za-z0-9]*\n",
    "\t+\t\t\t\tMatch 1 or more occurances of preceding regex\t\t[a-z]+\\.com\n",
    "\t?\t\t\t\tMatch 0 or 1 occurances of preceding regex\t\tgoo?\n",
    "\t{N} \t\t\t\tMatch N occurances of preceding regex\t\t\t[0-9]{3}\n",
    "\t{M, N}\t\t\t\tMatch from M to N occurances of preceding regex\t\t[0-9]{5, 9}\n",
    "\t[...]\t\t\t\tMatch any single character from character class\t\t[aeiou]\n",
    "\t[..x-y..]\t\t\tMatch any single character in range from x to y\t\t[0-9], [A-Za-z]\n",
    "\t[^...]\t\t\t\tDon't match any character from character class,\n",
    "\t\t\t\t\tincluding any ranges, if present\t\t\t[^aeiou], [^A-Za-z0-9]\n",
    "\t(*|+|?|{})?\t\t\tapply 'non-greedy' versions of above occurance\t\t.*?[a-z]\n",
    "\t(...)\t\t\t\tMatch enclosed regex and save as subgroup\t\t([0-9]{3})?, f(oo|u)\n",
    "\n",
    "\t^From\t\t\t\t# Any string that starts with From\n",
    "\t/bin/tcsh$\t\t\t# Any string that ends with /bin/tcsh\n",
    "\t^Subject: hi$\t\t\t# Any string consisting solely of the string Subject: hi\n",
    "\n",
    "\tCreating character classes ([])\n",
    "\t\tb[aeiu]t\t\t# bat, bet, bit, but\n",
    "\t\t[cr][23][dp][o2]\t# A string of four characters: first is c or r, then 2 or 3 etc. r3p2, r2d2, c3po [] returns only 1 charatcer from charatcer class.\n",
    "\t\tz.[0-9]\t\t\t# \"z\" followed by any character then followed by single digit\n",
    "\t\t[r-u][env-y][us]\t# \"r\", 's', 't' or 'u' followed by 'e', 'n', 'v', 'w', 'x' or 'y' followed by 'u' or 's'\n",
    "\t\t[^aeiou]\t\t# A non-vowel charatcer\n",
    "\t\t[^\\t\\n]\t\t\t# Not a TAB or \\n\n",
    "\n",
    "\tMultiple Occurence/Repetition using Closure operators (*, +, ?, {})\n",
    "\t\t*\t\t\t# Match 0 or more occurances of regex immediately to its left\n",
    "\t\t+\t\t\t# Match 1 or more occurences of regex\n",
    "\t\t?\t\t\t# Match exactly 0 or 1 occurences of regex\n",
    "\t\n",
    "\t\t[dn]ot?\t\t\t# 'd' or 'n' followed by an 'o' and atmost one 't' after that - 'do', 'no', 'dot', 'not'\n",
    "\t\t0?[0-9]\t\t\t# digit and then 0 or 1 or .. 9\n",
    "\t\t[0-9]{15-16}\t\t# fifteen or sixteen digits\n",
    "\t\t</?[^>]+>\t\t# string that match all valid/invalid HTML tags\n",
    "\t\t\n",
    "\t\t\\w+-\\d+\t\t\t# alphanumeric string and number separated by hyphen\n",
    "\t\t\\d{3}-\\d{3}-\\d{4}\t# telephone numbers with area code prefix, 800-555-1212\n",
    "\t\t\\w+@\\w+\\.com\t\t# xxx@yyy.com"
   ]
  },
  {
   "cell_type": "markdown",
   "metadata": {},
   "source": [
    "# MULTI THREADED PROGRAMMING"
   ]
  },
  {
   "cell_type": "markdown",
   "metadata": {},
   "source": [
    "* THREAD -\n",
    "    Object that represents a single thread of execution\n",
    "    \n",
    "* LOCK -\n",
    "    Primitive lock object (same lock as in thread module)\n",
    "    \n",
    "* RLOCK - \n",
    "    Re-entrant lock object provides ability for a single thread to re-acquire an already held lock\n",
    "    \n",
    "* CONDITION - \n",
    "    This object causes one thread to wait until a certain condition has been satisfied by another thread\n",
    "    \n",
    "* EVENT - \n",
    "    General version of condition variables, whereby any number of threads are waiting for some event to occur \n",
    "    and all will awaken when the event happens\n",
    "    \n",
    "* SEMAPHORE - \n",
    "    Provides a 'counter' of finite resources shared between threads; block when none are available\n",
    "    \n",
    "* BOUNDEDSEMAPHORE - \n",
    "    Similar to semaphore but ensures that it never exceeds its initial value\n",
    "    \n",
    "* TIMER - \n",
    "    Similar to thread, except that it waits for an alloted period of time before running\n",
    "    \n",
    "* BARRIER - \n",
    "    A barrier at which a specified number of threads must all arrive before they're all allowed to continues\n",
    "\n",
    "    Due to the fact that the Python virtual machine is single threaded (GIL), greater concurrency is \n",
    "    only possible when threading is applied to an I/O bound application (Vs. CPU bound applications,\n",
    "\twhich only do round-robin)\n",
    "\n",
    "* SYNCHRONIZATION PRIMITIVES - \n",
    "    Often times, in threaded code, we've certain codes which we don't want more than 1 thread executing. \n",
    "    Usually this involves modifying a database, updating a file.\n",
    "\twhenever there's a race condition, synchronization is required. \n",
    "    Synchronization is used when many number of threads can come up to one of critical sections \n",
    "    but only one is allowed through at any given time. \n",
    "    \n",
    "    Two types of syncronization are there - \n",
    "    1. Locks/Mutexes \n",
    "    2. Semaphores.\n",
    "\n",
    "* LOCKING: \n",
    "    Two states - \n",
    "    Locked and Unlocked, \n",
    "    \n",
    "    Two supported functions - \n",
    "    Acquire and Release. As multiple thread looks for lock, \n",
    "    the first thread to acquire one is permitted to go in and execute code in critical section. \n",
    "    All other threads coming along are blocked until the first thread wraps up, \n",
    "    exits the critical section and releases the lock. We need locks so that no two threads can enter the \n",
    "    critical section at same time to access the same data structure or I/O\n",
    "\n",
    "    Locks are pretty simple to understand and implement and also easy to decide when should we use them, \n",
    "    but might need a powerful synchronisation when situation is more complex. \n",
    "    Applications with finite resources, using semaphores is good\n",
    "\n",
    "    We can think of semaphores representing their resources as either available or unavailable \n",
    "    (they're basically counters that decrement when a resource being consumed and increment again when resource is released)\n",
    "    \n",
    "DAEMON THREADS - A daemon is typically a server that waits for client requests to service. if we set daemon flag for a thread, we're basically saying that its not critical and it's okay for a process to exit without waiting for it to finish. If your main thread is ready to exit and you don't care to wait for the child the child to finish, then set their daemon flags. entire python program stay alive untill all non-daemonic threads have exited.\n",
    "\n",
    " Multithreading for IO-bound tasks. Multiprocessing for CPU-bound tasks."
   ]
  },
  {
   "cell_type": "code",
   "execution_count": null,
   "metadata": {},
   "outputs": [],
   "source": [
    "# WITHOUT_THREADING.PY: (This will completely take 6 seconds to execute)\n",
    "from time import ctime, sleep\n",
    "\n",
    "def loop0():\n",
    "    print \"starting loop0 at: \", ctime()\n",
    "    sleep(4)\n",
    "    print \"loop 0 done at: \", ctime()\n",
    "\n",
    "def loop1():\n",
    "    print \"starting loop1 at: \", ctime()\n",
    "    sleep(2)\n",
    "    print \"loop 1 done at: \", ctime()\n",
    "\n",
    "if __name__ == \"__main__\":\n",
    "    loop0()\n",
    "    loop1()"
   ]
  },
  {
   "cell_type": "code",
   "execution_count": null,
   "metadata": {},
   "outputs": [],
   "source": [
    "#\tWITH_THREAD.PY: (This will take 4 seconds and some overhead)\n",
    "from time import ctime, sleep\n",
    "import thread\n",
    "\n",
    "def loop0(lock):\n",
    "    print \"starting loop0 at: \", ctime()\n",
    "    sleep(4)\n",
    "    print \"loop 0 done at: \", ctime()\n",
    "    lock.release()\n",
    "\n",
    "def loop1(lock):\n",
    "    print \"starting loop1 at: \", ctime()\n",
    "    sleep(2)\n",
    "    print \"loop 1 done at: \", ctime()\n",
    "    lock.release()\n",
    "\n",
    "if __name__ == \"__main__\":\n",
    "    lock0 = thread.allocate_lock()\n",
    "    lock1 = thread.allocate_lock()\n",
    "    lock0.acquire()\n",
    "    lock1.acquire()\n",
    "    print lock0, lock1\n",
    "    thread.start_new_thread(loop0, (lock0, ))\n",
    "    thread.start_new_thread(loop1, (lock1, ))\n",
    "    while lock0.locked():\n",
    "        pass\n",
    "    while lock1.locked():\n",
    "        pass"
   ]
  },
  {
   "cell_type": "markdown",
   "metadata": {},
   "source": [
    "# SOCKET PROGRAMMING"
   ]
  },
  {
   "cell_type": "markdown",
   "metadata": {},
   "source": [
    "IP address is a numerical label assigned to each device connected to a computer network.\n",
    "IPv4 - 32 bits (172.16.254.1)\n",
    "IPv6 - 128 bits (2001:db8:0:1234:0:567:8:1)\n",
    "\n",
    "To create a socket, must use the socket.socket() function which has the general syntax as:\n",
    "    socket(sockt_family, socket_type, protocol=0)\t\t\t# socket family is either AF_UNIX(local) or AF_INET(internet)\n",
    "                                # socket_type is either SOCK_STREAM(TCP-connection oriented) or SOCK_DGRAM(UDP-connection less)\n",
    "\n",
    "tcpsoc = socket.socket(socket.AF_INET, socket.SOCK_STREAM)\n",
    "udpsoc = socket.socket(socket.AF_INET, socket.SOCK_DGRAM)\n",
    "\n",
    "SETTING UP TCP SERVER/CLIENT APPLICATION"
   ]
  },
  {
   "cell_type": "code",
   "execution_count": null,
   "metadata": {},
   "outputs": [],
   "source": [
    "# SERVER.py\n",
    "\n",
    "from socket import *\n",
    "from time import ctime\n",
    "\n",
    "HOST = ''\t\t\t\t\t# '' so that it can use any available address\n",
    "PORT = 21567\t\t\t\t\t# any port to which client will point\n",
    "BUFSIZE = 1024\t\t\t\t\t# length of the data\n",
    "ADDR = (HOST, PORT)\n",
    "\n",
    "tcpSerSock = socket(AF_INET, SOCK_STREAM)\t# a TCP connection object\n",
    "tcpSerSock.bind(ADDR)\t\t\t\t# this TCP object should be bound to some address\n",
    "tcpSerSock.listen(5)\t\t\t\t# maximum number of incoming connection requestsi, no listen() call will be there in connectionless architecture \t\n",
    "\n",
    "while True:\n",
    "    print(\"waiting for a connection...\")\n",
    "    tcpCliSock, addr = tcpSerSock.accept()\t# original server socket is free to accept new client requests and new separate client socket is returned\n",
    "    print(\"connected to...: \", addr)\n",
    "\n",
    "    while True:\n",
    "        data = tcpCliSock.recv(BUFSIZE)\n",
    "        if not data:\n",
    "            break\n",
    "        tcpCliSock.send(\"[%s] %s\"% (ctime(), data))\n",
    "    tcpCliSock.close()\n",
    "tcpSerSock.close()\n",
    "\n",
    "CLIENT.py\n",
    "\n",
    "from socket import *\n",
    "\n",
    "HOST = \"localhost\"\t\t\t\t# IP on which the server is running \n",
    "PORT = 21567\t\t\t\t\t# it must be same as of the server\n",
    "BUFSIZ = 1024\n",
    "ADDR = (HOST, PORT)\n",
    "\n",
    "tcpCliSock = socket(AF_INET, SOCK_STREAM)\n",
    "tcpCliSock.connect(ADDR)\n",
    "\n",
    "while True:\n",
    "    data = raw_input(\"> \")\n",
    "    if not data:\n",
    "        break;\n",
    "    tcpCliSock.send(data)\n",
    "    data = tcpCliSock.recv(BUFSIZ)\n",
    "    if not data:\n",
    "        break\n",
    "    print(data)\n",
    "\n",
    "tcpCliSock.close()"
   ]
  },
  {
   "cell_type": "code",
   "execution_count": null,
   "metadata": {},
   "outputs": [],
   "source": [
    "# SETTING UP UDP CLIENT/SERVER APPLICATION\n",
    "# SERVER.PY\t\n",
    "\n",
    "from socket import *\n",
    "from time import ctime\n",
    "\n",
    "HOST = \"\"\n",
    "PORT = 21567\n",
    "BUFFSIZE = 1024\n",
    "ADDR = (HOST, PORT)\n",
    "\n",
    "udpSerSoc = socket(AF_INET, SOCK_DGRAM)\n",
    "udpSerSoc.bind(ADDR)\n",
    "\n",
    "while True:\n",
    "        print \"waiting for a message...\"\n",
    "        data, addr = udpSerSoc.recvfrom(BUFFSIZE)\n",
    "        udpSerSoc.sendto(\"[%s] %s\" % (ctime(), data), addr)\n",
    "        print \"received from and returned to ...\", addr\n",
    "\n",
    "udpSerSock.close()\n",
    "\n",
    "\n",
    "# CLIENT.PY\n",
    "\n",
    "from socket import *\n",
    "\n",
    "HOST = \"localhost\"\n",
    "PORT = 21567\n",
    "BUFFSIZE = 1024\n",
    "ADDR = (HOST, PORT)\n",
    "\n",
    "udpCliSock = socket(AF_INET, SOCK_DGRAM)\n",
    "\n",
    "while True:\n",
    "        data = raw_input(\">\")\n",
    "        if not data:\n",
    "        break;\n",
    "\n",
    "        udpCliSock.sendto(data, ADDR)\n",
    "        data, ADDR = udpCliSock.recvfrom(BUFFSIZE)\n",
    "        if not data:\n",
    "        break;\n",
    "        print data\n",
    "\n",
    "udpCliSock.close()"
   ]
  },
  {
   "cell_type": "markdown",
   "metadata": {},
   "source": [
    "EXTENDING PYTHON - \n",
    "Any code that can be integerated or imported into another python script can be considered as an extension. "
   ]
  },
  {
   "cell_type": "markdown",
   "metadata": {},
   "source": [
    "PYTHON-2 to PYTHON-3 - \n",
    "\tIn order to convert code from python2 to python3, One can simply use 2to3 utility.\n",
    "\t$ 2to3 foo.py\t\t\t\t\t# only output difference \n",
    "\t$ 2to3 -w foo.py\t\t\t\t# overwrites the file with python 3 code\n",
    "\n",
    "In order to check where is the source code for particular method is been written:\n",
    "    import os\n",
    "    os.__file__\n",
    "\n",
    "    import inspect\n",
    "    inspect.getfile(os)\n",
    "    inspect.getsource(os.makedirs)"
   ]
  },
  {
   "cell_type": "markdown",
   "metadata": {},
   "source": [
    "# QUESTIONS"
   ]
  },
  {
   "cell_type": "markdown",
   "metadata": {},
   "source": [
    "* Print the length of each word in sentence using map and lambda\n",
    "\t\tmap(lambda word: len(word), word.split())\n",
    "\n",
    "* Take a list of digits and return the number that they correspond to. \n",
    "\t\treduce(lambda a, b: a*10 +b , [3,4,5,6,1])\n",
    "\n",
    "* Use filter to filter out the words which starts from the target letter.\n",
    "\t\t[i for i in ['hello', 'are', 'cat', 'dog', 'ham'] if i.startswith('h')]\n",
    "\n",
    "* Use zip and list comprehension to return list of same length where each value is the two strings from L1 and L2 concatenated together with connector between them\n",
    "\t\t['-'.join(word) for word in zip(['a', 'b'], ['A', 'B'])]\n",
    "\n",
    "* Use enumerate and other skills to return a dictionary which has the values of the list as the keys and index as the value. You may assume that a value will only appear once in the given list\n",
    "\t\t[{val: idx} for idx, val in enumerate(lst)]\n",
    "\n",
    "* Return the count of the number of items in the list whose value equals to its index\n",
    "\t\t[(idx, val) for idx, val in enumerate(lst) if len(val)==idx]\n",
    "\n",
    "* Create a generator that generates the squares of numbers upto some number N:\n",
    "\tdef gen_squares(N):\n",
    "          for i in range(N):\n",
    "              yield i**2\n",
    "\n",
    "* Create a generator that yields “n” random numbers between a low and high number.\n",
    "\tdef gen_random(min_num, max_num, N):\n",
    "           for i in range(N):\n",
    "               yield random.randint(min_num, max_num)\n",
    "\t\n",
    "\tff = gen_random(10, 20, 8)\n",
    "\tfor i in ff:\n",
    "\t    print i"
   ]
  },
  {
   "cell_type": "markdown",
   "metadata": {},
   "source": [
    "# Searching Algorithms"
   ]
  },
  {
   "cell_type": "markdown",
   "metadata": {},
   "source": [
    "BINARY SEARCH"
   ]
  },
  {
   "cell_type": "code",
   "execution_count": 1,
   "metadata": {},
   "outputs": [
    {
     "name": "stdout",
     "output_type": "stream",
     "text": [
      "Element is present at index 3\n"
     ]
    }
   ],
   "source": [
    "# Returns index of x in arr if present, else -1 \n",
    "def binary_search(arr, low, high, x): \n",
    "  \n",
    "    # Check base case \n",
    "    if high >= low: \n",
    "  \n",
    "        mid = (high + low) // 2\n",
    "  \n",
    "        # If element is present at the middle itself \n",
    "        if arr[mid] == x: \n",
    "            return mid \n",
    "  \n",
    "        # If element is smaller than mid, then it can only \n",
    "        # be present in left subarray \n",
    "        elif arr[mid] > x: \n",
    "            return binary_search(arr, low, mid - 1, x) \n",
    "  \n",
    "        # Else the element can only be present in right subarray \n",
    "        else: \n",
    "            return binary_search(arr, mid + 1, high, x) \n",
    "  \n",
    "    else: \n",
    "        # Element is not present in the array \n",
    "        return -1\n",
    "  \n",
    "# Test array \n",
    "arr = [ 2, 3, 4, 10, 40 ] \n",
    "x = 10\n",
    "  \n",
    "# Function call \n",
    "result = binary_search(arr, 0, len(arr)-1, x) \n",
    "  \n",
    "if result != -1: \n",
    "    print(\"Element is present at index\", str(result)) \n",
    "else: \n",
    "    print(\"Element is not present in array\") "
   ]
  },
  {
   "cell_type": "code",
   "execution_count": null,
   "metadata": {},
   "outputs": [],
   "source": []
  }
 ],
 "metadata": {
  "kernelspec": {
   "display_name": "Python 3",
   "language": "python",
   "name": "python3"
  },
  "language_info": {
   "codemirror_mode": {
    "name": "ipython",
    "version": 3
   },
   "file_extension": ".py",
   "mimetype": "text/x-python",
   "name": "python",
   "nbconvert_exporter": "python",
   "pygments_lexer": "ipython3",
   "version": "3.8.3"
  }
 },
 "nbformat": 4,
 "nbformat_minor": 4
}
